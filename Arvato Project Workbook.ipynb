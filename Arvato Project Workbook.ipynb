{
 "cells": [
  {
   "cell_type": "markdown",
   "metadata": {},
   "source": [
    "# Capstone Project: Create a Customer Segmentation Report for Arvato Financial Services\n",
    "\n",
    "In this project, you will analyze demographics data for customers of a mail-order sales company in Germany, comparing it against demographics information for the general population. You'll use unsupervised learning techniques to perform customer segmentation, identifying the parts of the population that best describe the core customer base of the company. Then, you'll apply what you've learned on a third dataset with demographics information for targets of a marketing campaign for the company, and use a model to predict which individuals are most likely to convert into becoming customers for the company. The data that you will use has been provided by our partners at Bertelsmann Arvato Analytics, and represents a real-life data science task.\n",
    "\n",
    "If you completed the first term of this program, you will be familiar with the first part of this project, from the unsupervised learning project. The versions of those two datasets used in this project will include many more features and has not been pre-cleaned. You are also free to choose whatever approach you'd like to analyzing the data rather than follow pre-determined steps. In your work on this project, make sure that you carefully document your steps and decisions, since your main deliverable for this project will be a blog post reporting your findings."
   ]
  },
  {
   "cell_type": "code",
   "execution_count": 95,
   "metadata": {},
   "outputs": [],
   "source": [
    "# import libraries here; add more as necessary\n",
    "import numpy as np\n",
    "import pandas as pd\n",
    "import matplotlib.pyplot as plt\n",
    "import seaborn as sns\n",
    "\n",
    "# magic word for producing visualizations in notebook\n",
    "%matplotlib inline"
   ]
  },
  {
   "cell_type": "markdown",
   "metadata": {},
   "source": [
    "## Part 0: Get to Know the Data\n",
    "\n",
    "There are four data files associated with this project:\n",
    "\n",
    "- `Udacity_AZDIAS_052018.csv`: Demographics data for the general population of Germany; 891 211 persons (rows) x 366 features (columns).\n",
    "- `Udacity_CUSTOMERS_052018.csv`: Demographics data for customers of a mail-order company; 191 652 persons (rows) x 369 features (columns).\n",
    "- `Udacity_MAILOUT_052018_TRAIN.csv`: Demographics data for individuals who were targets of a marketing campaign; 42 982 persons (rows) x 367 (columns).\n",
    "- `Udacity_MAILOUT_052018_TEST.csv`: Demographics data for individuals who were targets of a marketing campaign; 42 833 persons (rows) x 366 (columns).\n",
    "\n",
    "Each row of the demographics files represents a single person, but also includes information outside of individuals, including information about their household, building, and neighborhood. Use the information from the first two files to figure out how customers (\"CUSTOMERS\") are similar to or differ from the general population at large (\"AZDIAS\"), then use your analysis to make predictions on the other two files (\"MAILOUT\"), predicting which recipients are most likely to become a customer for the mail-order company.\n",
    "\n",
    "The \"CUSTOMERS\" file contains three extra columns ('CUSTOMER_GROUP', 'ONLINE_PURCHASE', and 'PRODUCT_GROUP'), which provide broad information about the customers depicted in the file. The original \"MAILOUT\" file included one additional column, \"RESPONSE\", which indicated whether or not each recipient became a customer of the company. For the \"TRAIN\" subset, this column has been retained, but in the \"TEST\" subset it has been removed; it is against that withheld column that your final predictions will be assessed in the Kaggle competition.\n",
    "\n",
    "Otherwise, all of the remaining columns are the same between the three data files. For more information about the columns depicted in the files, you can refer to two Excel spreadsheets provided in the workspace. [One of them](./DIAS Information Levels - Attributes 2017.xlsx) is a top-level list of attributes and descriptions, organized by informational category. [The other](./DIAS Attributes - Values 2017.xlsx) is a detailed mapping of data values for each feature in alphabetical order.\n",
    "\n",
    "In the below cell, we've provided some initial code to load in the first two datasets. Note for all of the `.csv` data files in this project that they're semicolon (`;`) delimited, so an additional argument in the [`read_csv()`](https://pandas.pydata.org/pandas-docs/stable/generated/pandas.read_csv.html) call has been included to read in the data properly. Also, considering the size of the datasets, it may take some time for them to load completely.\n",
    "\n",
    "You'll notice when the data is loaded in that a warning message will immediately pop up. Before you really start digging into the modeling and analysis, you're going to need to perform some cleaning. Take some time to browse the structure of the data and look over the informational spreadsheets to understand the data values. Make some decisions on which features to keep, which features to drop, and if any revisions need to be made on data formats. It'll be a good idea to create a function with pre-processing steps, since you'll need to clean all of the datasets before you work with them."
   ]
  },
  {
   "cell_type": "code",
   "execution_count": 96,
   "metadata": {},
   "outputs": [
    {
     "name": "stderr",
     "output_type": "stream",
     "text": [
      "c:\\program files\\python3\\lib\\site-packages\\IPython\\core\\interactiveshell.py:2785: DtypeWarning: Columns (18,19) have mixed types. Specify dtype option on import or set low_memory=False.\n",
      "  interactivity=interactivity, compiler=compiler, result=result)\n"
     ]
    }
   ],
   "source": [
    "# load in the data\n",
    "azdias = pd.read_csv('./data/Term2/capstone/arvato_data/Udacity_AZDIAS_052018.csv', sep=';')\n",
    "customers = pd.read_csv('./data/Term2/capstone/arvato_data/Udacity_CUSTOMERS_052018.csv', sep=';')"
   ]
  },
  {
   "cell_type": "code",
   "execution_count": 97,
   "metadata": {},
   "outputs": [
    {
     "data": {
      "text/html": [
       "<div>\n",
       "<style scoped>\n",
       "    .dataframe tbody tr th:only-of-type {\n",
       "        vertical-align: middle;\n",
       "    }\n",
       "\n",
       "    .dataframe tbody tr th {\n",
       "        vertical-align: top;\n",
       "    }\n",
       "\n",
       "    .dataframe thead th {\n",
       "        text-align: right;\n",
       "    }\n",
       "</style>\n",
       "<table border=\"1\" class=\"dataframe\">\n",
       "  <thead>\n",
       "    <tr style=\"text-align: right;\">\n",
       "      <th></th>\n",
       "      <th>LNR</th>\n",
       "      <th>AGER_TYP</th>\n",
       "      <th>AKT_DAT_KL</th>\n",
       "      <th>ALTER_HH</th>\n",
       "      <th>ALTER_KIND1</th>\n",
       "      <th>ALTER_KIND2</th>\n",
       "      <th>ALTER_KIND3</th>\n",
       "      <th>ALTER_KIND4</th>\n",
       "      <th>ALTERSKATEGORIE_FEIN</th>\n",
       "      <th>ANZ_HAUSHALTE_AKTIV</th>\n",
       "      <th>...</th>\n",
       "      <th>VHN</th>\n",
       "      <th>VK_DHT4A</th>\n",
       "      <th>VK_DISTANZ</th>\n",
       "      <th>VK_ZG11</th>\n",
       "      <th>W_KEIT_KIND_HH</th>\n",
       "      <th>WOHNDAUER_2008</th>\n",
       "      <th>WOHNLAGE</th>\n",
       "      <th>ZABEOTYP</th>\n",
       "      <th>ANREDE_KZ</th>\n",
       "      <th>ALTERSKATEGORIE_GROB</th>\n",
       "    </tr>\n",
       "  </thead>\n",
       "  <tbody>\n",
       "    <tr>\n",
       "      <th>0</th>\n",
       "      <td>910215</td>\n",
       "      <td>-1</td>\n",
       "      <td>NaN</td>\n",
       "      <td>NaN</td>\n",
       "      <td>NaN</td>\n",
       "      <td>NaN</td>\n",
       "      <td>NaN</td>\n",
       "      <td>NaN</td>\n",
       "      <td>NaN</td>\n",
       "      <td>NaN</td>\n",
       "      <td>...</td>\n",
       "      <td>NaN</td>\n",
       "      <td>NaN</td>\n",
       "      <td>NaN</td>\n",
       "      <td>NaN</td>\n",
       "      <td>NaN</td>\n",
       "      <td>NaN</td>\n",
       "      <td>NaN</td>\n",
       "      <td>3</td>\n",
       "      <td>1</td>\n",
       "      <td>2</td>\n",
       "    </tr>\n",
       "    <tr>\n",
       "      <th>1</th>\n",
       "      <td>910220</td>\n",
       "      <td>-1</td>\n",
       "      <td>9.0</td>\n",
       "      <td>0.0</td>\n",
       "      <td>NaN</td>\n",
       "      <td>NaN</td>\n",
       "      <td>NaN</td>\n",
       "      <td>NaN</td>\n",
       "      <td>21.0</td>\n",
       "      <td>11.0</td>\n",
       "      <td>...</td>\n",
       "      <td>4.0</td>\n",
       "      <td>8.0</td>\n",
       "      <td>11.0</td>\n",
       "      <td>10.0</td>\n",
       "      <td>3.0</td>\n",
       "      <td>9.0</td>\n",
       "      <td>4.0</td>\n",
       "      <td>5</td>\n",
       "      <td>2</td>\n",
       "      <td>1</td>\n",
       "    </tr>\n",
       "    <tr>\n",
       "      <th>2</th>\n",
       "      <td>910225</td>\n",
       "      <td>-1</td>\n",
       "      <td>9.0</td>\n",
       "      <td>17.0</td>\n",
       "      <td>NaN</td>\n",
       "      <td>NaN</td>\n",
       "      <td>NaN</td>\n",
       "      <td>NaN</td>\n",
       "      <td>17.0</td>\n",
       "      <td>10.0</td>\n",
       "      <td>...</td>\n",
       "      <td>2.0</td>\n",
       "      <td>9.0</td>\n",
       "      <td>9.0</td>\n",
       "      <td>6.0</td>\n",
       "      <td>3.0</td>\n",
       "      <td>9.0</td>\n",
       "      <td>2.0</td>\n",
       "      <td>5</td>\n",
       "      <td>2</td>\n",
       "      <td>3</td>\n",
       "    </tr>\n",
       "    <tr>\n",
       "      <th>3</th>\n",
       "      <td>910226</td>\n",
       "      <td>2</td>\n",
       "      <td>1.0</td>\n",
       "      <td>13.0</td>\n",
       "      <td>NaN</td>\n",
       "      <td>NaN</td>\n",
       "      <td>NaN</td>\n",
       "      <td>NaN</td>\n",
       "      <td>13.0</td>\n",
       "      <td>1.0</td>\n",
       "      <td>...</td>\n",
       "      <td>0.0</td>\n",
       "      <td>7.0</td>\n",
       "      <td>10.0</td>\n",
       "      <td>11.0</td>\n",
       "      <td>NaN</td>\n",
       "      <td>9.0</td>\n",
       "      <td>7.0</td>\n",
       "      <td>3</td>\n",
       "      <td>2</td>\n",
       "      <td>4</td>\n",
       "    </tr>\n",
       "    <tr>\n",
       "      <th>4</th>\n",
       "      <td>910241</td>\n",
       "      <td>-1</td>\n",
       "      <td>1.0</td>\n",
       "      <td>20.0</td>\n",
       "      <td>NaN</td>\n",
       "      <td>NaN</td>\n",
       "      <td>NaN</td>\n",
       "      <td>NaN</td>\n",
       "      <td>14.0</td>\n",
       "      <td>3.0</td>\n",
       "      <td>...</td>\n",
       "      <td>2.0</td>\n",
       "      <td>3.0</td>\n",
       "      <td>5.0</td>\n",
       "      <td>4.0</td>\n",
       "      <td>2.0</td>\n",
       "      <td>9.0</td>\n",
       "      <td>3.0</td>\n",
       "      <td>4</td>\n",
       "      <td>1</td>\n",
       "      <td>3</td>\n",
       "    </tr>\n",
       "  </tbody>\n",
       "</table>\n",
       "<p>5 rows × 366 columns</p>\n",
       "</div>"
      ],
      "text/plain": [
       "      LNR  AGER_TYP  AKT_DAT_KL  ALTER_HH  ALTER_KIND1  ALTER_KIND2  \\\n",
       "0  910215        -1         NaN       NaN          NaN          NaN   \n",
       "1  910220        -1         9.0       0.0          NaN          NaN   \n",
       "2  910225        -1         9.0      17.0          NaN          NaN   \n",
       "3  910226         2         1.0      13.0          NaN          NaN   \n",
       "4  910241        -1         1.0      20.0          NaN          NaN   \n",
       "\n",
       "   ALTER_KIND3  ALTER_KIND4  ALTERSKATEGORIE_FEIN  ANZ_HAUSHALTE_AKTIV  \\\n",
       "0          NaN          NaN                   NaN                  NaN   \n",
       "1          NaN          NaN                  21.0                 11.0   \n",
       "2          NaN          NaN                  17.0                 10.0   \n",
       "3          NaN          NaN                  13.0                  1.0   \n",
       "4          NaN          NaN                  14.0                  3.0   \n",
       "\n",
       "          ...           VHN  VK_DHT4A  VK_DISTANZ  VK_ZG11  W_KEIT_KIND_HH  \\\n",
       "0         ...           NaN       NaN         NaN      NaN             NaN   \n",
       "1         ...           4.0       8.0        11.0     10.0             3.0   \n",
       "2         ...           2.0       9.0         9.0      6.0             3.0   \n",
       "3         ...           0.0       7.0        10.0     11.0             NaN   \n",
       "4         ...           2.0       3.0         5.0      4.0             2.0   \n",
       "\n",
       "   WOHNDAUER_2008  WOHNLAGE ZABEOTYP ANREDE_KZ ALTERSKATEGORIE_GROB  \n",
       "0             NaN       NaN        3         1                    2  \n",
       "1             9.0       4.0        5         2                    1  \n",
       "2             9.0       2.0        5         2                    3  \n",
       "3             9.0       7.0        3         2                    4  \n",
       "4             9.0       3.0        4         1                    3  \n",
       "\n",
       "[5 rows x 366 columns]"
      ]
     },
     "execution_count": 97,
     "metadata": {},
     "output_type": "execute_result"
    }
   ],
   "source": [
    "azdias.head()"
   ]
  },
  {
   "cell_type": "code",
   "execution_count": 98,
   "metadata": {},
   "outputs": [
    {
     "data": {
      "text/html": [
       "<div>\n",
       "<style scoped>\n",
       "    .dataframe tbody tr th:only-of-type {\n",
       "        vertical-align: middle;\n",
       "    }\n",
       "\n",
       "    .dataframe tbody tr th {\n",
       "        vertical-align: top;\n",
       "    }\n",
       "\n",
       "    .dataframe thead th {\n",
       "        text-align: right;\n",
       "    }\n",
       "</style>\n",
       "<table border=\"1\" class=\"dataframe\">\n",
       "  <thead>\n",
       "    <tr style=\"text-align: right;\">\n",
       "      <th></th>\n",
       "      <th>LNR</th>\n",
       "      <th>AGER_TYP</th>\n",
       "      <th>AKT_DAT_KL</th>\n",
       "      <th>ALTER_HH</th>\n",
       "      <th>ALTER_KIND1</th>\n",
       "      <th>ALTER_KIND2</th>\n",
       "      <th>ALTER_KIND3</th>\n",
       "      <th>ALTER_KIND4</th>\n",
       "      <th>ALTERSKATEGORIE_FEIN</th>\n",
       "      <th>ANZ_HAUSHALTE_AKTIV</th>\n",
       "      <th>...</th>\n",
       "      <th>VK_ZG11</th>\n",
       "      <th>W_KEIT_KIND_HH</th>\n",
       "      <th>WOHNDAUER_2008</th>\n",
       "      <th>WOHNLAGE</th>\n",
       "      <th>ZABEOTYP</th>\n",
       "      <th>PRODUCT_GROUP</th>\n",
       "      <th>CUSTOMER_GROUP</th>\n",
       "      <th>ONLINE_PURCHASE</th>\n",
       "      <th>ANREDE_KZ</th>\n",
       "      <th>ALTERSKATEGORIE_GROB</th>\n",
       "    </tr>\n",
       "  </thead>\n",
       "  <tbody>\n",
       "    <tr>\n",
       "      <th>0</th>\n",
       "      <td>9626</td>\n",
       "      <td>2</td>\n",
       "      <td>1.0</td>\n",
       "      <td>10.0</td>\n",
       "      <td>NaN</td>\n",
       "      <td>NaN</td>\n",
       "      <td>NaN</td>\n",
       "      <td>NaN</td>\n",
       "      <td>10.0</td>\n",
       "      <td>1.0</td>\n",
       "      <td>...</td>\n",
       "      <td>2.0</td>\n",
       "      <td>6.0</td>\n",
       "      <td>9.0</td>\n",
       "      <td>7.0</td>\n",
       "      <td>3</td>\n",
       "      <td>COSMETIC_AND_FOOD</td>\n",
       "      <td>MULTI_BUYER</td>\n",
       "      <td>0</td>\n",
       "      <td>1</td>\n",
       "      <td>4</td>\n",
       "    </tr>\n",
       "    <tr>\n",
       "      <th>1</th>\n",
       "      <td>9628</td>\n",
       "      <td>-1</td>\n",
       "      <td>9.0</td>\n",
       "      <td>11.0</td>\n",
       "      <td>NaN</td>\n",
       "      <td>NaN</td>\n",
       "      <td>NaN</td>\n",
       "      <td>NaN</td>\n",
       "      <td>NaN</td>\n",
       "      <td>NaN</td>\n",
       "      <td>...</td>\n",
       "      <td>3.0</td>\n",
       "      <td>0.0</td>\n",
       "      <td>9.0</td>\n",
       "      <td>NaN</td>\n",
       "      <td>3</td>\n",
       "      <td>FOOD</td>\n",
       "      <td>SINGLE_BUYER</td>\n",
       "      <td>0</td>\n",
       "      <td>1</td>\n",
       "      <td>4</td>\n",
       "    </tr>\n",
       "    <tr>\n",
       "      <th>2</th>\n",
       "      <td>143872</td>\n",
       "      <td>-1</td>\n",
       "      <td>1.0</td>\n",
       "      <td>6.0</td>\n",
       "      <td>NaN</td>\n",
       "      <td>NaN</td>\n",
       "      <td>NaN</td>\n",
       "      <td>NaN</td>\n",
       "      <td>0.0</td>\n",
       "      <td>1.0</td>\n",
       "      <td>...</td>\n",
       "      <td>11.0</td>\n",
       "      <td>6.0</td>\n",
       "      <td>9.0</td>\n",
       "      <td>2.0</td>\n",
       "      <td>3</td>\n",
       "      <td>COSMETIC_AND_FOOD</td>\n",
       "      <td>MULTI_BUYER</td>\n",
       "      <td>0</td>\n",
       "      <td>2</td>\n",
       "      <td>4</td>\n",
       "    </tr>\n",
       "    <tr>\n",
       "      <th>3</th>\n",
       "      <td>143873</td>\n",
       "      <td>1</td>\n",
       "      <td>1.0</td>\n",
       "      <td>8.0</td>\n",
       "      <td>NaN</td>\n",
       "      <td>NaN</td>\n",
       "      <td>NaN</td>\n",
       "      <td>NaN</td>\n",
       "      <td>8.0</td>\n",
       "      <td>0.0</td>\n",
       "      <td>...</td>\n",
       "      <td>2.0</td>\n",
       "      <td>NaN</td>\n",
       "      <td>9.0</td>\n",
       "      <td>7.0</td>\n",
       "      <td>1</td>\n",
       "      <td>COSMETIC</td>\n",
       "      <td>MULTI_BUYER</td>\n",
       "      <td>0</td>\n",
       "      <td>1</td>\n",
       "      <td>4</td>\n",
       "    </tr>\n",
       "    <tr>\n",
       "      <th>4</th>\n",
       "      <td>143874</td>\n",
       "      <td>-1</td>\n",
       "      <td>1.0</td>\n",
       "      <td>20.0</td>\n",
       "      <td>NaN</td>\n",
       "      <td>NaN</td>\n",
       "      <td>NaN</td>\n",
       "      <td>NaN</td>\n",
       "      <td>14.0</td>\n",
       "      <td>7.0</td>\n",
       "      <td>...</td>\n",
       "      <td>4.0</td>\n",
       "      <td>2.0</td>\n",
       "      <td>9.0</td>\n",
       "      <td>3.0</td>\n",
       "      <td>1</td>\n",
       "      <td>FOOD</td>\n",
       "      <td>MULTI_BUYER</td>\n",
       "      <td>0</td>\n",
       "      <td>1</td>\n",
       "      <td>3</td>\n",
       "    </tr>\n",
       "  </tbody>\n",
       "</table>\n",
       "<p>5 rows × 369 columns</p>\n",
       "</div>"
      ],
      "text/plain": [
       "      LNR  AGER_TYP  AKT_DAT_KL  ALTER_HH  ALTER_KIND1  ALTER_KIND2  \\\n",
       "0    9626         2         1.0      10.0          NaN          NaN   \n",
       "1    9628        -1         9.0      11.0          NaN          NaN   \n",
       "2  143872        -1         1.0       6.0          NaN          NaN   \n",
       "3  143873         1         1.0       8.0          NaN          NaN   \n",
       "4  143874        -1         1.0      20.0          NaN          NaN   \n",
       "\n",
       "   ALTER_KIND3  ALTER_KIND4  ALTERSKATEGORIE_FEIN  ANZ_HAUSHALTE_AKTIV  \\\n",
       "0          NaN          NaN                  10.0                  1.0   \n",
       "1          NaN          NaN                   NaN                  NaN   \n",
       "2          NaN          NaN                   0.0                  1.0   \n",
       "3          NaN          NaN                   8.0                  0.0   \n",
       "4          NaN          NaN                  14.0                  7.0   \n",
       "\n",
       "          ...           VK_ZG11  W_KEIT_KIND_HH  WOHNDAUER_2008  WOHNLAGE  \\\n",
       "0         ...               2.0             6.0             9.0       7.0   \n",
       "1         ...               3.0             0.0             9.0       NaN   \n",
       "2         ...              11.0             6.0             9.0       2.0   \n",
       "3         ...               2.0             NaN             9.0       7.0   \n",
       "4         ...               4.0             2.0             9.0       3.0   \n",
       "\n",
       "   ZABEOTYP      PRODUCT_GROUP  CUSTOMER_GROUP ONLINE_PURCHASE ANREDE_KZ  \\\n",
       "0         3  COSMETIC_AND_FOOD     MULTI_BUYER               0         1   \n",
       "1         3               FOOD    SINGLE_BUYER               0         1   \n",
       "2         3  COSMETIC_AND_FOOD     MULTI_BUYER               0         2   \n",
       "3         1           COSMETIC     MULTI_BUYER               0         1   \n",
       "4         1               FOOD     MULTI_BUYER               0         1   \n",
       "\n",
       "  ALTERSKATEGORIE_GROB  \n",
       "0                    4  \n",
       "1                    4  \n",
       "2                    4  \n",
       "3                    4  \n",
       "4                    3  \n",
       "\n",
       "[5 rows x 369 columns]"
      ]
     },
     "execution_count": 98,
     "metadata": {},
     "output_type": "execute_result"
    }
   ],
   "source": [
    "customers.head()"
   ]
  },
  {
   "cell_type": "code",
   "execution_count": 99,
   "metadata": {},
   "outputs": [
    {
     "data": {
      "text/plain": [
       "set()"
      ]
     },
     "execution_count": 99,
     "metadata": {},
     "output_type": "execute_result"
    }
   ],
   "source": [
    "set(azdias.columns)-set(customers.columns)"
   ]
  },
  {
   "cell_type": "code",
   "execution_count": 100,
   "metadata": {},
   "outputs": [
    {
     "data": {
      "text/plain": [
       "{'CUSTOMER_GROUP', 'ONLINE_PURCHASE', 'PRODUCT_GROUP'}"
      ]
     },
     "execution_count": 100,
     "metadata": {},
     "output_type": "execute_result"
    }
   ],
   "source": [
    "set(customers.columns)-set(azdias.columns)"
   ]
  },
  {
   "cell_type": "markdown",
   "metadata": {},
   "source": [
    "The customers table has three more fields."
   ]
  },
  {
   "cell_type": "code",
   "execution_count": 101,
   "metadata": {},
   "outputs": [],
   "source": [
    "# drop these three features\n",
    "my_customers=customers.drop(labels=['CUSTOMER_GROUP', 'ONLINE_PURCHASE', 'PRODUCT_GROUP'],axis=1)"
   ]
  },
  {
   "cell_type": "code",
   "execution_count": 102,
   "metadata": {
    "scrolled": true
   },
   "outputs": [],
   "source": [
    "DIAS_attributes= pd.read_excel(\"DIAS Attributes - Values 2017.xlsx\")"
   ]
  },
  {
   "cell_type": "code",
   "execution_count": 103,
   "metadata": {},
   "outputs": [
    {
     "data": {
      "text/plain": [
       "(2258, 5)"
      ]
     },
     "execution_count": 103,
     "metadata": {},
     "output_type": "execute_result"
    }
   ],
   "source": [
    "DIAS_attributes.shape"
   ]
  },
  {
   "cell_type": "code",
   "execution_count": 104,
   "metadata": {},
   "outputs": [],
   "source": [
    " DIAS_info=pd.read_excel(\"DIAS Information Levels - Attributes 2017.xlsx\")"
   ]
  },
  {
   "cell_type": "code",
   "execution_count": 105,
   "metadata": {},
   "outputs": [
    {
     "data": {
      "text/html": [
       "<div>\n",
       "<style scoped>\n",
       "    .dataframe tbody tr th:only-of-type {\n",
       "        vertical-align: middle;\n",
       "    }\n",
       "\n",
       "    .dataframe tbody tr th {\n",
       "        vertical-align: top;\n",
       "    }\n",
       "\n",
       "    .dataframe thead th {\n",
       "        text-align: right;\n",
       "    }\n",
       "</style>\n",
       "<table border=\"1\" class=\"dataframe\">\n",
       "  <thead>\n",
       "    <tr style=\"text-align: right;\">\n",
       "      <th></th>\n",
       "      <th>Unnamed: 0</th>\n",
       "      <th>Attribute</th>\n",
       "      <th>Description</th>\n",
       "      <th>Value</th>\n",
       "      <th>Meaning</th>\n",
       "    </tr>\n",
       "  </thead>\n",
       "  <tbody>\n",
       "    <tr>\n",
       "      <th>0</th>\n",
       "      <td>NaN</td>\n",
       "      <td>AGER_TYP</td>\n",
       "      <td>best-ager typology</td>\n",
       "      <td>-1</td>\n",
       "      <td>unknown</td>\n",
       "    </tr>\n",
       "    <tr>\n",
       "      <th>1</th>\n",
       "      <td>NaN</td>\n",
       "      <td>NaN</td>\n",
       "      <td>NaN</td>\n",
       "      <td>0</td>\n",
       "      <td>no classification possible</td>\n",
       "    </tr>\n",
       "    <tr>\n",
       "      <th>2</th>\n",
       "      <td>NaN</td>\n",
       "      <td>NaN</td>\n",
       "      <td>NaN</td>\n",
       "      <td>1</td>\n",
       "      <td>passive elderly</td>\n",
       "    </tr>\n",
       "    <tr>\n",
       "      <th>3</th>\n",
       "      <td>NaN</td>\n",
       "      <td>NaN</td>\n",
       "      <td>NaN</td>\n",
       "      <td>2</td>\n",
       "      <td>cultural elderly</td>\n",
       "    </tr>\n",
       "    <tr>\n",
       "      <th>4</th>\n",
       "      <td>NaN</td>\n",
       "      <td>NaN</td>\n",
       "      <td>NaN</td>\n",
       "      <td>3</td>\n",
       "      <td>experience-driven elderly</td>\n",
       "    </tr>\n",
       "  </tbody>\n",
       "</table>\n",
       "</div>"
      ],
      "text/plain": [
       "   Unnamed: 0 Attribute         Description Value                     Meaning\n",
       "0         NaN  AGER_TYP  best-ager typology    -1                     unknown\n",
       "1         NaN       NaN                 NaN     0  no classification possible\n",
       "2         NaN       NaN                 NaN     1             passive elderly\n",
       "3         NaN       NaN                 NaN     2            cultural elderly\n",
       "4         NaN       NaN                 NaN     3   experience-driven elderly"
      ]
     },
     "execution_count": 105,
     "metadata": {},
     "output_type": "execute_result"
    }
   ],
   "source": [
    "# Mark nan from the azdias data\n",
    "DIAS_attributes.head()"
   ]
  },
  {
   "cell_type": "code",
   "execution_count": 106,
   "metadata": {},
   "outputs": [],
   "source": [
    "DIAS_attributes.drop(['Unnamed: 0'],axis=1,inplace=True)"
   ]
  },
  {
   "cell_type": "code",
   "execution_count": 107,
   "metadata": {},
   "outputs": [],
   "source": [
    "if 'Attribute' in DIAS_attributes.iloc[0][0]:\n",
    "    DIAS_attributes.drop(index=[0],axis=0,inplace=True)"
   ]
  },
  {
   "cell_type": "code",
   "execution_count": 108,
   "metadata": {},
   "outputs": [
    {
     "data": {
      "text/html": [
       "<div>\n",
       "<style scoped>\n",
       "    .dataframe tbody tr th:only-of-type {\n",
       "        vertical-align: middle;\n",
       "    }\n",
       "\n",
       "    .dataframe tbody tr th {\n",
       "        vertical-align: top;\n",
       "    }\n",
       "\n",
       "    .dataframe thead th {\n",
       "        text-align: right;\n",
       "    }\n",
       "</style>\n",
       "<table border=\"1\" class=\"dataframe\">\n",
       "  <thead>\n",
       "    <tr style=\"text-align: right;\">\n",
       "      <th></th>\n",
       "      <th>Attribute</th>\n",
       "      <th>Description</th>\n",
       "      <th>Value</th>\n",
       "      <th>Meaning</th>\n",
       "    </tr>\n",
       "  </thead>\n",
       "  <tbody>\n",
       "    <tr>\n",
       "      <th>0</th>\n",
       "      <td>AGER_TYP</td>\n",
       "      <td>best-ager typology</td>\n",
       "      <td>-1</td>\n",
       "      <td>unknown</td>\n",
       "    </tr>\n",
       "    <tr>\n",
       "      <th>1</th>\n",
       "      <td>NaN</td>\n",
       "      <td>NaN</td>\n",
       "      <td>0</td>\n",
       "      <td>no classification possible</td>\n",
       "    </tr>\n",
       "    <tr>\n",
       "      <th>2</th>\n",
       "      <td>NaN</td>\n",
       "      <td>NaN</td>\n",
       "      <td>1</td>\n",
       "      <td>passive elderly</td>\n",
       "    </tr>\n",
       "    <tr>\n",
       "      <th>3</th>\n",
       "      <td>NaN</td>\n",
       "      <td>NaN</td>\n",
       "      <td>2</td>\n",
       "      <td>cultural elderly</td>\n",
       "    </tr>\n",
       "    <tr>\n",
       "      <th>4</th>\n",
       "      <td>NaN</td>\n",
       "      <td>NaN</td>\n",
       "      <td>3</td>\n",
       "      <td>experience-driven elderly</td>\n",
       "    </tr>\n",
       "  </tbody>\n",
       "</table>\n",
       "</div>"
      ],
      "text/plain": [
       "  Attribute         Description Value                     Meaning\n",
       "0  AGER_TYP  best-ager typology    -1                     unknown\n",
       "1       NaN                 NaN     0  no classification possible\n",
       "2       NaN                 NaN     1             passive elderly\n",
       "3       NaN                 NaN     2            cultural elderly\n",
       "4       NaN                 NaN     3   experience-driven elderly"
      ]
     },
     "execution_count": 108,
     "metadata": {},
     "output_type": "execute_result"
    }
   ],
   "source": [
    "DIAS_attributes.head()"
   ]
  },
  {
   "cell_type": "code",
   "execution_count": 109,
   "metadata": {},
   "outputs": [],
   "source": [
    "DIAS_attributes.columns = ['Attribute','Description','Value','Meaning']"
   ]
  },
  {
   "cell_type": "code",
   "execution_count": 110,
   "metadata": {},
   "outputs": [],
   "source": [
    "attribute_name=''\n",
    "# description_name=''\n",
    "for i,v in DIAS_attributes.iterrows():\n",
    "    if v['Attribute'] is np.nan:\n",
    "        v['Attribute']=attribute_name\n",
    "    else:\n",
    "        attribute_name=v['Attribute']\n",
    "#     if v['Description'] is np.nan:\n",
    "#         v['Description']=description_name\n",
    "#     else:\n",
    "#         description_name=v['Description']"
   ]
  },
  {
   "cell_type": "code",
   "execution_count": 111,
   "metadata": {},
   "outputs": [
    {
     "data": {
      "text/html": [
       "<div>\n",
       "<style scoped>\n",
       "    .dataframe tbody tr th:only-of-type {\n",
       "        vertical-align: middle;\n",
       "    }\n",
       "\n",
       "    .dataframe tbody tr th {\n",
       "        vertical-align: top;\n",
       "    }\n",
       "\n",
       "    .dataframe thead th {\n",
       "        text-align: right;\n",
       "    }\n",
       "</style>\n",
       "<table border=\"1\" class=\"dataframe\">\n",
       "  <thead>\n",
       "    <tr style=\"text-align: right;\">\n",
       "      <th></th>\n",
       "      <th>Attribute</th>\n",
       "      <th>Description</th>\n",
       "      <th>Value</th>\n",
       "      <th>Meaning</th>\n",
       "    </tr>\n",
       "  </thead>\n",
       "  <tbody>\n",
       "    <tr>\n",
       "      <th>0</th>\n",
       "      <td>AGER_TYP</td>\n",
       "      <td>best-ager typology</td>\n",
       "      <td>-1</td>\n",
       "      <td>unknown</td>\n",
       "    </tr>\n",
       "    <tr>\n",
       "      <th>1</th>\n",
       "      <td>AGER_TYP</td>\n",
       "      <td>NaN</td>\n",
       "      <td>0</td>\n",
       "      <td>no classification possible</td>\n",
       "    </tr>\n",
       "    <tr>\n",
       "      <th>2</th>\n",
       "      <td>AGER_TYP</td>\n",
       "      <td>NaN</td>\n",
       "      <td>1</td>\n",
       "      <td>passive elderly</td>\n",
       "    </tr>\n",
       "    <tr>\n",
       "      <th>3</th>\n",
       "      <td>AGER_TYP</td>\n",
       "      <td>NaN</td>\n",
       "      <td>2</td>\n",
       "      <td>cultural elderly</td>\n",
       "    </tr>\n",
       "    <tr>\n",
       "      <th>4</th>\n",
       "      <td>AGER_TYP</td>\n",
       "      <td>NaN</td>\n",
       "      <td>3</td>\n",
       "      <td>experience-driven elderly</td>\n",
       "    </tr>\n",
       "  </tbody>\n",
       "</table>\n",
       "</div>"
      ],
      "text/plain": [
       "  Attribute         Description Value                     Meaning\n",
       "0  AGER_TYP  best-ager typology    -1                     unknown\n",
       "1  AGER_TYP                 NaN     0  no classification possible\n",
       "2  AGER_TYP                 NaN     1             passive elderly\n",
       "3  AGER_TYP                 NaN     2            cultural elderly\n",
       "4  AGER_TYP                 NaN     3   experience-driven elderly"
      ]
     },
     "execution_count": 111,
     "metadata": {},
     "output_type": "execute_result"
    }
   ],
   "source": [
    "DIAS_attributes.head()"
   ]
  },
  {
   "cell_type": "code",
   "execution_count": 112,
   "metadata": {},
   "outputs": [],
   "source": [
    "missing_attribute_value_list=[]\n",
    "for i,v in DIAS_attributes.iterrows():\n",
    "    if v['Meaning'] is not np.nan:\n",
    "        if 'unknown' in v['Meaning']:\n",
    "            missing_attribute_value_list.append([v['Attribute'],v['Value'],v['Meaning']])"
   ]
  },
  {
   "cell_type": "code",
   "execution_count": 113,
   "metadata": {},
   "outputs": [],
   "source": [
    "numerical_attribute=set()\n",
    "for i,v in DIAS_attributes.iterrows():\n",
    "    if v['Meaning'] is not np.nan:\n",
    "        if 'numeric' in v['Meaning']:\n",
    "            numerical_attribute.add(v['Attribute'])"
   ]
  },
  {
   "cell_type": "code",
   "execution_count": 114,
   "metadata": {},
   "outputs": [
    {
     "name": "stdout",
     "output_type": "stream",
     "text": [
      "{'ANZ_HAUSHALTE_AKTIV', 'ANZ_HH_TITEL', 'GEBURTSJAHR', 'ANZ_PERSONEN', 'KBA13_ANZAHL_PKW', 'MIN_GEBAEUDEJAHR', 'ANZ_TITEL'}\n"
     ]
    }
   ],
   "source": [
    "print(numerical_attribute)"
   ]
  },
  {
   "cell_type": "code",
   "execution_count": 115,
   "metadata": {},
   "outputs": [
    {
     "data": {
      "text/plain": [
       "{'BIP_FLAG',\n",
       " 'CAMEO_DEUINTL_2015',\n",
       " 'D19_BANKEN_DIREKT_RZ',\n",
       " 'D19_BANKEN_GROSS_RZ',\n",
       " 'D19_BANKEN_LOKAL_RZ',\n",
       " 'D19_BANKEN_REST_RZ',\n",
       " 'D19_BEKLEIDUNG_GEH_RZ',\n",
       " 'D19_BEKLEIDUNG_REST_RZ',\n",
       " 'D19_BILDUNG_RZ',\n",
       " 'D19_BIO_OEKO_RZ',\n",
       " 'D19_BUCH_RZ',\n",
       " 'D19_DIGIT_SERV_RZ',\n",
       " 'D19_DROGERIEARTIKEL_RZ',\n",
       " 'D19_ENERGIE_RZ',\n",
       " 'D19_FREIZEIT_RZ',\n",
       " 'D19_GARTEN_RZ',\n",
       " 'D19_HANDWERK_RZ',\n",
       " 'D19_HAUS_DEKO_RZ',\n",
       " 'D19_KINDERARTIKEL_RZ',\n",
       " 'D19_KK_KUNDENTYP',\n",
       " 'D19_KOSMETIK_RZ',\n",
       " 'D19_LEBENSMITTEL_RZ',\n",
       " 'D19_LOTTO_RZ',\n",
       " 'D19_NAHRUNGSERGAENZUNG_RZ',\n",
       " 'D19_RATGEBER_RZ',\n",
       " 'D19_REISEN_RZ',\n",
       " 'D19_SAMMELARTIKEL_RZ',\n",
       " 'D19_SCHUHE_RZ',\n",
       " 'D19_SONSTIGE_RZ',\n",
       " 'D19_TECHNIK_RZ',\n",
       " 'D19_TELKO_MOBILE_RZ',\n",
       " 'D19_TELKO_REST_RZ',\n",
       " 'D19_TIERARTIKEL_RZ',\n",
       " 'D19_VERSAND_REST_RZ',\n",
       " 'D19_VERSICHERUNGEN_RZ',\n",
       " 'D19_VOLLSORTIMENT_RZ',\n",
       " 'D19_WEIN_FEINKOST_RZ',\n",
       " 'GEOSCORE_KLS7',\n",
       " 'HAUSHALTSSTRUKTUR',\n",
       " 'KBA13_CCM_1400_2500',\n",
       " 'SOHO_FLAG',\n",
       " 'WACHSTUMSGEBIET_NB'}"
      ]
     },
     "execution_count": 115,
     "metadata": {},
     "output_type": "execute_result"
    }
   ],
   "source": [
    "DIAS_attributes_name=set(DIAS_attributes['Attribute'].drop_duplicates())\n",
    "DIAS_attributes_name-set(azdias.columns)"
   ]
  },
  {
   "cell_type": "markdown",
   "metadata": {},
   "source": [
    "- None of the above attributes mentioned"
   ]
  },
  {
   "cell_type": "code",
   "execution_count": 116,
   "metadata": {},
   "outputs": [
    {
     "data": {
      "text/plain": [
       "{'AKT_DAT_KL',\n",
       " 'ALTERSKATEGORIE_FEIN',\n",
       " 'ALTER_KIND1',\n",
       " 'ALTER_KIND2',\n",
       " 'ALTER_KIND3',\n",
       " 'ALTER_KIND4',\n",
       " 'ANZ_KINDER',\n",
       " 'ANZ_STATISTISCHE_HAUSHALTE',\n",
       " 'ARBEIT',\n",
       " 'CAMEO_INTL_2015',\n",
       " 'CJT_KATALOGNUTZER',\n",
       " 'CJT_TYP_1',\n",
       " 'CJT_TYP_2',\n",
       " 'CJT_TYP_3',\n",
       " 'CJT_TYP_4',\n",
       " 'CJT_TYP_5',\n",
       " 'CJT_TYP_6',\n",
       " 'D19_BANKEN_DIREKT',\n",
       " 'D19_BANKEN_GROSS',\n",
       " 'D19_BANKEN_LOKAL',\n",
       " 'D19_BANKEN_REST',\n",
       " 'D19_BEKLEIDUNG_GEH',\n",
       " 'D19_BEKLEIDUNG_REST',\n",
       " 'D19_BILDUNG',\n",
       " 'D19_BIO_OEKO',\n",
       " 'D19_BUCH_CD',\n",
       " 'D19_DIGIT_SERV',\n",
       " 'D19_DROGERIEARTIKEL',\n",
       " 'D19_ENERGIE',\n",
       " 'D19_FREIZEIT',\n",
       " 'D19_GARTEN',\n",
       " 'D19_HANDWERK',\n",
       " 'D19_HAUS_DEKO',\n",
       " 'D19_KINDERARTIKEL',\n",
       " 'D19_KONSUMTYP_MAX',\n",
       " 'D19_KOSMETIK',\n",
       " 'D19_LEBENSMITTEL',\n",
       " 'D19_LETZTER_KAUF_BRANCHE',\n",
       " 'D19_LOTTO',\n",
       " 'D19_NAHRUNGSERGAENZUNG',\n",
       " 'D19_RATGEBER',\n",
       " 'D19_REISEN',\n",
       " 'D19_SAMMELARTIKEL',\n",
       " 'D19_SCHUHE',\n",
       " 'D19_SONSTIGE',\n",
       " 'D19_SOZIALES',\n",
       " 'D19_TECHNIK',\n",
       " 'D19_TELKO_MOBILE',\n",
       " 'D19_TELKO_ONLINE_QUOTE_12',\n",
       " 'D19_TELKO_REST',\n",
       " 'D19_TIERARTIKEL',\n",
       " 'D19_VERSAND_REST',\n",
       " 'D19_VERSICHERUNGEN',\n",
       " 'D19_VERSI_DATUM',\n",
       " 'D19_VERSI_OFFLINE_DATUM',\n",
       " 'D19_VERSI_ONLINE_DATUM',\n",
       " 'D19_VERSI_ONLINE_QUOTE_12',\n",
       " 'D19_VOLLSORTIMENT',\n",
       " 'D19_WEIN_FEINKOST',\n",
       " 'DSL_FLAG',\n",
       " 'EINGEFUEGT_AM',\n",
       " 'EINGEZOGENAM_HH_JAHR',\n",
       " 'EXTSEL992',\n",
       " 'FIRMENDICHTE',\n",
       " 'GEMEINDETYP',\n",
       " 'HH_DELTA_FLAG',\n",
       " 'KBA13_ANTG1',\n",
       " 'KBA13_ANTG2',\n",
       " 'KBA13_ANTG3',\n",
       " 'KBA13_ANTG4',\n",
       " 'KBA13_BAUMAX',\n",
       " 'KBA13_CCM_1401_2500',\n",
       " 'KBA13_GBZ',\n",
       " 'KBA13_HHZ',\n",
       " 'KBA13_KMH_210',\n",
       " 'KK_KUNDENTYP',\n",
       " 'KOMBIALTER',\n",
       " 'KONSUMZELLE',\n",
       " 'LNR',\n",
       " 'MOBI_RASTER',\n",
       " 'RT_KEIN_ANREIZ',\n",
       " 'RT_SCHNAEPPCHEN',\n",
       " 'RT_UEBERGROESSE',\n",
       " 'SOHO_KZ',\n",
       " 'STRUKTURTYP',\n",
       " 'UMFELD_ALT',\n",
       " 'UMFELD_JUNG',\n",
       " 'UNGLEICHENN_FLAG',\n",
       " 'VERDICHTUNGSRAUM',\n",
       " 'VHA',\n",
       " 'VHN',\n",
       " 'VK_DHT4A',\n",
       " 'VK_DISTANZ',\n",
       " 'VK_ZG11'}"
      ]
     },
     "execution_count": 116,
     "metadata": {},
     "output_type": "execute_result"
    }
   ],
   "source": [
    "set(azdias.columns)-DIAS_attributes_name"
   ]
  },
  {
   "cell_type": "markdown",
   "metadata": {},
   "source": [
    "- Lack of description of the above attributes"
   ]
  },
  {
   "cell_type": "code",
   "execution_count": 117,
   "metadata": {},
   "outputs": [
    {
     "name": "stdout",
     "output_type": "stream",
     "text": [
      "0 0\n",
      "set()\n"
     ]
    }
   ],
   "source": [
    "print(azdias['LNR'].duplicated().sum(),customers['LNR'].duplicated().sum())\n",
    "print(set(azdias['LNR'])&set(customers['LNR']))"
   ]
  },
  {
   "cell_type": "code",
   "execution_count": 118,
   "metadata": {},
   "outputs": [],
   "source": [
    "def unknown2missing(df):\n",
    "    df_temp=df.copy()\n",
    "    for l in missing_attribute_value_list:\n",
    "        if l[0] in df.columns:\n",
    "            if isinstance(l[1],int):\n",
    "                df_temp[l[0]]=df[l[0]].replace(l[1],np.nan)\n",
    "            else:\n",
    "                for ll in l[1].split(','):\n",
    "                    df_temp[l[0]]=df[l[0]].replace(int(ll),np.nan)\n",
    "    return df_temp\n",
    "        "
   ]
  },
  {
   "cell_type": "markdown",
   "metadata": {},
   "source": [
    "- LNR was unique so that I will set it as index."
   ]
  },
  {
   "cell_type": "code",
   "execution_count": 119,
   "metadata": {},
   "outputs": [
    {
     "name": "stdout",
     "output_type": "stream",
     "text": [
      "0.10268016415595567\n",
      "0.11370020865890973\n"
     ]
    }
   ],
   "source": [
    "my_azdias=unknown2missing(azdias)\n",
    "print(azdias.isnull().mean().mean())\n",
    "print(my_azdias.isnull().mean().mean())"
   ]
  },
  {
   "cell_type": "code",
   "execution_count": 120,
   "metadata": {},
   "outputs": [
    {
     "name": "stdout",
     "output_type": "stream",
     "text": [
      "0.1960492473457283\n",
      "0.20487207872308308\n"
     ]
    }
   ],
   "source": [
    "my_customers=unknown2missing(customers)\n",
    "print(customers.isnull().mean().mean())\n",
    "print(my_customers.isnull().mean().mean())"
   ]
  },
  {
   "cell_type": "code",
   "execution_count": 121,
   "metadata": {},
   "outputs": [],
   "source": [
    "def azdias_customers_plot(column):\n",
    "    fig, (ax1, ax2) = plt.subplots(figsize=(10,4), ncols=2)\n",
    "    sns.countplot(x = column, data=azdias, ax=ax1, palette=\"Set3\")\n",
    "    ax1.set_xlabel('Value')\n",
    "    ax1.set_title('AZDIAS '+column+' feature')\n",
    "    sns.countplot(x = column, data=customers, ax=ax2, palette=\"Set3\")\n",
    "    ax2.set_xlabel('Value')\n",
    "    ax2.set_title('CUSTOMERS '+column+' feature')\n",
    "    fig.tight_layout()\n",
    "    plt.show()"
   ]
  },
  {
   "cell_type": "code",
   "execution_count": 122,
   "metadata": {},
   "outputs": [],
   "source": [
    "import random"
   ]
  },
  {
   "cell_type": "code",
   "execution_count": 123,
   "metadata": {},
   "outputs": [
    {
     "data": {
      "image/png": "[encoded data removed]",
      "text/plain": [
       "<Figure size 720x288 with 2 Axes>"
      ]
     },
     "metadata": {},
     "output_type": "display_data"
    },
    {
     "data": {
      "image/png": "[encoded data removed]",
      "text/plain": [
       "<Figure size 720x288 with 2 Axes>"
      ]
     },
     "metadata": {},
     "output_type": "display_data"
    },
    {
     "data": {
      "image/png": "[encoded data removed]",
      "text/plain": [
       "<Figure size 720x288 with 2 Axes>"
      ]
     },
     "metadata": {},
     "output_type": "display_data"
    },
    {
     "data": {
      "image/png": "[encoded data removed]",
      "text/plain": [
       "<Figure size 720x288 with 2 Axes>"
      ]
     },
     "metadata": {},
     "output_type": "display_data"
    },
    {
     "data": {
      "image/png": "[encoded data removed]",
      "text/plain": [
       "<Figure size 720x288 with 2 Axes>"
      ]
     },
     "metadata": {},
     "output_type": "display_data"
    },
    {
     "data": {
      "image/png": "[encoded data removed]",
      "text/plain": [
       "<Figure size 720x288 with 2 Axes>"
      ]
     },
     "metadata": {},
     "output_type": "display_data"
    },
    {
     "data": {
      "image/png": "[encoded data removed]",
      "text/plain": [
       "<Figure size 720x288 with 2 Axes>"
      ]
     },
     "metadata": {},
     "output_type": "display_data"
    },
    {
     "data": {
      "image/png": "[encoded data removed]",
      "text/plain": [
       "<Figure size 720x288 with 2 Axes>"
      ]
     },
     "metadata": {},
     "output_type": "display_data"
    },
    {
     "data": {
      "image/png": "[encoded data removed]",
      "text/plain": [
       "<Figure size 720x288 with 2 Axes>"
      ]
     },
     "metadata": {},
     "output_type": "display_data"
    },
    {
     "data": {
      "image/png": "[encoded data removed]",
      "text/plain": [
       "<Figure size 720x288 with 2 Axes>"
      ]
     },
     "metadata": {},
     "output_type": "display_data"
    }
   ],
   "source": [
    "for i in random.sample(range(0,len(azdias.columns)-1),10):\n",
    "    azdias_customers_plot(azdias.columns[i])"
   ]
  },
  {
   "cell_type": "markdown",
   "metadata": {},
   "source": [
    "- From the random distribution map, the two data sets are distributed and similar"
   ]
  },
  {
   "cell_type": "markdown",
   "metadata": {},
   "source": [
    "### 1.Deal with the numerical features"
   ]
  },
  {
   "cell_type": "code",
   "execution_count": 124,
   "metadata": {},
   "outputs": [],
   "source": [
    "drop_features=set()"
   ]
  },
  {
   "cell_type": "code",
   "execution_count": 125,
   "metadata": {},
   "outputs": [
    {
     "data": {
      "text/plain": [
       "1992.0    568776\n",
       "1994.0     78835\n",
       "1993.0     25488\n",
       "1995.0     25464\n",
       "1996.0     16611\n",
       "1997.0     14464\n",
       "2000.0      7382\n",
       "2001.0      5877\n",
       "1991.0      5811\n",
       "2005.0      5553\n",
       "1999.0      4413\n",
       "1990.0      4408\n",
       "2002.0      4216\n",
       "1998.0      4097\n",
       "2003.0      3356\n",
       "2004.0      2935\n",
       "2008.0      2197\n",
       "2007.0      2156\n",
       "1989.0      2046\n",
       "2009.0      2016\n",
       "2006.0      1984\n",
       "2011.0      1903\n",
       "2012.0      1861\n",
       "2010.0      1410\n",
       "2013.0      1230\n",
       "1988.0      1027\n",
       "2014.0      1001\n",
       "2015.0       717\n",
       "1987.0       470\n",
       "2016.0       128\n",
       "1986.0       125\n",
       "1985.0       116\n",
       "Name: MIN_GEBAEUDEJAHR, dtype: int64"
      ]
     },
     "execution_count": 125,
     "metadata": {},
     "output_type": "execute_result"
    }
   ],
   "source": [
    "# in numerical_attribute_value_list: \n",
    "# {'MIN_GEBAEUDEJAHR', 'ANZ_HAUSHALTE_AKTIV', 'ANZ_TITEL', 'ANZ_PERSONEN', 'GEBURTSJAHR', 'ANZ_HH_TITEL', 'KBA13_ANZAHL_PKW'}\n",
    "my_azdias['MIN_GEBAEUDEJAHR'].value_counts()"
   ]
  },
  {
   "cell_type": "markdown",
   "metadata": {},
   "source": [
    "- 'MIN_GEBAEUDEJAHR' will be replaced by age."
   ]
  },
  {
   "cell_type": "code",
   "execution_count": 126,
   "metadata": {},
   "outputs": [
    {
     "name": "stdout",
     "output_type": "stream",
     "text": [
      "1.0      195957\n",
      "2.0      120982\n",
      "3.0       62575\n",
      "4.0       43213\n",
      "5.0       37815\n",
      "6.0       36020\n",
      "7.0       34526\n",
      "8.0       32293\n",
      "9.0       29002\n",
      "10.0      25428\n",
      "11.0      21965\n",
      "12.0      18033\n",
      "13.0      15282\n",
      "14.0      12625\n",
      "15.0      10371\n",
      "16.0       8899\n",
      "17.0       7292\n",
      "0.0        6463\n",
      "18.0       6324\n",
      "19.0       5461\n",
      "20.0       4674\n",
      "21.0       4138\n",
      "22.0       3735\n",
      "23.0       3243\n",
      "24.0       2838\n",
      "25.0       2636\n",
      "26.0       2342\n",
      "27.0       2232\n",
      "28.0       2040\n",
      "29.0       1963\n",
      "          ...  \n",
      "285.0         4\n",
      "515.0         4\n",
      "523.0         4\n",
      "301.0         4\n",
      "249.0         4\n",
      "174.0         4\n",
      "266.0         4\n",
      "256.0         4\n",
      "255.0         4\n",
      "250.0         4\n",
      "260.0         4\n",
      "331.0         4\n",
      "226.0         3\n",
      "224.0         3\n",
      "168.0         3\n",
      "307.0         3\n",
      "414.0         3\n",
      "244.0         3\n",
      "378.0         3\n",
      "293.0         3\n",
      "272.0         3\n",
      "395.0         3\n",
      "237.0         2\n",
      "254.0         2\n",
      "404.0         2\n",
      "213.0         2\n",
      "366.0         1\n",
      "536.0         1\n",
      "232.0         1\n",
      "220.0         1\n",
      "Name: ANZ_HAUSHALTE_AKTIV, Length: 292, dtype: int64\n"
     ]
    }
   ],
   "source": [
    "print(my_azdias['ANZ_HAUSHALTE_AKTIV'].value_counts())"
   ]
  },
  {
   "cell_type": "code",
   "execution_count": 127,
   "metadata": {},
   "outputs": [
    {
     "data": {
      "text/plain": [
       "0.0    814542\n",
       "1.0      2970\n",
       "2.0       202\n",
       "3.0         5\n",
       "4.0         2\n",
       "6.0         1\n",
       "Name: ANZ_TITEL, dtype: int64"
      ]
     },
     "execution_count": 127,
     "metadata": {},
     "output_type": "execute_result"
    }
   ],
   "source": [
    "#  'ANZ_HAUSHALTE_AKTIV', 'ANZ_TITEL', 'ANZ_PERSONEN', 'GEBURTSJAHR','KBA13_ANZAHL_PKW'\n",
    "my_azdias['ANZ_TITEL'].value_counts()"
   ]
  },
  {
   "cell_type": "code",
   "execution_count": 128,
   "metadata": {},
   "outputs": [
    {
     "data": {
      "text/plain": [
       "1.0     423383\n",
       "2.0     195470\n",
       "3.0      94905\n",
       "4.0      47126\n",
       "0.0      34103\n",
       "5.0      15503\n",
       "6.0       4842\n",
       "7.0       1525\n",
       "8.0        523\n",
       "9.0        180\n",
       "10.0        67\n",
       "11.0        38\n",
       "12.0        16\n",
       "13.0        11\n",
       "21.0         4\n",
       "14.0         4\n",
       "20.0         3\n",
       "15.0         3\n",
       "38.0         2\n",
       "23.0         2\n",
       "37.0         2\n",
       "22.0         2\n",
       "35.0         1\n",
       "17.0         1\n",
       "16.0         1\n",
       "45.0         1\n",
       "18.0         1\n",
       "40.0         1\n",
       "29.0         1\n",
       "31.0         1\n",
       "Name: ANZ_PERSONEN, dtype: int64"
      ]
     },
     "execution_count": 128,
     "metadata": {},
     "output_type": "execute_result"
    }
   ],
   "source": [
    "my_azdias['ANZ_PERSONEN'].value_counts()"
   ]
  },
  {
   "cell_type": "code",
   "execution_count": 129,
   "metadata": {},
   "outputs": [
    {
     "data": {
      "text/plain": [
       "0       392318\n",
       "1967     11183\n",
       "1965     11090\n",
       "1966     10933\n",
       "1970     10883\n",
       "1964     10799\n",
       "1968     10792\n",
       "1963     10513\n",
       "1969     10360\n",
       "1980     10275\n",
       "1962     10082\n",
       "1961      9880\n",
       "1971      9786\n",
       "1982      9516\n",
       "1978      9509\n",
       "1960      9492\n",
       "1979      9422\n",
       "1981      9374\n",
       "1977      9296\n",
       "1959      9098\n",
       "1972      9027\n",
       "1976      9005\n",
       "1983      8887\n",
       "1974      8676\n",
       "1984      8553\n",
       "1975      8480\n",
       "1973      8356\n",
       "1958      8323\n",
       "1986      8192\n",
       "1985      8180\n",
       "         ...  \n",
       "2009       559\n",
       "2008       550\n",
       "2010       545\n",
       "2011       485\n",
       "1923       468\n",
       "2013       380\n",
       "1922       375\n",
       "1921       355\n",
       "2015       257\n",
       "1920       238\n",
       "1919       194\n",
       "2016       167\n",
       "2014       124\n",
       "1918        85\n",
       "1914        55\n",
       "1917        55\n",
       "1916        45\n",
       "1910        41\n",
       "1913        39\n",
       "1915        37\n",
       "1911        30\n",
       "1912        28\n",
       "1905         8\n",
       "1908         7\n",
       "1906         7\n",
       "1909         7\n",
       "1904         5\n",
       "1907         4\n",
       "1900         4\n",
       "1902         1\n",
       "Name: GEBURTSJAHR, Length: 117, dtype: int64"
      ]
     },
     "execution_count": 129,
     "metadata": {},
     "output_type": "execute_result"
    }
   ],
   "source": [
    "my_azdias['GEBURTSJAHR'].value_counts()"
   ]
  },
  {
   "cell_type": "markdown",
   "metadata": {},
   "source": [
    "- 'GEBURTSJAHR' will be replaced by age."
   ]
  },
  {
   "cell_type": "code",
   "execution_count": 130,
   "metadata": {},
   "outputs": [
    {
     "data": {
      "text/plain": [
       "1400.0    11722\n",
       "1500.0     8291\n",
       "1300.0     6427\n",
       "1600.0     6135\n",
       "1700.0     3795\n",
       "1800.0     2617\n",
       "464.0      1604\n",
       "417.0      1604\n",
       "519.0      1600\n",
       "534.0      1496\n",
       "386.0      1458\n",
       "1900.0     1450\n",
       "395.0      1446\n",
       "481.0      1417\n",
       "455.0      1409\n",
       "483.0      1393\n",
       "452.0      1388\n",
       "418.0      1384\n",
       "454.0      1380\n",
       "450.0      1380\n",
       "494.0      1379\n",
       "459.0      1379\n",
       "492.0      1359\n",
       "504.0      1340\n",
       "387.0      1338\n",
       "420.0      1337\n",
       "439.0      1327\n",
       "506.0      1326\n",
       "388.0      1324\n",
       "456.0      1323\n",
       "          ...  \n",
       "28.0         24\n",
       "27.0         24\n",
       "25.0         23\n",
       "24.0         22\n",
       "26.0         21\n",
       "18.0         21\n",
       "17.0         20\n",
       "20.0         18\n",
       "21.0         17\n",
       "22.0         16\n",
       "12.0         16\n",
       "14.0         16\n",
       "29.0         15\n",
       "15.0         14\n",
       "23.0         13\n",
       "30.0         12\n",
       "16.0         11\n",
       "19.0         11\n",
       "13.0         10\n",
       "1.0           8\n",
       "10.0          8\n",
       "11.0          7\n",
       "5.0           7\n",
       "9.0           7\n",
       "4.0           7\n",
       "3.0           6\n",
       "8.0           6\n",
       "2.0           6\n",
       "7.0           5\n",
       "6.0           5\n",
       "Name: KBA13_ANZAHL_PKW, Length: 1261, dtype: int64"
      ]
     },
     "execution_count": 130,
     "metadata": {},
     "output_type": "execute_result"
    }
   ],
   "source": [
    "my_azdias['KBA13_ANZAHL_PKW'].value_counts()"
   ]
  },
  {
   "cell_type": "code",
   "execution_count": 131,
   "metadata": {},
   "outputs": [
    {
     "data": {
      "text/plain": [
       "{'ANZ_HAUSHALTE_AKTIV',\n",
       " 'ANZ_HH_TITEL',\n",
       " 'ANZ_PERSONEN',\n",
       " 'ANZ_TITEL',\n",
       " 'GEBURTSJAHR',\n",
       " 'KBA13_ANZAHL_PKW',\n",
       " 'MIN_GEBAEUDEJAHR'}"
      ]
     },
     "execution_count": 131,
     "metadata": {},
     "output_type": "execute_result"
    }
   ],
   "source": [
    "numerical_attribute"
   ]
  },
  {
   "cell_type": "code",
   "execution_count": 132,
   "metadata": {},
   "outputs": [
    {
     "data": {
      "text/plain": [
       "CAMEO_DEU_2015                 44\n",
       "LP_LEBENSPHASE_FEIN            40\n",
       "CAMEO_DEUINTL_2015             26\n",
       "ALTER_HH                       22\n",
       "PRAEGENDE_JUGENDJAHRE          16\n",
       "GFK_URLAUBERTYP                12\n",
       "LP_LEBENSPHASE_GROB            12\n",
       "D19_BANKEN_ONLINE_QUOTE_12     11\n",
       "LP_FAMILIE_GROB                11\n",
       "D19_VERSAND_ONLINE_QUOTE_12    11\n",
       "LP_FAMILIE_FEIN                11\n",
       "D19_GESAMT_ONLINE_QUOTE_12     11\n",
       "D19_VERSAND_ONLINE_DATUM       10\n",
       "D19_GESAMT_DATUM               10\n",
       "D19_GESAMT_OFFLINE_DATUM       10\n",
       "D19_BANKEN_ONLINE_DATUM        10\n",
       "D19_GESAMT_ONLINE_DATUM        10\n",
       "D19_TELKO_OFFLINE_DATUM        10\n",
       "LP_STATUS_GROB                 10\n",
       "D19_VERSAND_DATUM              10\n",
       "D19_TELKO_ONLINE_DATUM         10\n",
       "LP_STATUS_FEIN                 10\n",
       "D19_BANKEN_DATUM               10\n",
       "ORTSGR_KLS9                    10\n",
       "WOHNDAUER_2008                 10\n",
       "D19_BANKEN_OFFLINE_DATUM       10\n",
       "CAMEO_DEUG_2015                10\n",
       "HAUSHALTSSTRUKTUR              10\n",
       "D19_VERSAND_OFFLINE_DATUM      10\n",
       "D19_TELKO_DATUM                10\n",
       "                               ..\n",
       "SHOPPER_TYP                     5\n",
       "PLZ8_ANTG3                      5\n",
       "KBA05_MOTOR                     5\n",
       "KBA05_SEG8                      5\n",
       "KBA05_MOTRAD                    5\n",
       "KBA05_MOD8                      5\n",
       "KKK                             5\n",
       "KBA13_KRSZUL_NEU                5\n",
       "KBA05_ANTG4                     4\n",
       "KBA05_MAXVORB                   4\n",
       "KBA05_KRSOBER                   4\n",
       "PLZ8_ANTG4                      4\n",
       "KBA05_KRSZUL                    4\n",
       "KBA05_KRSKLEIN                  4\n",
       "NATIONALITAET_KZ                4\n",
       "KBA05_KRSVAN                    4\n",
       "ANREDE_KZ                       3\n",
       "KBA05_SEG6                      3\n",
       "BIP_FLAG                        3\n",
       "OST_WEST_KZ                     3\n",
       "SOHO_FLAG                       3\n",
       "VERS_TYP                        3\n",
       "GREEN_AVANTGARDE                2\n",
       "ANZ_HH_TITEL                    1\n",
       "KBA13_ANZAHL_PKW                1\n",
       "GEBURTSJAHR                     1\n",
       "MIN_GEBAEUDEJAHR                1\n",
       "ANZ_HAUSHALTE_AKTIV             1\n",
       "ANZ_TITEL                       1\n",
       "ANZ_PERSONEN                    1\n",
       "Name: Attribute, Length: 314, dtype: int64"
      ]
     },
     "execution_count": 132,
     "metadata": {},
     "output_type": "execute_result"
    }
   ],
   "source": [
    "DIAS_attributes['Attribute'].value_counts()"
   ]
  },
  {
   "cell_type": "markdown",
   "metadata": {},
   "source": [
    "- I think the numeric features have only 1 or 2 values meaning."
   ]
  },
  {
   "cell_type": "code",
   "execution_count": 133,
   "metadata": {},
   "outputs": [],
   "source": [
    "attribute_value_number=[]\n",
    "for i in my_azdias.columns:\n",
    "    attribute_value_number.append((len(my_azdias[i].value_counts()),i))"
   ]
  },
  {
   "cell_type": "code",
   "execution_count": 134,
   "metadata": {},
   "outputs": [
    {
     "name": "stdout",
     "output_type": "stream",
     "text": [
      "[(2, 'ANREDE_KZ'), (2, 'DSL_FLAG'), (2, 'GREEN_AVANTGARDE'), (2, 'HH_DELTA_FLAG'), (2, 'KBA05_SEG6'), (2, 'KONSUMZELLE'), (2, 'OST_WEST_KZ'), (2, 'SOHO_KZ'), (2, 'UNGLEICHENN_FLAG'), (2, 'VERS_TYP'), (3, 'HEALTH_TYP'), (3, 'KBA05_ANTG4'), (3, 'KBA05_KRSKLEIN'), (3, 'KBA05_KRSOBER'), (3, 'KBA05_KRSVAN'), (3, 'KBA05_KRSZUL'), (3, 'KBA05_MAXVORB'), (3, 'KBA13_ANTG4'), (3, 'KBA13_KMH_110'), (3, 'KBA13_KMH_251'), (3, 'KBA13_KW_30'), (3, 'NATIONALITAET_KZ'), (3, 'PLZ8_ANTG4'), (3, 'STRUKTURTYP'), (4, 'AGER_TYP'), (4, 'KBA05_ANHANG'), (4, 'KBA05_ANTG3'), (4, 'KBA05_MAXBJ'), (4, 'KBA05_MAXSEG'), (4, 'KBA05_MOD8'), (4, 'KBA05_MOTOR'), (4, 'KBA05_MOTRAD'), (4, 'KBA05_SEG1'), (4, 'KBA05_SEG7'), (4, 'KBA05_SEG8'), (4, 'KBA05_SEG9'), (4, 'KBA13_ANTG3'), (4, 'KBA13_KRSSEG_KLEIN'), (4, 'KBA13_KRSSEG_OBER'), (4, 'KBA13_KRSSEG_VAN'), (4, 'KBA13_KRSZUL_NEU'), (4, 'KBA13_MOTOR'), (4, 'KKK'), (4, 'PLZ8_ANTG3'), (4, 'SHOPPER_TYP'), (5, 'ALTERSKATEGORIE_GROB'), (5, 'CJT_KATALOGNUTZER'), (5, 'CJT_TYP_1'), (5, 'CJT_TYP_2'), (5, 'CJT_TYP_3'), (5, 'CJT_TYP_4'), (5, 'CJT_TYP_5'), (5, 'CJT_TYP_6'), (5, 'D19_TELKO_ONLINE_QUOTE_12'), (5, 'FINANZ_ANLEGER'), (5, 'FINANZ_HAUSBAUER'), (5, 'FINANZ_MINIMALIST'), (5, 'FINANZ_SPARER'), (5, 'FINANZ_UNAUFFAELLIGER'), (5, 'FINANZ_VORSORGER'), (5, 'FIRMENDICHTE'), (5, 'GEBAEUDETYP_RASTER'), (5, 'KBA05_ALTER1'), (5, 'KBA05_ALTER2'), (5, 'KBA05_ALTER3'), (5, 'KBA05_ANTG1'), (5, 'KBA05_ANTG2'), (5, 'KBA05_AUTOQUOT'), (5, 'KBA05_BAUMAX'), (5, 'KBA05_CCM1'), (5, 'KBA05_CCM2'), (5, 'KBA05_CCM3'), (5, 'KBA05_CCM4'), (5, 'KBA05_DIESEL'), (5, 'KBA05_FRAU'), (5, 'KBA05_GBZ'), (5, 'KBA05_HERST2'), (5, 'KBA05_HERSTTEMP'), (5, 'KBA05_KRSAQUOT'), (5, 'KBA05_KRSHERST1'), (5, 'KBA05_KRSHERST2'), (5, 'KBA05_KRSHERST3'), (5, 'KBA05_KW1'), (5, 'KBA05_KW2'), (5, 'KBA05_KW3'), (5, 'KBA05_MAXAH'), (5, 'KBA05_MAXHERST'), (5, 'KBA05_MOD1'), (5, 'KBA05_MOD2'), (5, 'KBA05_MOD3'), (5, 'KBA05_SEG10'), (5, 'KBA05_SEG2'), (5, 'KBA05_SEG3'), (5, 'KBA05_SEG4'), (5, 'KBA05_SEG5'), (5, 'KBA05_VORB0'), (5, 'KBA05_VORB1'), (5, 'KBA05_ZUL1'), (5, 'KBA05_ZUL2'), (5, 'KBA13_ALTERHALTER_30'), (5, 'KBA13_ALTERHALTER_45'), (5, 'KBA13_ALTERHALTER_60'), (5, 'KBA13_ALTERHALTER_61'), (5, 'KBA13_ANTG1'), (5, 'KBA13_ANTG2'), (5, 'KBA13_AUDI'), (5, 'KBA13_BAUMAX'), (5, 'KBA13_BJ_1999'), (5, 'KBA13_BJ_2000'), (5, 'KBA13_BJ_2004'), (5, 'KBA13_BJ_2006'), (5, 'KBA13_BMW'), (5, 'KBA13_CCM_1400'), (5, 'KBA13_CCM_1401_2500'), (5, 'KBA13_CCM_1500'), (5, 'KBA13_CCM_1600'), (5, 'KBA13_CCM_2000'), (5, 'KBA13_CCM_3001'), (5, 'KBA13_FAB_ASIEN'), (5, 'KBA13_FAB_SONSTIGE'), (5, 'KBA13_FIAT'), (5, 'KBA13_FORD'), (5, 'KBA13_GBZ'), (5, 'KBA13_HALTER_20'), (5, 'KBA13_HALTER_25'), (5, 'KBA13_HALTER_30'), (5, 'KBA13_HALTER_35'), (5, 'KBA13_HALTER_40'), (5, 'KBA13_HALTER_45'), (5, 'KBA13_HALTER_50'), (5, 'KBA13_HALTER_55'), (5, 'KBA13_HALTER_60'), (5, 'KBA13_HALTER_65'), (5, 'KBA13_HALTER_66'), (5, 'KBA13_HERST_ASIEN'), (5, 'KBA13_HERST_AUDI_VW'), (5, 'KBA13_HERST_BMW_BENZ'), (5, 'KBA13_HERST_EUROPA'), (5, 'KBA13_HERST_FORD_OPEL'), (5, 'KBA13_HERST_SONST'), (5, 'KBA13_HHZ'), (5, 'KBA13_KMH_140'), (5, 'KBA13_KMH_140_210'), (5, 'KBA13_KMH_180'), (5, 'KBA13_KMH_210'), (5, 'KBA13_KW_0_60'), (5, 'KBA13_KW_61_120'), (5, 'KBA13_MAZDA'), (5, 'KBA13_MERCEDES'), (5, 'KBA13_NISSAN'), (5, 'KBA13_OPEL'), (5, 'KBA13_PEUGEOT'), (5, 'KBA13_RENAULT'), (5, 'KBA13_SEG_GELAENDEWAGEN'), (5, 'KBA13_SEG_GROSSRAUMVANS'), (5, 'KBA13_SEG_KLEINST'), (5, 'KBA13_SEG_KLEINWAGEN'), (5, 'KBA13_SEG_KOMPAKTKLASSE'), (5, 'KBA13_SEG_MINIVANS'), (5, 'KBA13_SEG_MINIWAGEN'), (5, 'KBA13_SEG_MITTELKLASSE'), (5, 'KBA13_SEG_OBEREMITTELKLASSE'), (5, 'KBA13_SEG_SONSTIGE'), (5, 'KBA13_SEG_UTILITIES'), (5, 'KBA13_SEG_VAN'), (5, 'KBA13_SITZE_4'), (5, 'KBA13_SITZE_5'), (5, 'KBA13_SITZE_6'), (5, 'KBA13_TOYOTA'), (5, 'KBA13_VORB_0'), (5, 'KBA13_VORB_1'), (5, 'KBA13_VORB_1_2'), (5, 'KBA13_VORB_2'), (5, 'KBA13_VW'), (5, 'KOMBIALTER'), (5, 'LP_STATUS_GROB'), (5, 'PLZ8_ANTG1'), (5, 'PLZ8_ANTG2'), (5, 'PLZ8_BAUMAX'), (5, 'PLZ8_GBZ'), (5, 'PLZ8_HHZ'), (5, 'RELAT_AB'), (5, 'RETOURTYP_BK_S'), (5, 'RT_KEIN_ANREIZ'), (5, 'RT_SCHNAEPPCHEN'), (5, 'TITEL_KZ'), (5, 'UMFELD_ALT'), (5, 'UMFELD_JUNG'), (5, 'VHN'), (6, 'ANZ_TITEL'), (6, 'ARBEIT'), (6, 'CJT_GESAMTTYP'), (6, 'D19_KONSUMTYP_MAX'), (6, 'D19_SOZIALES'), (6, 'EWDICHTE'), (6, 'FINANZTYP'), (6, 'HH_EINKOMMEN_SCORE'), (6, 'KBA05_ALTER4'), (6, 'KBA05_HERST1'), (6, 'KBA05_HERST3'), (6, 'KBA05_HERST4'), (6, 'KBA05_HERST5'), (6, 'KBA05_MOD4'), (6, 'KBA05_MODTEMP'), (6, 'KBA05_VORB2'), (6, 'KBA05_ZUL3'), (6, 'KBA05_ZUL4'), (6, 'KBA13_AUTOQUOTE'), (6, 'KBA13_BJ_2008'), (6, 'KBA13_BJ_2009'), (6, 'KBA13_CCM_0_1400'), (6, 'KBA13_CCM_1000'), (6, 'KBA13_CCM_1200'), (6, 'KBA13_CCM_1800'), (6, 'KBA13_CCM_2500'), (6, 'KBA13_CCM_2501'), (6, 'KBA13_CCM_3000'), (6, 'KBA13_KMH_0_140'), (6, 'KBA13_KMH_211'), (6, 'KBA13_KMH_250'), (6, 'KBA13_KRSAQUOT'), (6, 'KBA13_KRSHERST_AUDI_VW'), (6, 'KBA13_KRSHERST_BMW_BENZ'), (6, 'KBA13_KRSHERST_FORD_OPEL'), (6, 'KBA13_KW_110'), (6, 'KBA13_KW_120'), (6, 'KBA13_KW_121'), (6, 'KBA13_KW_40'), (6, 'KBA13_KW_50'), (6, 'KBA13_KW_60'), (6, 'KBA13_KW_70'), (6, 'KBA13_KW_80'), (6, 'KBA13_KW_90'), (6, 'KBA13_SEG_OBERKLASSE'), (6, 'KBA13_SEG_SPORTWAGEN'), (6, 'KBA13_SEG_WOHNMOBILE'), (6, 'KBA13_VORB_3'), (6, 'KK_KUNDENTYP'), (6, 'LP_FAMILIE_GROB'), (6, 'MOBI_RASTER'), (6, 'MOBI_REGIO'), (6, 'ONLINE_AFFINITAET'), (6, 'RT_UEBERGROESSE'), (6, 'VHA'), (6, 'W_KEIT_KIND_HH'), (6, 'ZABEOTYP'), (7, 'BALLRAUM'), (7, 'D19_BANKEN_ANZ_12'), (7, 'D19_BANKEN_ANZ_24'), (7, 'D19_BANKEN_GROSS'), (7, 'D19_GESAMT_ANZ_12'), (7, 'D19_GESAMT_ANZ_24'), (7, 'D19_KONSUMTYP'), (7, 'D19_TELKO_ANZ_12'), (7, 'D19_TELKO_ANZ_24'), (7, 'D19_VERSAND_ANZ_12'), (7, 'D19_VERSAND_ANZ_24'), (7, 'D19_VERSI_ANZ_12'), (7, 'D19_VERSI_ANZ_24'), (7, 'GEBAEUDETYP'), (7, 'GEMEINDETYP'), (7, 'KONSUMNAEHE'), (7, 'REGIOTYP'), (7, 'SEMIO_DOM'), (7, 'SEMIO_ERL'), (7, 'SEMIO_FAM'), (7, 'SEMIO_KAEM'), (7, 'SEMIO_KRIT'), (7, 'SEMIO_KULT'), (7, 'SEMIO_LUST'), (7, 'SEMIO_MAT'), (7, 'SEMIO_PFLICHT'), (7, 'SEMIO_RAT'), (7, 'SEMIO_REL'), (7, 'SEMIO_SOZ'), (7, 'SEMIO_TRADV'), (7, 'SEMIO_VERT'), (8, 'D19_BANKEN_DIREKT'), (8, 'D19_BANKEN_LOKAL'), (8, 'D19_BANKEN_REST'), (8, 'D19_BEKLEIDUNG_GEH'), (8, 'D19_BEKLEIDUNG_REST'), (8, 'D19_BILDUNG'), (8, 'D19_BIO_OEKO'), (8, 'D19_BUCH_CD'), (8, 'D19_DIGIT_SERV'), (8, 'D19_DROGERIEARTIKEL'), (8, 'D19_ENERGIE'), (8, 'D19_FREIZEIT'), (8, 'D19_GARTEN'), (8, 'D19_HANDWERK'), (8, 'D19_HAUS_DEKO'), (8, 'D19_KINDERARTIKEL'), (8, 'D19_KOSMETIK'), (8, 'D19_LEBENSMITTEL'), (8, 'D19_LOTTO'), (8, 'D19_NAHRUNGSERGAENZUNG'), (8, 'D19_RATGEBER'), (8, 'D19_REISEN'), (8, 'D19_SAMMELARTIKEL'), (8, 'D19_SCHUHE'), (8, 'D19_SONSTIGE'), (8, 'D19_TECHNIK'), (8, 'D19_TELKO_MOBILE'), (8, 'D19_TELKO_REST'), (8, 'D19_TIERARTIKEL'), (8, 'D19_VERSAND_REST'), (8, 'D19_VERSICHERUNGEN'), (8, 'D19_VERSI_ONLINE_QUOTE_12'), (8, 'D19_VOLLSORTIMENT'), (8, 'D19_WEIN_FEINKOST'), (8, 'INNENSTADT'), (8, 'WOHNLAGE'), (9, 'AKT_DAT_KL'), (9, 'WOHNDAUER_2008'), (10, 'D19_BANKEN_DATUM'), (10, 'D19_BANKEN_OFFLINE_DATUM'), (10, 'D19_BANKEN_ONLINE_DATUM'), (10, 'D19_GESAMT_DATUM'), (10, 'D19_GESAMT_OFFLINE_DATUM'), (10, 'D19_GESAMT_ONLINE_DATUM'), (10, 'D19_TELKO_DATUM'), (10, 'D19_TELKO_OFFLINE_DATUM'), (10, 'D19_TELKO_ONLINE_DATUM'), (10, 'D19_VERSAND_DATUM'), (10, 'D19_VERSAND_OFFLINE_DATUM'), (10, 'D19_VERSAND_ONLINE_DATUM'), (10, 'D19_VERSI_DATUM'), (10, 'D19_VERSI_OFFLINE_DATUM'), (10, 'D19_VERSI_ONLINE_DATUM'), (10, 'LP_STATUS_FEIN'), (10, 'ORTSGR_KLS9'), (11, 'ANZ_KINDER'), (11, 'D19_BANKEN_ONLINE_QUOTE_12'), (11, 'D19_GESAMT_ONLINE_QUOTE_12'), (11, 'D19_VERSAND_ONLINE_QUOTE_12'), (11, 'VK_DHT4A'), (11, 'VK_ZG11'), (12, 'ALTER_KIND4'), (12, 'GFK_URLAUBERTYP'), (12, 'LP_FAMILIE_FEIN'), (13, 'LP_LEBENSPHASE_GROB'), (13, 'VK_DISTANZ'), (15, 'ALTER_KIND3'), (15, 'PRAEGENDE_JUGENDJAHRE'), (17, 'ALTER_KIND1'), (17, 'ALTER_KIND2'), (19, 'CAMEO_DEUG_2015'), (21, 'ALTER_HH'), (21, 'ANZ_HH_TITEL'), (26, 'ALTERSKATEGORIE_FEIN'), (30, 'ANZ_PERSONEN'), (32, 'MIN_GEBAEUDEJAHR'), (35, 'D19_LETZTER_KAUF_BRANCHE'), (37, 'EINGEZOGENAM_HH_JAHR'), (41, 'LP_LEBENSPHASE_FEIN'), (43, 'CAMEO_INTL_2015'), (45, 'CAMEO_DEU_2015'), (46, 'VERDICHTUNGSRAUM'), (56, 'EXTSEL992'), (117, 'GEBURTSJAHR'), (268, 'ANZ_STATISTISCHE_HAUSHALTE'), (292, 'ANZ_HAUSHALTE_AKTIV'), (1261, 'KBA13_ANZAHL_PKW'), (5162, 'EINGEFUEGT_AM'), (891221, 'LNR')]\n"
     ]
    }
   ],
   "source": [
    "print(sorted(attribute_value_number))"
   ]
  },
  {
   "cell_type": "markdown",
   "metadata": {},
   "source": [
    "- numerical feature might have more value,so I will check the value count bigger than 30"
   ]
  },
  {
   "cell_type": "code",
   "execution_count": 135,
   "metadata": {},
   "outputs": [
    {
     "data": {
      "text/plain": [
       "[(891221, 'LNR'),\n",
       " (292, 'ANZ_HAUSHALTE_AKTIV'),\n",
       " (268, 'ANZ_STATISTISCHE_HAUSHALTE'),\n",
       " (45, 'CAMEO_DEU_2015'),\n",
       " (43, 'CAMEO_INTL_2015'),\n",
       " (35, 'D19_LETZTER_KAUF_BRANCHE'),\n",
       " (5162, 'EINGEFUEGT_AM'),\n",
       " (37, 'EINGEZOGENAM_HH_JAHR'),\n",
       " (56, 'EXTSEL992'),\n",
       " (117, 'GEBURTSJAHR'),\n",
       " (1261, 'KBA13_ANZAHL_PKW'),\n",
       " (41, 'LP_LEBENSPHASE_FEIN'),\n",
       " (32, 'MIN_GEBAEUDEJAHR'),\n",
       " (46, 'VERDICHTUNGSRAUM')]"
      ]
     },
     "execution_count": 135,
     "metadata": {},
     "output_type": "execute_result"
    }
   ],
   "source": [
    "[x for x in attribute_value_number if x[0]>30]"
   ]
  },
  {
   "cell_type": "code",
   "execution_count": 136,
   "metadata": {},
   "outputs": [
    {
     "data": {
      "text/plain": [
       "{'ANZ_STATISTISCHE_HAUSHALTE',\n",
       " 'CAMEO_DEU_2015',\n",
       " 'CAMEO_INTL_2015',\n",
       " 'D19_LETZTER_KAUF_BRANCHE',\n",
       " 'EINGEFUEGT_AM',\n",
       " 'EINGEZOGENAM_HH_JAHR',\n",
       " 'EXTSEL992',\n",
       " 'LP_LEBENSPHASE_FEIN',\n",
       " 'VERDICHTUNGSRAUM'}"
      ]
     },
     "execution_count": 136,
     "metadata": {},
     "output_type": "execute_result"
    }
   ],
   "source": [
    "set([x[1] for x in attribute_value_number if x[0]>30])-numerical_attribute-drop_features-set(['LNR'])"
   ]
  },
  {
   "cell_type": "markdown",
   "metadata": {},
   "source": [
    "- LNR will be the index,\n",
    "- EINGEFUEGT_AM,D19_LETZTER_KAUF_BRANCHE,EINGEZOGENAM_HH_JAHR I don't know what is it."
   ]
  },
  {
   "cell_type": "code",
   "execution_count": 137,
   "metadata": {},
   "outputs": [
    {
     "data": {
      "text/plain": [
       "1.0      219119\n",
       "2.0      121485\n",
       "3.0       61478\n",
       "4.0       44864\n",
       "5.0       40133\n",
       "6.0       38466\n",
       "7.0       36589\n",
       "8.0       32816\n",
       "9.0       28500\n",
       "10.0      24100\n",
       "11.0      19461\n",
       "12.0      16296\n",
       "13.0      13040\n",
       "14.0      10616\n",
       "15.0       8939\n",
       "16.0       7314\n",
       "17.0       6136\n",
       "18.0       5220\n",
       "19.0       4465\n",
       "20.0       3840\n",
       "21.0       3433\n",
       "22.0       3221\n",
       "23.0       2633\n",
       "24.0       2485\n",
       "25.0       2384\n",
       "26.0       2042\n",
       "27.0       1995\n",
       "28.0       1930\n",
       "29.0       1712\n",
       "30.0       1661\n",
       "          ...  \n",
       "258.0         5\n",
       "228.0         5\n",
       "177.0         5\n",
       "242.0         5\n",
       "218.0         4\n",
       "216.0         4\n",
       "239.0         4\n",
       "203.0         4\n",
       "241.0         4\n",
       "209.0         4\n",
       "262.0         4\n",
       "198.0         4\n",
       "284.0         4\n",
       "309.0         4\n",
       "245.0         3\n",
       "182.0         3\n",
       "248.0         3\n",
       "229.0         3\n",
       "371.0         3\n",
       "289.0         3\n",
       "449.0         3\n",
       "175.0         2\n",
       "165.0         2\n",
       "227.0         2\n",
       "189.0         2\n",
       "190.0         2\n",
       "336.0         2\n",
       "197.0         2\n",
       "133.0         1\n",
       "314.0         1\n",
       "Name: ANZ_STATISTISCHE_HAUSHALTE, Length: 268, dtype: int64"
      ]
     },
     "execution_count": 137,
     "metadata": {},
     "output_type": "execute_result"
    }
   ],
   "source": [
    "drop_features=drop_features|set(['EINGEFUEGT_AM','D19_LETZTER_KAUF_BRANCHE','EINGEZOGENAM_HH_JAHR'])\n",
    "my_azdias['ANZ_STATISTISCHE_HAUSHALTE'].value_counts()"
   ]
  },
  {
   "cell_type": "markdown",
   "metadata": {},
   "source": [
    "- I think it's a numerical feature. "
   ]
  },
  {
   "cell_type": "code",
   "execution_count": 138,
   "metadata": {},
   "outputs": [],
   "source": [
    "numerical_attribute.add('ANZ_STATISTISCHE_HAUSHALTE')"
   ]
  },
  {
   "cell_type": "code",
   "execution_count": 139,
   "metadata": {},
   "outputs": [
    {
     "data": {
      "text/plain": [
       "56.0    19722\n",
       "31.0    14987\n",
       "27.0    13269\n",
       "38.0    12856\n",
       "23.0    12742\n",
       "36.0    12059\n",
       "35.0    11308\n",
       "55.0     9812\n",
       "34.0     8583\n",
       "50.0     6435\n",
       "53.0     5686\n",
       "37.0     5211\n",
       "21.0     5114\n",
       "54.0     4857\n",
       "6.0      4815\n",
       "41.0     4517\n",
       "19.0     4445\n",
       "29.0     4332\n",
       "18.0     4315\n",
       "39.0     4253\n",
       "33.0     4199\n",
       "25.0     4095\n",
       "20.0     4069\n",
       "26.0     3087\n",
       "32.0     3041\n",
       "15.0     2917\n",
       "48.0     2916\n",
       "17.0     2868\n",
       "14.0     2832\n",
       "40.0     2787\n",
       "3.0      2783\n",
       "2.0      2701\n",
       "43.0     2602\n",
       "46.0     2550\n",
       "22.0     2244\n",
       "24.0     2238\n",
       "47.0     1659\n",
       "1.0      1526\n",
       "4.0      1468\n",
       "13.0     1458\n",
       "30.0     1457\n",
       "5.0      1437\n",
       "52.0     1415\n",
       "16.0     1147\n",
       "45.0     1087\n",
       "12.0     1027\n",
       "9.0       983\n",
       "42.0      912\n",
       "10.0      866\n",
       "11.0      709\n",
       "51.0      674\n",
       "8.0       642\n",
       "7.0       546\n",
       "44.0      447\n",
       "49.0      251\n",
       "28.0      110\n",
       "Name: EXTSEL992, dtype: int64"
      ]
     },
     "execution_count": 139,
     "metadata": {},
     "output_type": "execute_result"
    }
   ],
   "source": [
    "my_azdias['EXTSEL992'].value_counts()"
   ]
  },
  {
   "cell_type": "markdown",
   "metadata": {},
   "source": [
    "- I think it's a numerical feature."
   ]
  },
  {
   "cell_type": "code",
   "execution_count": 140,
   "metadata": {},
   "outputs": [],
   "source": [
    "numerical_attribute.add('EXTSEL992')"
   ]
  },
  {
   "cell_type": "code",
   "execution_count": 141,
   "metadata": {},
   "outputs": [
    {
     "data": {
      "text/plain": [
       "0.0     368782\n",
       "1.0     111235\n",
       "2.0      47613\n",
       "3.0      29827\n",
       "4.0      26996\n",
       "5.0      24019\n",
       "6.0      21882\n",
       "7.0      13238\n",
       "8.0      11864\n",
       "10.0     11034\n",
       "9.0       9425\n",
       "13.0      8707\n",
       "11.0      8226\n",
       "14.0      8180\n",
       "12.0      8046\n",
       "15.0      6942\n",
       "16.0      6435\n",
       "17.0      5502\n",
       "18.0      5061\n",
       "20.0      3538\n",
       "22.0      3492\n",
       "21.0      3364\n",
       "19.0      3300\n",
       "23.0      3239\n",
       "24.0      2980\n",
       "25.0      2887\n",
       "30.0      2648\n",
       "27.0      2622\n",
       "26.0      2569\n",
       "29.0      2552\n",
       "28.0      2454\n",
       "32.0      2390\n",
       "31.0      2313\n",
       "33.0      2240\n",
       "34.0      2054\n",
       "36.0      1959\n",
       "35.0      1769\n",
       "39.0      1660\n",
       "38.0      1622\n",
       "44.0      1435\n",
       "40.0      1359\n",
       "37.0      1348\n",
       "41.0      1329\n",
       "42.0      1324\n",
       "43.0      1321\n",
       "45.0      1165\n",
       "Name: VERDICHTUNGSRAUM, dtype: int64"
      ]
     },
     "execution_count": 141,
     "metadata": {},
     "output_type": "execute_result"
    }
   ],
   "source": [
    "my_azdias['VERDICHTUNGSRAUM'].value_counts()"
   ]
  },
  {
   "cell_type": "markdown",
   "metadata": {},
   "source": [
    "- I think it's a numerical feature."
   ]
  },
  {
   "cell_type": "code",
   "execution_count": 142,
   "metadata": {},
   "outputs": [],
   "source": [
    "numerical_attribute.add('VERDICHTUNGSRAUM')"
   ]
  },
  {
   "cell_type": "code",
   "execution_count": 143,
   "metadata": {},
   "outputs": [
    {
     "name": "stdout",
     "output_type": "stream",
     "text": [
      "{'EINGEFUEGT_AM', 'EINGEZOGENAM_HH_JAHR', 'D19_LETZTER_KAUF_BRANCHE'}\n"
     ]
    }
   ],
   "source": [
    "print(drop_features)"
   ]
  },
  {
   "cell_type": "code",
   "execution_count": 144,
   "metadata": {},
   "outputs": [
    {
     "data": {
      "text/plain": [
       "{'CAMEO_DEU_2015', 'CAMEO_INTL_2015', 'LP_LEBENSPHASE_FEIN'}"
      ]
     },
     "execution_count": 144,
     "metadata": {},
     "output_type": "execute_result"
    }
   ],
   "source": [
    "set([x[1] for x in attribute_value_number if x[0]>30])-numerical_attribute-drop_features-set(['LNR'])"
   ]
  },
  {
   "cell_type": "code",
   "execution_count": 145,
   "metadata": {},
   "outputs": [
    {
     "name": "stdout",
     "output_type": "stream",
     "text": [
      "6B    56672\n",
      "8A    52438\n",
      "4C    47819\n",
      "2D    35074\n",
      "3C    34769\n",
      "7A    34399\n",
      "3D    34307\n",
      "8B    33434\n",
      "4A    33155\n",
      "8C    30993\n",
      "9D    28593\n",
      "9B    27676\n",
      "9C    24987\n",
      "7B    24503\n",
      "9A    20542\n",
      "2C    19422\n",
      "8D    17576\n",
      "6E    16107\n",
      "2B    15486\n",
      "5D    14943\n",
      "6C    14820\n",
      "2A    13249\n",
      "5A    12214\n",
      "1D    11909\n",
      "1A    10850\n",
      "3A    10543\n",
      "5B    10354\n",
      "5C     9935\n",
      "7C     9065\n",
      "4B     9047\n",
      "4D     8570\n",
      "3B     7160\n",
      "6A     6810\n",
      "9E     6379\n",
      "6D     6073\n",
      "6F     5392\n",
      "7D     5333\n",
      "4E     5321\n",
      "1E     5065\n",
      "7E     4633\n",
      "1C     4317\n",
      "5F     4283\n",
      "1B     4071\n",
      "5E     3581\n",
      "XX      373\n",
      "Name: CAMEO_DEU_2015, dtype: int64 51      77576\n",
      "51.0    56118\n",
      "41      53459\n",
      "24      52882\n",
      "41.0    38877\n",
      "24.0    38276\n",
      "14      36524\n",
      "43      32730\n",
      "14.0    26360\n",
      "54      26207\n",
      "43.0    23942\n",
      "25      22837\n",
      "54.0    19184\n",
      "22      19173\n",
      "25.0    16791\n",
      "23      15653\n",
      "13      15272\n",
      "45      15206\n",
      "22.0    13982\n",
      "55      13842\n",
      "52      11836\n",
      "23.0    11097\n",
      "13.0    11064\n",
      "31      11041\n",
      "45.0    10926\n",
      "34      10737\n",
      "55.0    10113\n",
      "15       9832\n",
      "52.0     8706\n",
      "44       8543\n",
      "31.0     7983\n",
      "34.0     7787\n",
      "12       7645\n",
      "15.0     7142\n",
      "44.0     6277\n",
      "35       6090\n",
      "32       6067\n",
      "33       5833\n",
      "12.0     5604\n",
      "32.0     4287\n",
      "35.0     4266\n",
      "33.0     4102\n",
      "XX        373\n",
      "Name: CAMEO_INTL_2015, dtype: int64 0.0     92778\n",
      "1.0     62667\n",
      "5.0     55542\n",
      "6.0     45614\n",
      "2.0     39434\n",
      "8.0     30475\n",
      "11.0    26710\n",
      "29.0    26577\n",
      "7.0     26508\n",
      "13.0    26085\n",
      "10.0    25789\n",
      "31.0    23987\n",
      "12.0    23300\n",
      "30.0    22361\n",
      "15.0    20062\n",
      "3.0     19985\n",
      "19.0    19484\n",
      "37.0    18525\n",
      "4.0     17595\n",
      "14.0    17529\n",
      "20.0    17132\n",
      "32.0    17105\n",
      "39.0    16182\n",
      "40.0    15150\n",
      "27.0    14475\n",
      "16.0    14466\n",
      "38.0    13914\n",
      "35.0    13679\n",
      "34.0    13074\n",
      "9.0     13066\n",
      "21.0    12766\n",
      "28.0    12264\n",
      "24.0    12091\n",
      "36.0    10505\n",
      "25.0    10370\n",
      "23.0     9191\n",
      "22.0     7224\n",
      "18.0     7168\n",
      "33.0     6066\n",
      "17.0     5888\n",
      "26.0     3584\n",
      "Name: LP_LEBENSPHASE_FEIN, dtype: int64\n"
     ]
    }
   ],
   "source": [
    "print(my_azdias['CAMEO_DEU_2015'].value_counts(),my_azdias['CAMEO_INTL_2015'].value_counts(),my_azdias['LP_LEBENSPHASE_FEIN'].value_counts())"
   ]
  },
  {
   "cell_type": "code",
   "execution_count": 146,
   "metadata": {},
   "outputs": [
    {
     "name": "stdout",
     "output_type": "stream",
     "text": [
      "{'ANZ_HAUSHALTE_AKTIV', 'ANZ_HH_TITEL', 'VERDICHTUNGSRAUM', 'ANZ_STATISTISCHE_HAUSHALTE', 'GEBURTSJAHR', 'EXTSEL992', 'ANZ_PERSONEN', 'KBA13_ANZAHL_PKW', 'MIN_GEBAEUDEJAHR', 'ANZ_TITEL'}\n"
     ]
    }
   ],
   "source": [
    "print(numerical_attribute)"
   ]
  },
  {
   "cell_type": "markdown",
   "metadata": {},
   "source": [
    "- That's all,I accept the result of numerical features."
   ]
  },
  {
   "cell_type": "markdown",
   "metadata": {},
   "source": [
    "### 2.Deal with the categories features"
   ]
  },
  {
   "cell_type": "code",
   "execution_count": 147,
   "metadata": {},
   "outputs": [],
   "source": [
    "categories_attribute=set(my_azdias.columns)-numerical_attribute-drop_features-set(['LNR'])"
   ]
  },
  {
   "cell_type": "code",
   "execution_count": 148,
   "metadata": {},
   "outputs": [],
   "source": [
    "my_azdias_categories=my_azdias[list(categories_attribute)]"
   ]
  },
  {
   "cell_type": "code",
   "execution_count": 149,
   "metadata": {},
   "outputs": [
    {
     "data": {
      "text/plain": [
       "{dtype('int64'): Index(['D19_GESAMT_DATUM', 'D19_GESAMT_ANZ_12', 'D19_VERSI_ANZ_12',\n",
       "        'SEMIO_REL', 'FINANZ_MINIMALIST', 'D19_BEKLEIDUNG_REST',\n",
       "        'D19_TELKO_REST', 'D19_BILDUNG', 'ZABEOTYP', 'D19_ENERGIE',\n",
       "        'D19_BANKEN_REST', 'D19_TECHNIK', 'D19_LEBENSMITTEL', 'ANREDE_KZ',\n",
       "        'D19_VERSAND_OFFLINE_DATUM', 'SEMIO_TRADV', 'FINANZ_ANLEGER',\n",
       "        'D19_BANKEN_ANZ_12', 'SEMIO_MAT', 'D19_RATGEBER', 'D19_VERSICHERUNGEN',\n",
       "        'D19_VERSI_DATUM', 'D19_BUCH_CD', 'D19_BANKEN_DATUM', 'SEMIO_ERL',\n",
       "        'D19_BANKEN_GROSS', 'D19_TELKO_ANZ_12', 'D19_VERSAND_ANZ_12',\n",
       "        'D19_VOLLSORTIMENT', 'FINANZ_HAUSBAUER', 'D19_GESAMT_ONLINE_DATUM',\n",
       "        'D19_NAHRUNGSERGAENZUNG', 'GREEN_AVANTGARDE', 'D19_VERSI_ONLINE_DATUM',\n",
       "        'D19_TELKO_DATUM', 'D19_TELKO_MOBILE', 'D19_GESAMT_ANZ_24',\n",
       "        'D19_VERSAND_DATUM', 'D19_BIO_OEKO', 'FINANZ_VORSORGER', 'SEMIO_VERT',\n",
       "        'D19_FREIZEIT', 'SEMIO_RAT', 'FINANZ_SPARER', 'SEMIO_SOZ',\n",
       "        'D19_BANKEN_DIREKT', 'D19_SCHUHE', 'D19_VERSI_OFFLINE_DATUM',\n",
       "        'D19_BANKEN_LOKAL', 'D19_TIERARTIKEL', 'D19_SONSTIGE',\n",
       "        'D19_VERSI_ANZ_24', 'SEMIO_PFLICHT', 'D19_TELKO_OFFLINE_DATUM',\n",
       "        'D19_BEKLEIDUNG_GEH', 'D19_GESAMT_OFFLINE_DATUM', 'D19_GARTEN',\n",
       "        'SEMIO_KULT', 'D19_KOSMETIK', 'KOMBIALTER', 'SEMIO_DOM',\n",
       "        'D19_HAUS_DEKO', 'SEMIO_KRIT', 'D19_TELKO_ONLINE_DATUM',\n",
       "        'D19_VERSAND_ANZ_24', 'D19_REISEN', 'SEMIO_FAM',\n",
       "        'FINANZ_UNAUFFAELLIGER', 'D19_BANKEN_ONLINE_DATUM', 'D19_HANDWERK',\n",
       "        'SEMIO_LUST', 'D19_TELKO_ANZ_24', 'D19_BANKEN_OFFLINE_DATUM',\n",
       "        'D19_DIGIT_SERV', 'ALTERSKATEGORIE_GROB', 'D19_SAMMELARTIKEL',\n",
       "        'SEMIO_KAEM', 'D19_WEIN_FEINKOST', 'FINANZTYP', 'D19_KONSUMTYP_MAX',\n",
       "        'D19_VERSAND_ONLINE_DATUM', 'D19_KINDERARTIKEL', 'D19_DROGERIEARTIKEL',\n",
       "        'D19_VERSAND_REST', 'D19_BANKEN_ANZ_24'],\n",
       "       dtype='object'),\n",
       " dtype('float64'): Index(['KBA13_ANTG4', 'KBA13_FAB_ASIEN', 'LP_STATUS_FEIN', 'INNENSTADT',\n",
       "        'KBA05_CCM3', 'UNGLEICHENN_FLAG', 'VHN', 'PLZ8_GBZ', 'ARBEIT',\n",
       "        'KBA13_ANTG1',\n",
       "        ...\n",
       "        'KBA05_MOD4', 'KBA13_VORB_0', 'D19_SOZIALES', 'KBA05_KRSZUL',\n",
       "        'KBA13_CCM_2501', 'KBA05_ALTER2', 'KBA13_CCM_1500', 'KBA13_AUDI',\n",
       "        'KBA13_CCM_1400', 'KBA13_KRSHERST_AUDI_VW'],\n",
       "       dtype='object', length=263),\n",
       " dtype('O'): Index(['OST_WEST_KZ', 'CAMEO_DEUG_2015', 'CAMEO_INTL_2015', 'CAMEO_DEU_2015'], dtype='object')}"
      ]
     },
     "execution_count": 149,
     "metadata": {},
     "output_type": "execute_result"
    }
   ],
   "source": [
    "my_azdias_categories.columns.to_series().groupby(my_azdias_categories.dtypes).groups"
   ]
  },
  {
   "cell_type": "code",
   "execution_count": 150,
   "metadata": {},
   "outputs": [
    {
     "data": {
      "text/plain": [
       "8      78023\n",
       "9      62578\n",
       "6      61253\n",
       "4      60185\n",
       "8.0    56418\n",
       "3      50360\n",
       "2      48276\n",
       "9.0    45599\n",
       "7      45021\n",
       "6.0    44621\n",
       "4.0    43727\n",
       "3.0    36419\n",
       "2.0    34955\n",
       "7.0    32912\n",
       "5      32292\n",
       "5.0    23018\n",
       "1      20997\n",
       "1.0    15215\n",
       "X        373\n",
       "Name: CAMEO_DEUG_2015, dtype: int64"
      ]
     },
     "execution_count": 150,
     "metadata": {},
     "output_type": "execute_result"
    }
   ],
   "source": [
    "my_azdias_categories['CAMEO_DEUG_2015'].value_counts()"
   ]
  },
  {
   "cell_type": "code",
   "execution_count": 151,
   "metadata": {},
   "outputs": [
    {
     "name": "stdout",
     "output_type": "stream",
     "text": [
      "['CAMEO_DEU_2015', 'CAMEO_DEUG_2015', 'CAMEO_INTL_2015']\n"
     ]
    }
   ],
   "source": [
    "CAMEO_list=[]\n",
    "for l in azdias.columns.tolist():\n",
    "    if 'CAMEO' in l:\n",
    "        CAMEO_list.append(l)\n",
    "print(CAMEO_list)"
   ]
  },
  {
   "cell_type": "code",
   "execution_count": 152,
   "metadata": {},
   "outputs": [
    {
     "name": "stdout",
     "output_type": "stream",
     "text": [
      "6B    56672\n",
      "8A    52438\n",
      "4C    47819\n",
      "2D    35074\n",
      "3C    34769\n",
      "7A    34399\n",
      "3D    34307\n",
      "8B    33434\n",
      "4A    33155\n",
      "8C    30993\n",
      "9D    28593\n",
      "9B    27676\n",
      "9C    24987\n",
      "7B    24503\n",
      "9A    20542\n",
      "2C    19422\n",
      "8D    17576\n",
      "6E    16107\n",
      "2B    15486\n",
      "5D    14943\n",
      "6C    14820\n",
      "2A    13249\n",
      "5A    12214\n",
      "1D    11909\n",
      "1A    10850\n",
      "3A    10543\n",
      "5B    10354\n",
      "5C     9935\n",
      "7C     9065\n",
      "4B     9047\n",
      "4D     8570\n",
      "3B     7160\n",
      "6A     6810\n",
      "9E     6379\n",
      "6D     6073\n",
      "6F     5392\n",
      "7D     5333\n",
      "4E     5321\n",
      "1E     5065\n",
      "7E     4633\n",
      "1C     4317\n",
      "5F     4283\n",
      "1B     4071\n",
      "5E     3581\n",
      "XX      373\n",
      "Name: CAMEO_DEU_2015, dtype: int64\n",
      "51      77576\n",
      "51.0    56118\n",
      "41      53459\n",
      "24      52882\n",
      "41.0    38877\n",
      "24.0    38276\n",
      "14      36524\n",
      "43      32730\n",
      "14.0    26360\n",
      "54      26207\n",
      "43.0    23942\n",
      "25      22837\n",
      "54.0    19184\n",
      "22      19173\n",
      "25.0    16791\n",
      "23      15653\n",
      "13      15272\n",
      "45      15206\n",
      "22.0    13982\n",
      "55      13842\n",
      "52      11836\n",
      "23.0    11097\n",
      "13.0    11064\n",
      "31      11041\n",
      "45.0    10926\n",
      "34      10737\n",
      "55.0    10113\n",
      "15       9832\n",
      "52.0     8706\n",
      "44       8543\n",
      "31.0     7983\n",
      "34.0     7787\n",
      "12       7645\n",
      "15.0     7142\n",
      "44.0     6277\n",
      "35       6090\n",
      "32       6067\n",
      "33       5833\n",
      "12.0     5604\n",
      "32.0     4287\n",
      "35.0     4266\n",
      "33.0     4102\n",
      "XX        373\n",
      "Name: CAMEO_INTL_2015, dtype: int64\n"
     ]
    }
   ],
   "source": [
    "# CAMEO_DEU_2015,CAMEO_INTL_2015 include more detail than CAMEO_DEUG_2015\n",
    "print(my_azdias_categories['CAMEO_DEU_2015'].value_counts())\n",
    "print(my_azdias_categories['CAMEO_INTL_2015'].value_counts())"
   ]
  },
  {
   "cell_type": "code",
   "execution_count": 153,
   "metadata": {},
   "outputs": [
    {
     "data": {
      "text/plain": [
       "98979"
      ]
     },
     "execution_count": 153,
     "metadata": {},
     "output_type": "execute_result"
    }
   ],
   "source": [
    "my_azdias_categories['CAMEO_DEUG_2015'].isnull().sum()\n",
    "# I will replace the XX value by np.nan "
   ]
  },
  {
   "cell_type": "code",
   "execution_count": 154,
   "metadata": {},
   "outputs": [],
   "source": [
    "# I will drop CAMEO_DEU_2015 and CAMEO_INTL_2015 \n",
    "drop_features.add('CAMEO_DEU_2015')\n",
    "drop_features.add('CAMEO_INTL_2015')"
   ]
  },
  {
   "cell_type": "code",
   "execution_count": 155,
   "metadata": {},
   "outputs": [
    {
     "name": "stdout",
     "output_type": "stream",
     "text": [
      "{'CAMEO_DEU_2015', 'EINGEZOGENAM_HH_JAHR', 'CAMEO_INTL_2015', 'D19_LETZTER_KAUF_BRANCHE', 'EINGEFUEGT_AM'}\n"
     ]
    }
   ],
   "source": [
    "print(drop_features)"
   ]
  },
  {
   "cell_type": "code",
   "execution_count": 156,
   "metadata": {},
   "outputs": [],
   "source": [
    "categories_attribute=set(my_azdias.columns)-numerical_attribute-drop_features-set(['LNR'])"
   ]
  },
  {
   "cell_type": "code",
   "execution_count": 157,
   "metadata": {},
   "outputs": [
    {
     "name": "stdout",
     "output_type": "stream",
     "text": [
      "{'KBA13_ANTG4', 'KBA13_FAB_ASIEN', 'LP_STATUS_FEIN', 'INNENSTADT', 'KBA05_CCM3', 'UNGLEICHENN_FLAG', 'VHN', 'PLZ8_GBZ', 'ARBEIT', 'KBA13_ANTG1', 'KBA05_MAXSEG', 'D19_GESAMT_DATUM', 'D19_GESAMT_ANZ_12', 'KBA13_SEG_KLEINST', 'CJT_TYP_4', 'D19_VERSI_ANZ_12', 'TITEL_KZ', 'KBA13_BJ_2004', 'PRAEGENDE_JUGENDJAHRE', 'SEMIO_REL', 'KBA13_CCM_2500', 'FINANZ_MINIMALIST', 'KBA05_SEG5', 'KBA13_KMH_180', 'KBA13_OPEL', 'KBA05_ANTG4', 'KBA13_BMW', 'KBA13_KMH_250', 'D19_BEKLEIDUNG_REST', 'D19_TELKO_REST', 'KBA13_HHZ', 'D19_BILDUNG', 'ZABEOTYP', 'D19_ENERGIE', 'D19_GESAMT_ONLINE_QUOTE_12', 'KBA13_CCM_1000', 'D19_BANKEN_REST', 'KBA05_ZUL2', 'KONSUMZELLE', 'KBA13_BJ_2008', 'OST_WEST_KZ', 'ALTER_KIND1', 'CJT_TYP_3', 'ALTER_KIND2', 'D19_TECHNIK', 'CJT_TYP_1', 'KBA05_CCM2', 'KBA13_HALTER_60', 'KBA13_HALTER_20', 'STRUKTURTYP', 'KBA05_KRSHERST2', 'KBA13_KW_80', 'KBA13_CCM_3000', 'KBA05_ZUL3', 'D19_LEBENSMITTEL', 'RT_SCHNAEPPCHEN', 'ANREDE_KZ', 'UMFELD_JUNG', 'D19_VERSAND_OFFLINE_DATUM', 'KBA13_ANTG3', 'GEBAEUDETYP_RASTER', 'SEMIO_TRADV', 'KBA05_SEG4', 'CAMEO_DEUG_2015', 'CJT_GESAMTTYP', 'RELAT_AB', 'KBA05_AUTOQUOT', 'HEALTH_TYP', 'KBA13_BJ_2009', 'KBA13_CCM_1800', 'KBA13_HERST_AUDI_VW', 'KBA13_ALTERHALTER_60', 'KBA13_KW_70', 'KBA13_KW_121', 'FINANZ_ANLEGER', 'D19_BANKEN_ANZ_12', 'KBA13_KW_30', 'ALTER_KIND3', 'ALTER_HH', 'KBA05_KRSKLEIN', 'KBA05_KRSHERST3', 'KBA13_HERST_SONST', 'MOBI_REGIO', 'KBA05_MOD3', 'KBA05_MOTOR', 'KBA13_SEG_GELAENDEWAGEN', 'WOHNDAUER_2008', 'SEMIO_MAT', 'D19_LOTTO', 'BALLRAUM', 'D19_KONSUMTYP', 'KBA05_MOD8', 'KBA13_KMH_110', 'KBA05_MAXAH', 'PLZ8_ANTG2', 'KBA13_SEG_SPORTWAGEN', 'KBA05_HERST5', 'D19_RATGEBER', 'KBA13_CCM_0_1400', 'D19_VERSICHERUNGEN', 'D19_VERSI_DATUM', 'KK_KUNDENTYP', 'KBA13_NISSAN', 'D19_BUCH_CD', 'D19_BANKEN_DATUM', 'SEMIO_ERL', 'KBA13_SITZE_4', 'KBA13_FORD', 'KBA13_HERST_BMW_BENZ', 'NATIONALITAET_KZ', 'D19_BANKEN_GROSS', 'KBA13_SEG_OBERKLASSE', 'D19_TELKO_ANZ_12', 'KBA13_KW_0_60', 'KBA13_SEG_MITTELKLASSE', 'D19_VERSAND_ANZ_12', 'D19_VOLLSORTIMENT', 'KBA13_HALTER_30', 'KBA13_CCM_3001', 'KBA13_KRSAQUOT', 'RT_UEBERGROESSE', 'FINANZ_HAUSBAUER', 'KBA13_CCM_1600', 'KBA05_SEG7', 'KBA13_KRSSEG_VAN', 'D19_GESAMT_ONLINE_DATUM', 'D19_NAHRUNGSERGAENZUNG', 'HH_DELTA_FLAG', 'KBA13_TOYOTA', 'KBA05_HERST4', 'KBA05_MOTRAD', 'ALTER_KIND4', 'KBA13_KRSZUL_NEU', 'GREEN_AVANTGARDE', 'KBA13_KW_110', 'D19_VERSI_ONLINE_DATUM', 'KBA05_KRSAQUOT', 'KBA13_SEG_KLEINWAGEN', 'KBA13_KMH_210', 'D19_BANKEN_ONLINE_QUOTE_12', 'VERS_TYP', 'KBA05_KW3', 'D19_TELKO_DATUM', 'KBA13_SITZE_6', 'KBA05_MODTEMP', 'GEMEINDETYP', 'SOHO_KZ', 'KBA13_KRSSEG_OBER', 'KBA05_ANHANG', 'D19_TELKO_MOBILE', 'KBA13_BAUMAX', 'KBA05_ANTG3', 'D19_GESAMT_ANZ_24', 'D19_VERSAND_DATUM', 'KBA05_KRSVAN', 'RETOURTYP_BK_S', 'D19_BIO_OEKO', 'KBA13_HALTER_66', 'ANZ_KINDER', 'FINANZ_VORSORGER', 'KBA13_HERST_FORD_OPEL', 'KBA13_PEUGEOT', 'MOBI_RASTER', 'KBA13_SEG_SONSTIGE', 'KBA13_KRSHERST_BMW_BENZ', 'KBA13_HERST_ASIEN', 'KBA13_HERST_EUROPA', 'KBA05_CCM4', 'SEMIO_VERT', 'D19_FREIZEIT', 'KBA05_ZUL1', 'KBA13_KMH_140_210', 'KBA05_HERST3', 'KBA13_KW_90', 'FIRMENDICHTE', 'SEMIO_RAT', 'KBA05_GBZ', 'KBA05_VORB1', 'KBA13_RENAULT', 'KBA13_AUTOQUOTE', 'FINANZ_SPARER', 'SEMIO_SOZ', 'D19_BANKEN_DIREKT', 'KBA05_KW1', 'D19_SCHUHE', 'KBA13_CCM_2000', 'KBA13_BJ_2000', 'KBA13_KW_120', 'D19_VERSI_OFFLINE_DATUM', 'KBA13_HALTER_45', 'KBA13_VORB_2', 'WOHNLAGE', 'KBA13_KW_50', 'KBA05_MAXVORB', 'ONLINE_AFFINITAET', 'VK_DHT4A', 'KBA05_ANTG2', 'KBA05_MAXBJ', 'KBA13_KW_61_120', 'REGIOTYP', 'D19_BANKEN_LOKAL', 'KBA13_SEG_OBEREMITTELKLASSE', 'KBA13_KMH_140', 'ORTSGR_KLS9', 'KBA13_KRSHERST_FORD_OPEL', 'KBA05_SEG6', 'D19_TIERARTIKEL', 'KBA13_SEG_VAN', 'UMFELD_ALT', 'KBA05_ALTER1', 'KBA13_KMH_211', 'KONSUMNAEHE', 'DSL_FLAG', 'KBA13_KRSSEG_KLEIN', 'KBA05_HERSTTEMP', 'D19_SONSTIGE', 'PLZ8_HHZ', 'D19_VERSI_ANZ_24', 'SEMIO_PFLICHT', 'LP_FAMILIE_FEIN', 'KBA13_MERCEDES', 'D19_TELKO_OFFLINE_DATUM', 'KBA13_VORB_3', 'ALTERSKATEGORIE_FEIN', 'KBA05_MOD2', 'KBA05_ALTER4', 'KBA05_HERST1', 'D19_BEKLEIDUNG_GEH', 'KKK', 'KBA13_MOTOR', 'KBA13_HALTER_40', 'D19_GESAMT_OFFLINE_DATUM', 'KBA05_VORB0', 'VK_DISTANZ', 'KBA13_SEG_GROSSRAUMVANS', 'KBA13_HALTER_50', 'KBA13_KW_40', 'W_KEIT_KIND_HH', 'LP_LEBENSPHASE_GROB', 'PLZ8_BAUMAX', 'KBA13_BJ_1999', 'RT_KEIN_ANREIZ', 'AGER_TYP', 'D19_GARTEN', 'SEMIO_KULT', 'D19_KOSMETIK', 'KBA05_DIESEL', 'KBA05_SEG2', 'KBA13_ALTERHALTER_30', 'CJT_TYP_2', 'KOMBIALTER', 'SEMIO_DOM', 'KBA13_VORB_1', 'KBA05_MAXHERST', 'KBA13_VORB_1_2', 'KBA13_SEG_MINIWAGEN', 'D19_HAUS_DEKO', 'KBA05_FRAU', 'SEMIO_KRIT', 'CJT_TYP_5', 'VK_ZG11', 'PLZ8_ANTG3', 'D19_TELKO_ONLINE_DATUM', 'D19_TELKO_ONLINE_QUOTE_12', 'D19_VERSAND_ANZ_24', 'LP_STATUS_GROB', 'KBA05_SEG3', 'KBA05_KRSOBER', 'PLZ8_ANTG1', 'KBA13_CCM_1200', 'HH_EINKOMMEN_SCORE', 'KBA13_SEG_WOHNMOBILE', 'D19_REISEN', 'SEMIO_FAM', 'FINANZ_UNAUFFAELLIGER', 'KBA05_ALTER3', 'KBA13_KW_60', 'KBA13_MAZDA', 'KBA13_VW', 'KBA05_SEG8', 'D19_BANKEN_ONLINE_DATUM', 'KBA13_ALTERHALTER_45', 'D19_HANDWERK', 'D19_VERSAND_ONLINE_QUOTE_12', 'CJT_TYP_6', 'GEBAEUDETYP', 'KBA13_HALTER_65', 'SEMIO_LUST', 'D19_TELKO_ANZ_24', 'AKT_DAT_KL', 'KBA13_ANTG2', 'D19_BANKEN_OFFLINE_DATUM', 'KBA05_CCM1', 'LP_FAMILIE_GROB', 'KBA05_BAUMAX', 'KBA13_KMH_0_140', 'EWDICHTE', 'D19_DIGIT_SERV', 'ALTERSKATEGORIE_GROB', 'D19_SAMMELARTIKEL', 'SEMIO_KAEM', 'KBA13_SITZE_5', 'PLZ8_ANTG4', 'KBA13_SEG_KOMPAKTKLASSE', 'KBA05_KRSHERST1', 'KBA05_VORB2', 'D19_WEIN_FEINKOST', 'KBA13_SEG_MINIVANS', 'KBA13_HALTER_35', 'SHOPPER_TYP', 'VHA', 'KBA13_HALTER_25', 'KBA13_KMH_251', 'KBA13_CCM_1401_2500', 'KBA05_ANTG1', 'CJT_KATALOGNUTZER', 'KBA05_SEG1', 'FINANZTYP', 'GFK_URLAUBERTYP', 'KBA13_SEG_UTILITIES', 'KBA05_MOD1', 'LP_LEBENSPHASE_FEIN', 'KBA05_SEG10', 'D19_KONSUMTYP_MAX', 'D19_VERSI_ONLINE_QUOTE_12', 'KBA13_FIAT', 'KBA13_HALTER_55', 'KBA05_SEG9', 'KBA05_ZUL4', 'KBA05_HERST2', 'KBA13_GBZ', 'KBA05_KW2', 'KBA13_ALTERHALTER_61', 'KBA13_FAB_SONSTIGE', 'KBA13_BJ_2006', 'KBA05_MOD4', 'KBA13_VORB_0', 'D19_SOZIALES', 'KBA05_KRSZUL', 'KBA13_CCM_2501', 'KBA05_ALTER2', 'D19_VERSAND_ONLINE_DATUM', 'D19_KINDERARTIKEL', 'D19_DROGERIEARTIKEL', 'KBA13_CCM_1500', 'KBA13_AUDI', 'KBA13_CCM_1400', 'D19_VERSAND_REST', 'KBA13_KRSHERST_AUDI_VW', 'D19_BANKEN_ANZ_24'}\n"
     ]
    }
   ],
   "source": [
    "print(categories_attribute)"
   ]
  },
  {
   "cell_type": "markdown",
   "metadata": {},
   "source": [
    "### 3.process the missing values and deal with some features"
   ]
  },
  {
   "cell_type": "code",
   "execution_count": 158,
   "metadata": {},
   "outputs": [],
   "source": [
    "# deal with columns\n",
    "azdias_col_null=(my_azdias.isnull().sum()/len(my_azdias)).sort_values(ascending=False)\n",
    "customers_col_null=(my_customers.isnull().sum()/len(my_customers)).sort_values(ascending=False)"
   ]
  },
  {
   "cell_type": "code",
   "execution_count": 159,
   "metadata": {},
   "outputs": [
    {
     "data": {
      "image/png": "[encoded data removed]",
      "text/plain": [
       "<Figure size 432x288 with 1 Axes>"
      ]
     },
     "metadata": {},
     "output_type": "display_data"
    }
   ],
   "source": [
    "azdias_col_null.hist(bins=30)\n",
    "plt.xlabel('Proportion')\n",
    "plt.ylabel('Count')\n",
    "plt.title('Distribution of All Missing Values per Column');"
   ]
  },
  {
   "cell_type": "code",
   "execution_count": 160,
   "metadata": {},
   "outputs": [
    {
     "data": {
      "image/png": "[encoded data removed]",
      "text/plain": [
       "<Figure size 432x288 with 1 Axes>"
      ]
     },
     "metadata": {},
     "output_type": "display_data"
    }
   ],
   "source": [
    "customers_col_null.hist(bins=30)\n",
    "plt.xlabel('Proportion')\n",
    "plt.ylabel('Count')\n",
    "plt.title('Distribution of All Missing Values per Column');"
   ]
  },
  {
   "cell_type": "code",
   "execution_count": 161,
   "metadata": {},
   "outputs": [
    {
     "name": "stdout",
     "output_type": "stream",
     "text": [
      "{'REGIOTYP', 'KK_KUNDENTYP', 'KKK', 'AGER_TYP', 'EXTSEL992', 'ALTER_KIND3', 'ALTER_HH', 'ALTER_KIND4', 'TITEL_KZ', 'KBA05_BAUMAX', 'ALTER_KIND1', 'ALTER_KIND2'}\n",
      "{'REGIOTYP', 'KK_KUNDENTYP', 'KKK', 'AGER_TYP', 'EINGEZOGENAM_HH_JAHR', 'EXTSEL992', 'ALTER_KIND3', 'D19_LETZTER_KAUF_BRANCHE', 'ALTER_HH', 'CAMEO_DEU_2015', 'ALTER_KIND4', 'TITEL_KZ', 'CAMEO_INTL_2015', 'KBA05_BAUMAX', 'EINGEFUEGT_AM', 'ALTER_KIND1', 'ALTER_KIND2'}\n"
     ]
    }
   ],
   "source": [
    "#remove the features that has over 30% missing rate\n",
    "remove_features=set(azdias_col_null[azdias_col_null>0.3].index)|set(customers_col_null[customers_col_null>0.3].index)\n",
    "print(remove_features)\n",
    "# azdias.drop(labels=remove_features,axis=1,inplace=True)\n",
    "# customers.drop(labels=remove_features,axis=1,inplace=True)\n",
    "# print(azdias.shape,customers.shape)\n",
    "drop_features=drop_features|remove_features\n",
    "print(drop_features)"
   ]
  },
  {
   "cell_type": "code",
   "execution_count": 162,
   "metadata": {},
   "outputs": [],
   "source": [
    "# redefine the categories_attribute and the numerical_attribute\n",
    "categories_attribute=categories_attribute-drop_features\n",
    "numerical_attribute=numerical_attribute-drop_features"
   ]
  },
  {
   "cell_type": "code",
   "execution_count": 163,
   "metadata": {},
   "outputs": [],
   "source": [
    "my_azdias.drop(labels=drop_features,axis=1,inplace=True)\n",
    "my_customers.drop(labels=drop_features,axis=1,inplace=True)"
   ]
  },
  {
   "cell_type": "code",
   "execution_count": 164,
   "metadata": {},
   "outputs": [],
   "source": [
    "# deal with rows\n",
    "azdias_row_null=(my_azdias.isnull().mean(axis=1)).sort_values(ascending=False)\n",
    "customers_row_null=(my_customers.isnull().mean(axis=1)).sort_values(ascending=False)"
   ]
  },
  {
   "cell_type": "code",
   "execution_count": 165,
   "metadata": {},
   "outputs": [
    {
     "data": {
      "image/png": "[encoded data removed]",
      "text/plain": [
       "<Figure size 432x288 with 1 Axes>"
      ]
     },
     "metadata": {},
     "output_type": "display_data"
    }
   ],
   "source": [
    "azdias_row_null.hist(bins=30)\n",
    "plt.xlabel('Proportion')\n",
    "plt.ylabel('Count')\n",
    "plt.title('Distribution of All Missing Values per Row');"
   ]
  },
  {
   "cell_type": "code",
   "execution_count": 166,
   "metadata": {
    "scrolled": true
   },
   "outputs": [
    {
     "data": {
      "image/png": "[encoded data removed]",
      "text/plain": [
       "<Figure size 432x288 with 1 Axes>"
      ]
     },
     "metadata": {},
     "output_type": "display_data"
    }
   ],
   "source": [
    "customers_row_null.hist(bins=30)\n",
    "plt.xlabel('Proportion')\n",
    "plt.ylabel('Count')\n",
    "plt.title('Distribution of All Missing Values per Row');"
   ]
  },
  {
   "cell_type": "code",
   "execution_count": 167,
   "metadata": {},
   "outputs": [
    {
     "name": "stdout",
     "output_type": "stream",
     "text": [
      "(891221, 349) (191652, 352)\n"
     ]
    }
   ],
   "source": [
    "print(my_azdias.shape,my_customers.shape)"
   ]
  },
  {
   "cell_type": "code",
   "execution_count": 168,
   "metadata": {},
   "outputs": [],
   "source": [
    "#remove the row that has over 10% missing rate\n",
    "azdias_remove_row=azdias_row_null[azdias_row_null>0.1].index\n",
    "customers_remove_row=customers_row_null[customers_row_null>0.1].index\n",
    "\n",
    "my_azdias.drop(index=azdias_remove_row,axis=0,inplace=True)\n",
    "my_customers.drop(index=customers_remove_row,axis=0,inplace=True)"
   ]
  },
  {
   "cell_type": "code",
   "execution_count": 169,
   "metadata": {},
   "outputs": [
    {
     "name": "stdout",
     "output_type": "stream",
     "text": [
      "(737215, 349) (134245, 352)\n"
     ]
    }
   ],
   "source": [
    "print(my_azdias.shape,my_customers.shape)"
   ]
  },
  {
   "cell_type": "code",
   "execution_count": 170,
   "metadata": {},
   "outputs": [
    {
     "name": "stdout",
     "output_type": "stream",
     "text": [
      "0.007324992784837431\n",
      "0.002320109264269196\n"
     ]
    }
   ],
   "source": [
    "print(my_azdias.isnull().mean().mean())\n",
    "print(my_customers.isnull().mean().mean())"
   ]
  },
  {
   "cell_type": "code",
   "execution_count": 171,
   "metadata": {},
   "outputs": [],
   "source": [
    "# set index\n",
    "my_azdias.set_index('LNR',inplace=True)\n",
    "my_customers.set_index('LNR',inplace=True)"
   ]
  },
  {
   "cell_type": "code",
   "execution_count": 172,
   "metadata": {},
   "outputs": [],
   "source": [
    "# dorp 3 attribute that only in my_customers dataset  \n",
    "my_customers.drop(labels=['CUSTOMER_GROUP', 'ONLINE_PURCHASE', 'PRODUCT_GROUP'],axis=1,inplace=True)"
   ]
  },
  {
   "cell_type": "code",
   "execution_count": null,
   "metadata": {},
   "outputs": [],
   "source": []
  },
  {
   "cell_type": "code",
   "execution_count": 181,
   "metadata": {},
   "outputs": [],
   "source": [
    "# deal with the 'MIN_GEBAEUDEJAHR' , 'GEBURTSJAHR'\n",
    "my_azdias['MIN_GEBAEUDEJAHR']=2018-my_azdias_customers['MIN_GEBAEUDEJAHR']\n",
    "my_azdias['GEBURTSJAHR']=2018-my_azdias_customers['GEBURTSJAHR']\n",
    "\n",
    "my_customers['MIN_GEBAEUDEJAHR']=2018-my_azdias_customers['MIN_GEBAEUDEJAHR']\n",
    "my_customers['GEBURTSJAHR']=2018-my_azdias_customers['GEBURTSJAHR']"
   ]
  },
  {
   "cell_type": "code",
   "execution_count": 182,
   "metadata": {},
   "outputs": [],
   "source": [
    "# fill the missing data in numerical_attribute\n",
    "for l in numerical_attribute:\n",
    "    my_azdias[l]=my_azdias[l].fillna(value=round(my_azdias['MIN_GEBAEUDEJAHR'].mean()))\n",
    "    my_customers[l]=my_customers[l].fillna(value=round(my_customers['MIN_GEBAEUDEJAHR'].mean()))"
   ]
  },
  {
   "cell_type": "code",
   "execution_count": 183,
   "metadata": {},
   "outputs": [
    {
     "data": {
      "text/plain": [
       "0"
      ]
     },
     "execution_count": 183,
     "metadata": {},
     "output_type": "execute_result"
    }
   ],
   "source": [
    "len(my_azdias[list(numerical_attribute)].isnull().any()[my_azdias[list(numerical_attribute)].isnull().any()==True].index)"
   ]
  },
  {
   "cell_type": "code",
   "execution_count": 184,
   "metadata": {},
   "outputs": [
    {
     "data": {
      "text/plain": [
       "0"
      ]
     },
     "execution_count": 184,
     "metadata": {},
     "output_type": "execute_result"
    }
   ],
   "source": [
    "len(my_customers[list(numerical_attribute)].isnull().any()[my_customers[list(numerical_attribute)].isnull().any()==True].index)"
   ]
  },
  {
   "cell_type": "code",
   "execution_count": 186,
   "metadata": {},
   "outputs": [],
   "source": [
    "# deal with the 'CAMEO_DEUG_2015',replace the X value by np.nan\n",
    "my_azdias['CAMEO_DEUG_2015'].replace('X',np.nan,inplace=True)\n",
    "my_customers['CAMEO_DEUG_2015'].replace('X',np.nan,inplace=True)"
   ]
  },
  {
   "cell_type": "code",
   "execution_count": 187,
   "metadata": {},
   "outputs": [],
   "source": [
    "my_azdias['CAMEO_DEUG_2015']=my_azdias['CAMEO_DEUG_2015'].astype('float')\n",
    "my_customers['CAMEO_DEUG_2015']=my_customers['CAMEO_DEUG_2015'].astype('float')"
   ]
  },
  {
   "cell_type": "code",
   "execution_count": 188,
   "metadata": {},
   "outputs": [
    {
     "name": "stdout",
     "output_type": "stream",
     "text": [
      "[(2, 'ANREDE_KZ'), (2, 'DSL_FLAG'), (2, 'GREEN_AVANTGARDE'), (2, 'HH_DELTA_FLAG'), (2, 'KBA05_SEG6'), (2, 'KONSUMZELLE'), (2, 'OST_WEST_KZ'), (2, 'SOHO_KZ'), (2, 'UNGLEICHENN_FLAG'), (2, 'VERS_TYP'), (3, 'HEALTH_TYP'), (3, 'KBA05_ANTG4'), (3, 'KBA05_KRSKLEIN'), (3, 'KBA05_KRSOBER'), (3, 'KBA05_KRSVAN'), (3, 'KBA05_KRSZUL'), (3, 'KBA05_MAXVORB'), (3, 'KBA13_ANTG4'), (3, 'KBA13_KMH_110'), (3, 'KBA13_KMH_251'), (3, 'KBA13_KW_30'), (3, 'NATIONALITAET_KZ'), (3, 'PLZ8_ANTG4'), (3, 'STRUKTURTYP'), (4, 'D19_TELKO_ONLINE_QUOTE_12'), (4, 'KBA05_ANHANG'), (4, 'KBA05_ANTG3'), (4, 'KBA05_MAXBJ'), (4, 'KBA05_MAXSEG'), (4, 'KBA05_MOD8'), (4, 'KBA05_MOTOR'), (4, 'KBA05_MOTRAD'), (4, 'KBA05_SEG1'), (4, 'KBA05_SEG7'), (4, 'KBA05_SEG8'), (4, 'KBA05_SEG9'), (4, 'KBA13_ANTG3'), (4, 'KBA13_KRSSEG_KLEIN'), (4, 'KBA13_KRSSEG_OBER'), (4, 'KBA13_KRSSEG_VAN'), (4, 'KBA13_KRSZUL_NEU'), (4, 'KBA13_MOTOR'), (4, 'PLZ8_ANTG3'), (4, 'SHOPPER_TYP'), (5, 'ALTERSKATEGORIE_GROB'), (5, 'CJT_KATALOGNUTZER'), (5, 'CJT_TYP_1'), (5, 'CJT_TYP_2'), (5, 'CJT_TYP_3'), (5, 'CJT_TYP_4'), (5, 'CJT_TYP_5'), (5, 'CJT_TYP_6'), (5, 'FINANZ_ANLEGER'), (5, 'FINANZ_HAUSBAUER'), (5, 'FINANZ_MINIMALIST'), (5, 'FINANZ_SPARER'), (5, 'FINANZ_UNAUFFAELLIGER'), (5, 'FINANZ_VORSORGER'), (5, 'FIRMENDICHTE'), (5, 'GEBAEUDETYP_RASTER'), (5, 'KBA05_ALTER1'), (5, 'KBA05_ALTER2'), (5, 'KBA05_ALTER3'), (5, 'KBA05_ANTG1'), (5, 'KBA05_ANTG2'), (5, 'KBA05_AUTOQUOT'), (5, 'KBA05_CCM1'), (5, 'KBA05_CCM2'), (5, 'KBA05_CCM3'), (5, 'KBA05_CCM4'), (5, 'KBA05_DIESEL'), (5, 'KBA05_FRAU'), (5, 'KBA05_GBZ'), (5, 'KBA05_HERST2'), (5, 'KBA05_HERSTTEMP'), (5, 'KBA05_KRSAQUOT'), (5, 'KBA05_KRSHERST1'), (5, 'KBA05_KRSHERST2'), (5, 'KBA05_KRSHERST3'), (5, 'KBA05_KW1'), (5, 'KBA05_KW2'), (5, 'KBA05_KW3'), (5, 'KBA05_MAXAH'), (5, 'KBA05_MAXHERST'), (5, 'KBA05_MOD1'), (5, 'KBA05_MOD2'), (5, 'KBA05_MOD3'), (5, 'KBA05_SEG10'), (5, 'KBA05_SEG2'), (5, 'KBA05_SEG3'), (5, 'KBA05_SEG4'), (5, 'KBA05_SEG5'), (5, 'KBA05_VORB0'), (5, 'KBA05_VORB1'), (5, 'KBA05_ZUL1'), (5, 'KBA05_ZUL2'), (5, 'KBA13_ALTERHALTER_30'), (5, 'KBA13_ALTERHALTER_45'), (5, 'KBA13_ALTERHALTER_60'), (5, 'KBA13_ALTERHALTER_61'), (5, 'KBA13_ANTG1'), (5, 'KBA13_ANTG2'), (5, 'KBA13_AUDI'), (5, 'KBA13_AUTOQUOTE'), (5, 'KBA13_BAUMAX'), (5, 'KBA13_BJ_1999'), (5, 'KBA13_BJ_2000'), (5, 'KBA13_BJ_2004'), (5, 'KBA13_BJ_2006'), (5, 'KBA13_BMW'), (5, 'KBA13_CCM_1400'), (5, 'KBA13_CCM_1401_2500'), (5, 'KBA13_CCM_1500'), (5, 'KBA13_CCM_1600'), (5, 'KBA13_CCM_2000'), (5, 'KBA13_CCM_3001'), (5, 'KBA13_FAB_ASIEN'), (5, 'KBA13_FAB_SONSTIGE'), (5, 'KBA13_FIAT'), (5, 'KBA13_FORD'), (5, 'KBA13_GBZ'), (5, 'KBA13_HALTER_20'), (5, 'KBA13_HALTER_25'), (5, 'KBA13_HALTER_30'), (5, 'KBA13_HALTER_35'), (5, 'KBA13_HALTER_40'), (5, 'KBA13_HALTER_45'), (5, 'KBA13_HALTER_50'), (5, 'KBA13_HALTER_55'), (5, 'KBA13_HALTER_60'), (5, 'KBA13_HALTER_65'), (5, 'KBA13_HALTER_66'), (5, 'KBA13_HERST_ASIEN'), (5, 'KBA13_HERST_AUDI_VW'), (5, 'KBA13_HERST_BMW_BENZ'), (5, 'KBA13_HERST_EUROPA'), (5, 'KBA13_HERST_FORD_OPEL'), (5, 'KBA13_HERST_SONST'), (5, 'KBA13_HHZ'), (5, 'KBA13_KMH_140'), (5, 'KBA13_KMH_140_210'), (5, 'KBA13_KMH_180'), (5, 'KBA13_KMH_210'), (5, 'KBA13_KRSAQUOT'), (5, 'KBA13_KRSHERST_AUDI_VW'), (5, 'KBA13_KRSHERST_BMW_BENZ'), (5, 'KBA13_KRSHERST_FORD_OPEL'), (5, 'KBA13_KW_0_60'), (5, 'KBA13_KW_61_120'), (5, 'KBA13_MAZDA'), (5, 'KBA13_MERCEDES'), (5, 'KBA13_NISSAN'), (5, 'KBA13_OPEL'), (5, 'KBA13_PEUGEOT'), (5, 'KBA13_RENAULT'), (5, 'KBA13_SEG_GELAENDEWAGEN'), (5, 'KBA13_SEG_GROSSRAUMVANS'), (5, 'KBA13_SEG_KLEINST'), (5, 'KBA13_SEG_KLEINWAGEN'), (5, 'KBA13_SEG_KOMPAKTKLASSE'), (5, 'KBA13_SEG_MINIVANS'), (5, 'KBA13_SEG_MINIWAGEN'), (5, 'KBA13_SEG_MITTELKLASSE'), (5, 'KBA13_SEG_OBEREMITTELKLASSE'), (5, 'KBA13_SEG_SONSTIGE'), (5, 'KBA13_SEG_UTILITIES'), (5, 'KBA13_SEG_VAN'), (5, 'KBA13_SITZE_4'), (5, 'KBA13_SITZE_5'), (5, 'KBA13_SITZE_6'), (5, 'KBA13_TOYOTA'), (5, 'KBA13_VORB_0'), (5, 'KBA13_VORB_1'), (5, 'KBA13_VORB_1_2'), (5, 'KBA13_VORB_2'), (5, 'KBA13_VW'), (5, 'KOMBIALTER'), (5, 'LP_STATUS_GROB'), (5, 'PLZ8_ANTG1'), (5, 'PLZ8_ANTG2'), (5, 'PLZ8_BAUMAX'), (5, 'PLZ8_GBZ'), (5, 'PLZ8_HHZ'), (5, 'RELAT_AB'), (5, 'RETOURTYP_BK_S'), (5, 'RT_KEIN_ANREIZ'), (5, 'RT_SCHNAEPPCHEN'), (5, 'UMFELD_ALT'), (5, 'UMFELD_JUNG'), (5, 'VHN'), (6, 'ARBEIT'), (6, 'CJT_GESAMTTYP'), (6, 'D19_KONSUMTYP_MAX'), (6, 'D19_SOZIALES'), (6, 'EWDICHTE'), (6, 'FINANZTYP'), (6, 'HH_EINKOMMEN_SCORE'), (6, 'KBA05_ALTER4'), (6, 'KBA05_HERST1'), (6, 'KBA05_HERST3'), (6, 'KBA05_HERST4'), (6, 'KBA05_HERST5'), (6, 'KBA05_MOD4'), (6, 'KBA05_MODTEMP'), (6, 'KBA05_VORB2'), (6, 'KBA05_ZUL3'), (6, 'KBA05_ZUL4'), (6, 'KBA13_BJ_2008'), (6, 'KBA13_BJ_2009'), (6, 'KBA13_CCM_0_1400'), (6, 'KBA13_CCM_1000'), (6, 'KBA13_CCM_1200'), (6, 'KBA13_CCM_1800'), (6, 'KBA13_CCM_2500'), (6, 'KBA13_CCM_2501'), (6, 'KBA13_CCM_3000'), (6, 'KBA13_KMH_0_140'), (6, 'KBA13_KMH_211'), (6, 'KBA13_KMH_250'), (6, 'KBA13_KW_110'), (6, 'KBA13_KW_120'), (6, 'KBA13_KW_121'), (6, 'KBA13_KW_40'), (6, 'KBA13_KW_50'), (6, 'KBA13_KW_60'), (6, 'KBA13_KW_70'), (6, 'KBA13_KW_80'), (6, 'KBA13_KW_90'), (6, 'KBA13_SEG_OBERKLASSE'), (6, 'KBA13_SEG_SPORTWAGEN'), (6, 'KBA13_SEG_WOHNMOBILE'), (6, 'KBA13_VORB_3'), (6, 'LP_FAMILIE_GROB'), (6, 'MOBI_RASTER'), (6, 'MOBI_REGIO'), (6, 'ONLINE_AFFINITAET'), (6, 'RT_UEBERGROESSE'), (6, 'VHA'), (6, 'W_KEIT_KIND_HH'), (6, 'ZABEOTYP'), (7, 'BALLRAUM'), (7, 'D19_BANKEN_ANZ_12'), (7, 'D19_BANKEN_ANZ_24'), (7, 'D19_BANKEN_GROSS'), (7, 'D19_GESAMT_ANZ_12'), (7, 'D19_GESAMT_ANZ_24'), (7, 'D19_KONSUMTYP'), (7, 'D19_TELKO_ANZ_12'), (7, 'D19_TELKO_ANZ_24'), (7, 'D19_VERSAND_ANZ_12'), (7, 'D19_VERSAND_ANZ_24'), (7, 'D19_VERSI_ANZ_12'), (7, 'D19_VERSI_ANZ_24'), (7, 'GEBAEUDETYP'), (7, 'GEMEINDETYP'), (7, 'KONSUMNAEHE'), (7, 'SEMIO_DOM'), (7, 'SEMIO_ERL'), (7, 'SEMIO_FAM'), (7, 'SEMIO_KAEM'), (7, 'SEMIO_KRIT'), (7, 'SEMIO_KULT'), (7, 'SEMIO_LUST'), (7, 'SEMIO_MAT'), (7, 'SEMIO_PFLICHT'), (7, 'SEMIO_RAT'), (7, 'SEMIO_REL'), (7, 'SEMIO_SOZ'), (7, 'SEMIO_TRADV'), (7, 'SEMIO_VERT'), (8, 'D19_BANKEN_DIREKT'), (8, 'D19_BANKEN_LOKAL'), (8, 'D19_BANKEN_REST'), (8, 'D19_BEKLEIDUNG_GEH'), (8, 'D19_BEKLEIDUNG_REST'), (8, 'D19_BILDUNG'), (8, 'D19_BIO_OEKO'), (8, 'D19_BUCH_CD'), (8, 'D19_DIGIT_SERV'), (8, 'D19_DROGERIEARTIKEL'), (8, 'D19_ENERGIE'), (8, 'D19_FREIZEIT'), (8, 'D19_GARTEN'), (8, 'D19_HANDWERK'), (8, 'D19_HAUS_DEKO'), (8, 'D19_KINDERARTIKEL'), (8, 'D19_KOSMETIK'), (8, 'D19_LEBENSMITTEL'), (8, 'D19_LOTTO'), (8, 'D19_NAHRUNGSERGAENZUNG'), (8, 'D19_RATGEBER'), (8, 'D19_REISEN'), (8, 'D19_SAMMELARTIKEL'), (8, 'D19_SCHUHE'), (8, 'D19_SONSTIGE'), (8, 'D19_TECHNIK'), (8, 'D19_TELKO_MOBILE'), (8, 'D19_TELKO_REST'), (8, 'D19_TIERARTIKEL'), (8, 'D19_VERSAND_REST'), (8, 'D19_VERSICHERUNGEN'), (8, 'D19_VERSI_ONLINE_QUOTE_12'), (8, 'D19_VOLLSORTIMENT'), (8, 'D19_WEIN_FEINKOST'), (8, 'INNENSTADT'), (8, 'WOHNLAGE'), (9, 'AKT_DAT_KL'), (9, 'CAMEO_DEUG_2015'), (9, 'ORTSGR_KLS9'), (9, 'WOHNDAUER_2008'), (10, 'ANZ_KINDER'), (10, 'D19_BANKEN_DATUM'), (10, 'D19_BANKEN_OFFLINE_DATUM'), (10, 'D19_BANKEN_ONLINE_DATUM'), (10, 'D19_GESAMT_DATUM'), (10, 'D19_GESAMT_OFFLINE_DATUM'), (10, 'D19_GESAMT_ONLINE_DATUM'), (10, 'D19_TELKO_DATUM'), (10, 'D19_TELKO_OFFLINE_DATUM'), (10, 'D19_TELKO_ONLINE_DATUM'), (10, 'D19_VERSAND_DATUM'), (10, 'D19_VERSAND_OFFLINE_DATUM'), (10, 'D19_VERSAND_ONLINE_DATUM'), (10, 'D19_VERSI_DATUM'), (10, 'D19_VERSI_OFFLINE_DATUM'), (10, 'D19_VERSI_ONLINE_DATUM'), (10, 'LP_STATUS_FEIN'), (11, 'D19_BANKEN_ONLINE_QUOTE_12'), (11, 'D19_GESAMT_ONLINE_QUOTE_12'), (11, 'D19_VERSAND_ONLINE_QUOTE_12'), (11, 'VK_DHT4A'), (11, 'VK_ZG11'), (12, 'GFK_URLAUBERTYP'), (12, 'LP_FAMILIE_FEIN'), (13, 'LP_LEBENSPHASE_GROB'), (13, 'VK_DISTANZ'), (15, 'PRAEGENDE_JUGENDJAHRE'), (26, 'ALTERSKATEGORIE_FEIN'), (41, 'LP_LEBENSPHASE_FEIN')]\n"
     ]
    }
   ],
   "source": [
    "attribute_value_number=[]\n",
    "for i in categories_attribute:\n",
    "    attribute_value_number.append((len(my_azdias[i].value_counts()),i))\n",
    "print(sorted(attribute_value_number))"
   ]
  },
  {
   "cell_type": "code",
   "execution_count": 86,
   "metadata": {},
   "outputs": [
    {
     "name": "stdout",
     "output_type": "stream",
     "text": [
      "Wall time: 22.1 s\n"
     ]
    }
   ],
   "source": [
    "%%time\n",
    "my_azdias_customers[list(categories_attribute-set(['OST_WEST_KZ']))]=my_azdias_customers[list(categories_attribute-set(['OST_WEST_KZ']))].astype('float')"
   ]
  },
  {
   "cell_type": "code",
   "execution_count": 87,
   "metadata": {},
   "outputs": [],
   "source": [
    "# To reduce the memory use of PCA, I choose almost categories to ordinal with DIAS_Attributes"
   ]
  },
  {
   "cell_type": "code",
   "execution_count": 88,
   "metadata": {},
   "outputs": [
    {
     "name": "stdout",
     "output_type": "stream",
     "text": [
      "Wall time: 4.39 s\n"
     ]
    }
   ],
   "source": [
    "%%time\n",
    "my_azdias_customers_dummy=pd.get_dummies(data=my_azdias_customers[list(categories_attribute)])"
   ]
  },
  {
   "cell_type": "code",
   "execution_count": 89,
   "metadata": {},
   "outputs": [
    {
     "name": "stdout",
     "output_type": "stream",
     "text": [
      "(871460, 340)\n"
     ]
    }
   ],
   "source": [
    "print(my_azdias_customers_dummy.shape)"
   ]
  },
  {
   "cell_type": "code",
   "execution_count": 90,
   "metadata": {},
   "outputs": [
    {
     "name": "stdout",
     "output_type": "stream",
     "text": [
      "        KBA13_CCM_1800  KBA05_SEG3  KBA13_KW_70  HH_EINKOMMEN_SCORE  VHA  \\\n",
      "LNR                                                                        \n",
      "910220             2.0         2.0          1.0                 6.0  0.0   \n",
      "910225             4.0         3.0          4.0                 4.0  0.0   \n",
      "910226             2.0         5.0          3.0                 1.0  1.0   \n",
      "910241             3.0         1.0          2.0                 5.0  0.0   \n",
      "910244             3.0         3.0          1.0                 5.0  0.0   \n",
      "910248             3.0         3.0          1.0                 6.0  0.0   \n",
      "910261             5.0         2.0          3.0                 4.0  0.0   \n",
      "645145             3.0         5.0          2.0                 3.0  0.0   \n",
      "645153             1.0         5.0          2.0                 4.0  0.0   \n",
      "645165             1.0         4.0          0.0                 6.0  0.0   \n",
      "612574             2.0         3.0          4.0                 5.0  0.0   \n",
      "612586             1.0         2.0          5.0                 4.0  0.0   \n",
      "612592             2.0         2.0          1.0                 1.0  0.0   \n",
      "612595             2.0         2.0          2.0                 5.0  0.0   \n",
      "612606             3.0         4.0          4.0                 6.0  0.0   \n",
      "703182             3.0         2.0          3.0                 5.0  0.0   \n",
      "714263             3.0         1.0          3.0                 4.0  0.0   \n",
      "714265             0.0         4.0          2.0                 6.0  0.0   \n",
      "714278             1.0         2.0          3.0                 2.0  0.0   \n",
      "665447             3.0         5.0          3.0                 6.0  0.0   \n",
      "796646             3.0         1.0          2.0                 1.0  5.0   \n",
      "796653             2.0         1.0          3.0                 4.0  2.0   \n",
      "796657             2.0         3.0          4.0                 2.0  0.0   \n",
      "796664             3.0         2.0          3.0                 5.0  0.0   \n",
      "796666             4.0         3.0          0.0                 3.0  0.0   \n",
      "796667             2.0         2.0          3.0                 5.0  0.0   \n",
      "796668             1.0         1.0          4.0                 2.0  4.0   \n",
      "796669             5.0         2.0          0.0                 6.0  0.0   \n",
      "796675             2.0         3.0          4.0                 2.0  0.0   \n",
      "796676             4.0         1.0          0.0                 3.0  0.0   \n",
      "...                ...         ...          ...                 ...  ...   \n",
      "141324             3.0         2.0          0.0                 5.0  0.0   \n",
      "141330             0.0         3.0          2.0                 5.0  1.0   \n",
      "141335             3.0         3.0          3.0                 1.0  1.0   \n",
      "141336             3.0         2.0          2.0                 2.0  0.0   \n",
      "153439             2.0         2.0          0.0                 1.0  1.0   \n",
      "153440             3.0         4.0          5.0                 5.0  0.0   \n",
      "153447             0.0         3.0          0.0                 6.0  0.0   \n",
      "153455             3.0         4.0          3.0                 1.0  1.0   \n",
      "153475             2.0         5.0          0.0                 6.0  1.0   \n",
      "153477             3.0         4.0          3.0                 2.0  0.0   \n",
      "153481             3.0         1.0          0.0                 6.0  1.0   \n",
      "153525             3.0         3.0          3.0                 3.0  5.0   \n",
      "153551             3.0         3.0          2.0                 2.0  1.0   \n",
      "55811              2.0         3.0          3.0                 6.0  0.0   \n",
      "55815              0.0         4.0          3.0                 4.0  1.0   \n",
      "55817              3.0         2.0          0.0                 1.0  1.0   \n",
      "55823              3.0         2.0          4.0                 1.0  1.0   \n",
      "55832              4.0         3.0          5.0                 6.0  0.0   \n",
      "55835              5.0         2.0          2.0                 2.0  1.0   \n",
      "55838              3.0         1.0          2.0                 1.0  0.0   \n",
      "154464             2.0         3.0          3.0                 6.0  0.0   \n",
      "154503             2.0         2.0          3.0                 1.0  0.0   \n",
      "154513             0.0         2.0          5.0                 5.0  1.0   \n",
      "154554             2.0         1.0          2.0                 4.0  1.0   \n",
      "154559             0.0         1.0          0.0                 5.0  1.0   \n",
      "154561             3.0         2.0          2.0                 1.0  0.0   \n",
      "154563             4.0         4.0          2.0                 4.0  0.0   \n",
      "148813             3.0         3.0          3.0                 4.0  0.0   \n",
      "148852             3.0         3.0          0.0                 5.0  0.0   \n",
      "148883             2.0         3.0          4.0                 5.0  4.0   \n",
      "\n",
      "        KBA13_CCM_2500  KBA13_VORB_2  KBA05_ALTER3  KBA05_MOD3  \\\n",
      "LNR                                                              \n",
      "910220             3.0           3.0           1.0         2.0   \n",
      "910225             3.0           2.0           3.0         5.0   \n",
      "910226             4.0           3.0           3.0         4.0   \n",
      "910241             3.0           3.0           4.0         1.0   \n",
      "910244             3.0           3.0           2.0         3.0   \n",
      "910248             0.0           3.0           4.0         4.0   \n",
      "910261             3.0           4.0           4.0         2.0   \n",
      "645145             5.0           4.0           2.0         4.0   \n",
      "645153             5.0           2.0           2.0         5.0   \n",
      "645165             2.0           4.0           2.0         4.0   \n",
      "612574             4.0           3.0           3.0         4.0   \n",
      "612586             3.0           2.0           2.0         3.0   \n",
      "612592             5.0           3.0           2.0         2.0   \n",
      "612595             3.0           2.0           5.0         1.0   \n",
      "612606             3.0           3.0           4.0         4.0   \n",
      "703182             3.0           3.0           3.0         3.0   \n",
      "714263             2.0           4.0           4.0         2.0   \n",
      "714265             4.0           3.0           2.0         3.0   \n",
      "714278             3.0           2.0           3.0         3.0   \n",
      "665447             3.0           3.0           4.0         5.0   \n",
      "796646             3.0           2.0           3.0         2.0   \n",
      "796653             3.0           3.0           2.0         1.0   \n",
      "796657             2.0           4.0           3.0         3.0   \n",
      "796664             0.0           1.0           2.0         2.0   \n",
      "796666             1.0           4.0           5.0         3.0   \n",
      "796667             2.0           2.0           4.0         2.0   \n",
      "796668             1.0           3.0           3.0         2.0   \n",
      "796669             1.0           4.0           2.0         2.0   \n",
      "796675             4.0           2.0           3.0         3.0   \n",
      "796676             3.0           5.0           3.0         2.0   \n",
      "...                ...           ...           ...         ...   \n",
      "141324             5.0           2.0           4.0         4.0   \n",
      "141330             3.0           2.0           4.0         2.0   \n",
      "141335             3.0           3.0           3.0         3.0   \n",
      "141336             3.0           2.0           4.0         2.0   \n",
      "153439             3.0           2.0           4.0         3.0   \n",
      "153440             2.0           3.0           3.0         5.0   \n",
      "153447             3.0           4.0           3.0         4.0   \n",
      "153455             4.0           2.0           3.0         4.0   \n",
      "153475             2.0           2.0           2.0         3.0   \n",
      "153477             3.0           3.0           5.0         4.0   \n",
      "153481             3.0           1.0           3.0         3.0   \n",
      "153525             3.0           2.0           3.0         3.0   \n",
      "153551             3.0           1.0           5.0         3.0   \n",
      "55811              0.0           3.0           4.0         3.0   \n",
      "55815              5.0           3.0           2.0         4.0   \n",
      "55817              0.0           5.0           2.0         3.0   \n",
      "55823              3.0           2.0           1.0         1.0   \n",
      "55832              2.0           3.0           5.0         2.0   \n",
      "55835              0.0           3.0           4.0         3.0   \n",
      "55838              4.0           3.0           4.0         1.0   \n",
      "154464             1.0           3.0           4.0         4.0   \n",
      "154503             4.0           3.0           5.0         4.0   \n",
      "154513             0.0           3.0           5.0         2.0   \n",
      "154554             5.0           3.0           3.0         1.0   \n",
      "154559             1.0           1.0           3.0         1.0   \n",
      "154561             3.0           2.0           2.0         3.0   \n",
      "154563             3.0           2.0           3.0         5.0   \n",
      "148813             3.0           3.0           3.0         3.0   \n",
      "148852             4.0           2.0           4.0         2.0   \n",
      "148883             3.0           2.0           2.0         3.0   \n",
      "\n",
      "        LP_STATUS_GROB      ...        KBA13_SEG_KOMPAKTKLASSE  \\\n",
      "LNR                         ...                                  \n",
      "910220             1.0      ...                            5.0   \n",
      "910225             2.0      ...                            1.0   \n",
      "910226             4.0      ...                            4.0   \n",
      "910241             2.0      ...                            3.0   \n",
      "910244             2.0      ...                            2.0   \n",
      "910248             1.0      ...                            2.0   \n",
      "910261             1.0      ...                            1.0   \n",
      "645145             5.0      ...                            3.0   \n",
      "645153             2.0      ...                            3.0   \n",
      "645165             1.0      ...                            3.0   \n",
      "612574             4.0      ...                            3.0   \n",
      "612586             4.0      ...                            3.0   \n",
      "612592             5.0      ...                            2.0   \n",
      "612595             5.0      ...                            4.0   \n",
      "612606             1.0      ...                            3.0   \n",
      "703182             4.0      ...                            4.0   \n",
      "714263             2.0      ...                            3.0   \n",
      "714265             1.0      ...                            3.0   \n",
      "714278             5.0      ...                            2.0   \n",
      "665447             1.0      ...                            2.0   \n",
      "796646             5.0      ...                            3.0   \n",
      "796653             1.0      ...                            2.0   \n",
      "796657             5.0      ...                            3.0   \n",
      "796664             1.0      ...                            2.0   \n",
      "796666             4.0      ...                            2.0   \n",
      "796667             4.0      ...                            1.0   \n",
      "796668             5.0      ...                            3.0   \n",
      "796669             2.0      ...                            2.0   \n",
      "796675             2.0      ...                            2.0   \n",
      "796676             4.0      ...                            3.0   \n",
      "...                ...      ...                            ...   \n",
      "141324             2.0      ...                            3.0   \n",
      "141330             4.0      ...                            2.0   \n",
      "141335             5.0      ...                            3.0   \n",
      "141336             5.0      ...                            3.0   \n",
      "153439             5.0      ...                            2.0   \n",
      "153440             1.0      ...                            3.0   \n",
      "153447             1.0      ...                            3.0   \n",
      "153455             5.0      ...                            1.0   \n",
      "153475             1.0      ...                            1.0   \n",
      "153477             3.0      ...                            3.0   \n",
      "153481             1.0      ...                            2.0   \n",
      "153525             2.0      ...                            4.0   \n",
      "153551             5.0      ...                            1.0   \n",
      "55811              4.0      ...                            4.0   \n",
      "55815              4.0      ...                            5.0   \n",
      "55817              3.0      ...                            3.0   \n",
      "55823              5.0      ...                            3.0   \n",
      "55832              1.0      ...                            3.0   \n",
      "55835              3.0      ...                            2.0   \n",
      "55838              5.0      ...                            3.0   \n",
      "154464             1.0      ...                            4.0   \n",
      "154503             5.0      ...                            1.0   \n",
      "154513             2.0      ...                            3.0   \n",
      "154554             3.0      ...                            3.0   \n",
      "154559             1.0      ...                            1.0   \n",
      "154561             3.0      ...                            1.0   \n",
      "154563             4.0      ...                            3.0   \n",
      "148813             5.0      ...                            3.0   \n",
      "148852             2.0      ...                            4.0   \n",
      "148883             4.0      ...                            3.0   \n",
      "\n",
      "        FINANZ_HAUSBAUER  KBA13_KW_90  HEALTH_TYP  KBA05_KW3  KBA13_HALTER_65  \\\n",
      "LNR                                                                             \n",
      "910220               5.0          3.0         3.0        4.0              3.0   \n",
      "910225               5.0          2.0         3.0        2.0              4.0   \n",
      "910226               2.0          3.0         2.0        1.0              3.0   \n",
      "910241               2.0          3.0         3.0        3.0              3.0   \n",
      "910244               5.0          3.0         3.0        0.0              3.0   \n",
      "910248               3.0          0.0         2.0        0.0              3.0   \n",
      "910261               2.0          4.0         1.0        0.0              4.0   \n",
      "645145               2.0          0.0         3.0        3.0              5.0   \n",
      "645153               4.0          1.0         2.0        4.0              5.0   \n",
      "645165               5.0          3.0         2.0        0.0              5.0   \n",
      "612574               1.0          1.0         3.0        0.0              2.0   \n",
      "612586               1.0          0.0         2.0        2.0              4.0   \n",
      "612592               1.0          2.0         3.0        4.0              3.0   \n",
      "612595               1.0          1.0         2.0        1.0              3.0   \n",
      "612606               5.0          0.0         2.0        0.0              3.0   \n",
      "703182               3.0          3.0         2.0        1.0              4.0   \n",
      "714263               2.0          3.0         3.0        4.0              4.0   \n",
      "714265               2.0          3.0         3.0        1.0              4.0   \n",
      "714278               3.0          4.0         2.0        1.0              4.0   \n",
      "665447               4.0          0.0         1.0        0.0              2.0   \n",
      "796646               1.0          2.0         1.0        4.0              3.0   \n",
      "796653               4.0          3.0         2.0        2.0              5.0   \n",
      "796657               3.0          1.0         NaN        1.0              3.0   \n",
      "796664               3.0          3.0         2.0        2.0              4.0   \n",
      "796666               3.0          4.0         2.0        2.0              3.0   \n",
      "796667               2.0          5.0         2.0        3.0              3.0   \n",
      "796668               1.0          3.0         2.0        1.0              3.0   \n",
      "796669               5.0          5.0         1.0        0.0              3.0   \n",
      "796675               2.0          3.0         3.0        3.0              5.0   \n",
      "796676               2.0          3.0         3.0        1.0              2.0   \n",
      "...                  ...          ...         ...        ...              ...   \n",
      "141324               5.0          3.0         2.0        1.0              3.0   \n",
      "141330               2.0          3.0         2.0        1.0              4.0   \n",
      "141335               2.0          3.0         2.0        3.0              3.0   \n",
      "141336               2.0          3.0         3.0        0.0              3.0   \n",
      "153439               2.0          0.0         2.0        2.0              3.0   \n",
      "153440               2.0          3.0         3.0        1.0              4.0   \n",
      "153447               5.0          3.0         2.0        2.0              3.0   \n",
      "153455               2.0          4.0         1.0        1.0              4.0   \n",
      "153475               5.0          2.0         2.0        2.0              4.0   \n",
      "153477               2.0          2.0         3.0        1.0              3.0   \n",
      "153481               5.0          3.0         2.0        0.0              4.0   \n",
      "153525               4.0          0.0         3.0        1.0              3.0   \n",
      "153551               2.0          4.0         2.0        1.0              5.0   \n",
      "55811                3.0          2.0         3.0        0.0              4.0   \n",
      "55815                3.0          4.0         2.0        1.0              3.0   \n",
      "55817                2.0          5.0         2.0        2.0              4.0   \n",
      "55823                1.0          4.0         3.0        3.0              3.0   \n",
      "55832                4.0          2.0         2.0        1.0              5.0   \n",
      "55835                4.0          4.0         3.0        3.0              3.0   \n",
      "55838                2.0          3.0         1.0        2.0              4.0   \n",
      "154464               5.0          2.0         1.0        2.0              5.0   \n",
      "154503               2.0          0.0         2.0        3.0              3.0   \n",
      "154513               5.0          0.0         2.0        4.0              5.0   \n",
      "154554               2.0          1.0         3.0        3.0              4.0   \n",
      "154559               5.0          0.0         2.0        4.0              5.0   \n",
      "154561               2.0          3.0         3.0        4.0              5.0   \n",
      "154563               3.0          3.0         2.0        1.0              3.0   \n",
      "148813               2.0          3.0         2.0        0.0              2.0   \n",
      "148852               5.0          4.0         2.0        1.0              3.0   \n",
      "148883               2.0          3.0         2.0        1.0              3.0   \n",
      "\n",
      "        KBA13_KW_40  D19_SCHUHE  OST_WEST_KZ_O  OST_WEST_KZ_W  \n",
      "LNR                                                            \n",
      "910220          2.0         0.0              0              1  \n",
      "910225          1.0         0.0              0              1  \n",
      "910226          4.0         0.0              0              1  \n",
      "910241          5.0         1.0              0              1  \n",
      "910244          0.0         0.0              0              1  \n",
      "910248          4.0         0.0              0              1  \n",
      "910261          0.0         0.0              0              1  \n",
      "645145          2.0         0.0              0              1  \n",
      "645153          1.0         0.0              0              1  \n",
      "645165          4.0         0.0              0              1  \n",
      "612574          3.0         0.0              0              1  \n",
      "612586          2.0         0.0              0              1  \n",
      "612592          2.0         0.0              0              1  \n",
      "612595          4.0         0.0              0              1  \n",
      "612606          3.0         0.0              0              1  \n",
      "703182          3.0         0.0              0              1  \n",
      "714263          3.0         5.0              0              1  \n",
      "714265          3.0         0.0              0              1  \n",
      "714278          0.0         0.0              0              1  \n",
      "665447          3.0         0.0              0              1  \n",
      "796646          3.0         0.0              0              1  \n",
      "796653          3.0         0.0              0              1  \n",
      "796657          4.0         6.0              0              1  \n",
      "796664          3.0         0.0              0              1  \n",
      "796666          0.0         0.0              0              1  \n",
      "796667          2.0         0.0              0              1  \n",
      "796668          2.0         0.0              0              1  \n",
      "796669          4.0         0.0              0              1  \n",
      "796675          2.0         1.0              0              1  \n",
      "796676          1.0         0.0              0              1  \n",
      "...             ...         ...            ...            ...  \n",
      "141324          2.0         0.0              0              1  \n",
      "141330          3.0         0.0              0              1  \n",
      "141335          2.0         0.0              0              1  \n",
      "141336          3.0         0.0              0              1  \n",
      "153439          2.0         0.0              0              1  \n",
      "153440          2.0         0.0              0              1  \n",
      "153447          3.0         0.0              0              1  \n",
      "153455          1.0         0.0              0              1  \n",
      "153475          5.0         0.0              0              1  \n",
      "153477          3.0         0.0              0              1  \n",
      "153481          1.0         0.0              0              1  \n",
      "153525          2.0         0.0              0              1  \n",
      "153551          1.0         0.0              0              1  \n",
      "55811           3.0         0.0              0              1  \n",
      "55815           1.0         0.0              0              1  \n",
      "55817           1.0         0.0              0              1  \n",
      "55823           3.0         2.0              0              1  \n",
      "55832           1.0         6.0              0              1  \n",
      "55835           1.0         0.0              0              1  \n",
      "55838           3.0         0.0              0              1  \n",
      "154464          3.0         0.0              1              0  \n",
      "154503          2.0         0.0              0              1  \n",
      "154513          3.0         2.0              0              1  \n",
      "154554          1.0         5.0              0              1  \n",
      "154559          1.0         6.0              0              1  \n",
      "154561          1.0         0.0              0              1  \n",
      "154563          0.0         0.0              0              1  \n",
      "148813          0.0         0.0              0              1  \n",
      "148852          2.0         0.0              0              1  \n",
      "148883          3.0         3.0              0              1  \n",
      "\n",
      "[871460 rows x 340 columns]\n"
     ]
    }
   ],
   "source": [
    "print(my_azdias_customers_dummy)"
   ]
  },
  {
   "cell_type": "code",
   "execution_count": 91,
   "metadata": {},
   "outputs": [],
   "source": [
    "my_azdias_customers_df = pd.concat( [my_azdias_customers[list(numerical_attribute)], my_azdias_customers_dummy], axis=1 )"
   ]
  },
  {
   "cell_type": "code",
   "execution_count": 92,
   "metadata": {},
   "outputs": [
    {
     "data": {
      "text/plain": [
       "(871460, 349)"
      ]
     },
     "execution_count": 92,
     "metadata": {},
     "output_type": "execute_result"
    }
   ],
   "source": [
    "my_azdias_customers_df.shape"
   ]
  },
  {
   "cell_type": "code",
   "execution_count": 93,
   "metadata": {},
   "outputs": [
    {
     "name": "stdout",
     "output_type": "stream",
     "text": [
      "Wall time: 8.33 s\n"
     ]
    }
   ],
   "source": [
    "%%time\n",
    "my_azdias_customers_df.to_pickle(\"my_azdias_customers_df.pkl\")"
   ]
  },
  {
   "cell_type": "markdown",
   "metadata": {},
   "source": [
    "## Part 1: Customer Segmentation Report\n",
    "\n",
    "The main bulk of your analysis will come in this part of the project. Here, you should use unsupervised learning techniques to describe the relationship between the demographics of the company's existing customers and the general population of Germany. By the end of this part, you should be able to describe parts of the general population that are more likely to be part of the mail-order company's main customer base, and which parts of the general population are less so."
   ]
  },
  {
   "cell_type": "code",
   "execution_count": 94,
   "metadata": {},
   "outputs": [
    {
     "name": "stdout",
     "output_type": "stream",
     "text": [
      "Wall time: 0 ns\n"
     ]
    }
   ],
   "source": [
    "%%time\n",
    "if  'my_azdias_customers_df' in locals():\n",
    "    pass\n",
    "else:\n",
    "    my_azdias_customers_df=pd.read_pickle(\"my_azdias_customers_df.pkl\")"
   ]
  },
  {
   "cell_type": "code",
   "execution_count": 95,
   "metadata": {},
   "outputs": [],
   "source": [
    "from sklearn.decomposition import PCA\n",
    "from sklearn.cluster import KMeans\n",
    "from sklearn.cluster import DBSCAN\n",
    "from sklearn import preprocessing"
   ]
  },
  {
   "cell_type": "code",
   "execution_count": 96,
   "metadata": {},
   "outputs": [],
   "source": [
    "my_azdias_customers_df.fillna(0,inplace=True)"
   ]
  },
  {
   "cell_type": "code",
   "execution_count": 161,
   "metadata": {},
   "outputs": [
    {
     "ename": "IndexError",
     "evalue": "positional indexers are out-of-bounds",
     "output_type": "error",
     "traceback": [
      "\u001b[1;31m---------------------------------------------------------------------------\u001b[0m",
      "\u001b[1;31mIndexError\u001b[0m                                Traceback (most recent call last)",
      "\u001b[1;32mc:\\program files\\python3\\lib\\site-packages\\pandas\\core\\indexing.py\u001b[0m in \u001b[0;36m_get_list_axis\u001b[1;34m(self, key, axis)\u001b[0m\n\u001b[0;32m   2069\u001b[0m         \u001b[1;32mtry\u001b[0m\u001b[1;33m:\u001b[0m\u001b[1;33m\u001b[0m\u001b[0m\n\u001b[1;32m-> 2070\u001b[1;33m             \u001b[1;32mreturn\u001b[0m \u001b[0mself\u001b[0m\u001b[1;33m.\u001b[0m\u001b[0mobj\u001b[0m\u001b[1;33m.\u001b[0m\u001b[0m_take\u001b[0m\u001b[1;33m(\u001b[0m\u001b[0mkey\u001b[0m\u001b[1;33m,\u001b[0m \u001b[0maxis\u001b[0m\u001b[1;33m=\u001b[0m\u001b[0maxis\u001b[0m\u001b[1;33m)\u001b[0m\u001b[1;33m\u001b[0m\u001b[0m\n\u001b[0m\u001b[0;32m   2071\u001b[0m         \u001b[1;32mexcept\u001b[0m \u001b[0mIndexError\u001b[0m\u001b[1;33m:\u001b[0m\u001b[1;33m\u001b[0m\u001b[0m\n",
      "\u001b[1;32mc:\\program files\\python3\\lib\\site-packages\\pandas\\core\\generic.py\u001b[0m in \u001b[0;36m_take\u001b[1;34m(self, indices, axis, is_copy)\u001b[0m\n\u001b[0;32m   2788\u001b[0m                                    \u001b[0maxis\u001b[0m\u001b[1;33m=\u001b[0m\u001b[0mself\u001b[0m\u001b[1;33m.\u001b[0m\u001b[0m_get_block_manager_axis\u001b[0m\u001b[1;33m(\u001b[0m\u001b[0maxis\u001b[0m\u001b[1;33m)\u001b[0m\u001b[1;33m,\u001b[0m\u001b[1;33m\u001b[0m\u001b[0m\n\u001b[1;32m-> 2789\u001b[1;33m                                    verify=True)\n\u001b[0m\u001b[0;32m   2790\u001b[0m         \u001b[0mresult\u001b[0m \u001b[1;33m=\u001b[0m \u001b[0mself\u001b[0m\u001b[1;33m.\u001b[0m\u001b[0m_constructor\u001b[0m\u001b[1;33m(\u001b[0m\u001b[0mnew_data\u001b[0m\u001b[1;33m)\u001b[0m\u001b[1;33m.\u001b[0m\u001b[0m__finalize__\u001b[0m\u001b[1;33m(\u001b[0m\u001b[0mself\u001b[0m\u001b[1;33m)\u001b[0m\u001b[1;33m\u001b[0m\u001b[0m\n",
      "\u001b[1;32mc:\\program files\\python3\\lib\\site-packages\\pandas\\core\\internals.py\u001b[0m in \u001b[0;36mtake\u001b[1;34m(self, indexer, axis, verify, convert)\u001b[0m\n\u001b[0;32m   4529\u001b[0m         \u001b[1;32mif\u001b[0m \u001b[0mconvert\u001b[0m\u001b[1;33m:\u001b[0m\u001b[1;33m\u001b[0m\u001b[0m\n\u001b[1;32m-> 4530\u001b[1;33m             \u001b[0mindexer\u001b[0m \u001b[1;33m=\u001b[0m \u001b[0mmaybe_convert_indices\u001b[0m\u001b[1;33m(\u001b[0m\u001b[0mindexer\u001b[0m\u001b[1;33m,\u001b[0m \u001b[0mn\u001b[0m\u001b[1;33m)\u001b[0m\u001b[1;33m\u001b[0m\u001b[0m\n\u001b[0m\u001b[0;32m   4531\u001b[0m \u001b[1;33m\u001b[0m\u001b[0m\n",
      "\u001b[1;32mc:\\program files\\python3\\lib\\site-packages\\pandas\\core\\indexing.py\u001b[0m in \u001b[0;36mmaybe_convert_indices\u001b[1;34m(indices, n)\u001b[0m\n\u001b[0;32m   2479\u001b[0m     \u001b[1;32mif\u001b[0m \u001b[0mmask\u001b[0m\u001b[1;33m.\u001b[0m\u001b[0many\u001b[0m\u001b[1;33m(\u001b[0m\u001b[1;33m)\u001b[0m\u001b[1;33m:\u001b[0m\u001b[1;33m\u001b[0m\u001b[0m\n\u001b[1;32m-> 2480\u001b[1;33m         \u001b[1;32mraise\u001b[0m \u001b[0mIndexError\u001b[0m\u001b[1;33m(\u001b[0m\u001b[1;34m\"indices are out-of-bounds\"\u001b[0m\u001b[1;33m)\u001b[0m\u001b[1;33m\u001b[0m\u001b[0m\n\u001b[0m\u001b[0;32m   2481\u001b[0m     \u001b[1;32mreturn\u001b[0m \u001b[0mindices\u001b[0m\u001b[1;33m\u001b[0m\u001b[0m\n",
      "\u001b[1;31mIndexError\u001b[0m: indices are out-of-bounds",
      "\nDuring handling of the above exception, another exception occurred:\n",
      "\u001b[1;31mIndexError\u001b[0m                                Traceback (most recent call last)",
      "\u001b[1;32m<ipython-input-161-c30c58d110ff>\u001b[0m in \u001b[0;36m<module>\u001b[1;34m()\u001b[0m\n\u001b[0;32m      1\u001b[0m \u001b[1;31m# my_azdias_customers_df.iloc[my_customers_index.tolist()]\u001b[0m\u001b[1;33m\u001b[0m\u001b[1;33m\u001b[0m\u001b[0m\n\u001b[1;32m----> 2\u001b[1;33m \u001b[0mmy_azdias_df\u001b[0m\u001b[1;33m=\u001b[0m\u001b[0mmy_azdias_customers_df\u001b[0m\u001b[1;33m.\u001b[0m\u001b[0miloc\u001b[0m\u001b[1;33m[\u001b[0m\u001b[0mmy_azdias_index\u001b[0m\u001b[1;33m.\u001b[0m\u001b[0mtolist\u001b[0m\u001b[1;33m(\u001b[0m\u001b[1;33m)\u001b[0m\u001b[1;33m]\u001b[0m\u001b[1;33m\u001b[0m\u001b[0m\n\u001b[0m",
      "\u001b[1;32mc:\\program files\\python3\\lib\\site-packages\\pandas\\core\\indexing.py\u001b[0m in \u001b[0;36m__getitem__\u001b[1;34m(self, key)\u001b[0m\n\u001b[0;32m   1476\u001b[0m \u001b[1;33m\u001b[0m\u001b[0m\n\u001b[0;32m   1477\u001b[0m             \u001b[0mmaybe_callable\u001b[0m \u001b[1;33m=\u001b[0m \u001b[0mcom\u001b[0m\u001b[1;33m.\u001b[0m\u001b[0m_apply_if_callable\u001b[0m\u001b[1;33m(\u001b[0m\u001b[0mkey\u001b[0m\u001b[1;33m,\u001b[0m \u001b[0mself\u001b[0m\u001b[1;33m.\u001b[0m\u001b[0mobj\u001b[0m\u001b[1;33m)\u001b[0m\u001b[1;33m\u001b[0m\u001b[0m\n\u001b[1;32m-> 1478\u001b[1;33m             \u001b[1;32mreturn\u001b[0m \u001b[0mself\u001b[0m\u001b[1;33m.\u001b[0m\u001b[0m_getitem_axis\u001b[0m\u001b[1;33m(\u001b[0m\u001b[0mmaybe_callable\u001b[0m\u001b[1;33m,\u001b[0m \u001b[0maxis\u001b[0m\u001b[1;33m=\u001b[0m\u001b[0maxis\u001b[0m\u001b[1;33m)\u001b[0m\u001b[1;33m\u001b[0m\u001b[0m\n\u001b[0m\u001b[0;32m   1479\u001b[0m \u001b[1;33m\u001b[0m\u001b[0m\n\u001b[0;32m   1480\u001b[0m     \u001b[1;32mdef\u001b[0m \u001b[0m_is_scalar_access\u001b[0m\u001b[1;33m(\u001b[0m\u001b[0mself\u001b[0m\u001b[1;33m,\u001b[0m \u001b[0mkey\u001b[0m\u001b[1;33m)\u001b[0m\u001b[1;33m:\u001b[0m\u001b[1;33m\u001b[0m\u001b[0m\n",
      "\u001b[1;32mc:\\program files\\python3\\lib\\site-packages\\pandas\\core\\indexing.py\u001b[0m in \u001b[0;36m_getitem_axis\u001b[1;34m(self, key, axis)\u001b[0m\n\u001b[0;32m   2089\u001b[0m         \u001b[1;31m# a list of integers\u001b[0m\u001b[1;33m\u001b[0m\u001b[1;33m\u001b[0m\u001b[0m\n\u001b[0;32m   2090\u001b[0m         \u001b[1;32melif\u001b[0m \u001b[0mis_list_like_indexer\u001b[0m\u001b[1;33m(\u001b[0m\u001b[0mkey\u001b[0m\u001b[1;33m)\u001b[0m\u001b[1;33m:\u001b[0m\u001b[1;33m\u001b[0m\u001b[0m\n\u001b[1;32m-> 2091\u001b[1;33m             \u001b[1;32mreturn\u001b[0m \u001b[0mself\u001b[0m\u001b[1;33m.\u001b[0m\u001b[0m_get_list_axis\u001b[0m\u001b[1;33m(\u001b[0m\u001b[0mkey\u001b[0m\u001b[1;33m,\u001b[0m \u001b[0maxis\u001b[0m\u001b[1;33m=\u001b[0m\u001b[0maxis\u001b[0m\u001b[1;33m)\u001b[0m\u001b[1;33m\u001b[0m\u001b[0m\n\u001b[0m\u001b[0;32m   2092\u001b[0m \u001b[1;33m\u001b[0m\u001b[0m\n\u001b[0;32m   2093\u001b[0m         \u001b[1;31m# a single integer\u001b[0m\u001b[1;33m\u001b[0m\u001b[1;33m\u001b[0m\u001b[0m\n",
      "\u001b[1;32mc:\\program files\\python3\\lib\\site-packages\\pandas\\core\\indexing.py\u001b[0m in \u001b[0;36m_get_list_axis\u001b[1;34m(self, key, axis)\u001b[0m\n\u001b[0;32m   2071\u001b[0m         \u001b[1;32mexcept\u001b[0m \u001b[0mIndexError\u001b[0m\u001b[1;33m:\u001b[0m\u001b[1;33m\u001b[0m\u001b[0m\n\u001b[0;32m   2072\u001b[0m             \u001b[1;31m# re-raise with different error message\u001b[0m\u001b[1;33m\u001b[0m\u001b[1;33m\u001b[0m\u001b[0m\n\u001b[1;32m-> 2073\u001b[1;33m             \u001b[1;32mraise\u001b[0m \u001b[0mIndexError\u001b[0m\u001b[1;33m(\u001b[0m\u001b[1;34m\"positional indexers are out-of-bounds\"\u001b[0m\u001b[1;33m)\u001b[0m\u001b[1;33m\u001b[0m\u001b[0m\n\u001b[0m\u001b[0;32m   2074\u001b[0m \u001b[1;33m\u001b[0m\u001b[0m\n\u001b[0;32m   2075\u001b[0m     \u001b[1;32mdef\u001b[0m \u001b[0m_getitem_axis\u001b[0m\u001b[1;33m(\u001b[0m\u001b[0mself\u001b[0m\u001b[1;33m,\u001b[0m \u001b[0mkey\u001b[0m\u001b[1;33m,\u001b[0m \u001b[0maxis\u001b[0m\u001b[1;33m=\u001b[0m\u001b[1;32mNone\u001b[0m\u001b[1;33m)\u001b[0m\u001b[1;33m:\u001b[0m\u001b[1;33m\u001b[0m\u001b[0m\n",
      "\u001b[1;31mIndexError\u001b[0m: positional indexers are out-of-bounds"
     ]
    }
   ],
   "source": [
    "# my_azdias_customers_df.iloc[my_customers_index.tolist()]\n",
    "my_azdias_df=my_azdias_customers_df.iloc[my_azdias_index.tolist()]"
   ]
  },
  {
   "cell_type": "code",
   "execution_count": 97,
   "metadata": {},
   "outputs": [
    {
     "name": "stdout",
     "output_type": "stream",
     "text": [
      "Wall time: 8.76 s\n"
     ]
    }
   ],
   "source": [
    "%%time\n",
    "scaler = preprocessing.StandardScaler()\n",
    "scaled = scaler.fit_transform(my_azdias_customers_df) \n",
    "scaled_df=pd.DataFrame(scaled, columns=my_azdias_customers_df.columns)"
   ]
  },
  {
   "cell_type": "code",
   "execution_count": 102,
   "metadata": {},
   "outputs": [
    {
     "data": {
      "image/png": "[encoded data removed]",
      "text/plain": [
       "<Figure size 1080x576 with 1 Axes>"
      ]
     },
     "metadata": {},
     "output_type": "display_data"
    },
    {
     "name": "stdout",
     "output_type": "stream",
     "text": [
      "Wall time: 44.4 s\n"
     ]
    }
   ],
   "source": [
    "%%time\n",
    "plt.figure(figsize=(15,8)) \n",
    "pca = PCA().fit(scaled)\n",
    "plt.plot(np.cumsum(pca.explained_variance_ratio_))\n",
    "plt.xlabel('number of components')\n",
    "plt.ylabel('cumulative explained variance')\n",
    "plt.show()"
   ]
  },
  {
   "cell_type": "code",
   "execution_count": 118,
   "metadata": {},
   "outputs": [
    {
     "data": {
      "text/plain": [
       "<BarContainer object of 349 artists>"
      ]
     },
     "execution_count": 118,
     "metadata": {},
     "output_type": "execute_result"
    },
    {
     "data": {
      "image/png": "[encoded data removed]",
      "text/plain": [
       "<Figure size 1080x576 with 1 Axes>"
      ]
     },
     "metadata": {},
     "output_type": "display_data"
    }
   ],
   "source": [
    "# Investigate the variance accounted for by each principal component.\n",
    "plt.figure(figsize=(15,8)) \n",
    "explained_variance_ratio=[val for val in pca.explained_variance_ratio_]\n",
    "cv=np.cumsum(np.round(explained_variance_ratio, decimals=3))\n",
    "plt.ylabel('Variance Explained')\n",
    "plt.xlabel('Number Of Features')\n",
    "plt.bar(range(0,len(explained_variance_ratio)),explained_variance_ratio)"
   ]
  },
  {
   "cell_type": "markdown",
   "metadata": {},
   "source": [
    "- I have done dimensionality reduction by getting explained ratio of principal components, As i observed 120 components/ eigen values were sufficient to explain more 80% variance in data so I opted that out. "
   ]
  },
  {
   "cell_type": "code",
   "execution_count": 119,
   "metadata": {},
   "outputs": [],
   "source": [
    "pca = PCA(n_components=120)\n",
    "principalComponents_updated = pca.fit_transform(scaled)"
   ]
  },
  {
   "cell_type": "code",
   "execution_count": 140,
   "metadata": {},
   "outputs": [
    {
     "data": {
      "text/plain": [
       "numpy.ndarray"
      ]
     },
     "execution_count": 140,
     "metadata": {},
     "output_type": "execute_result"
    }
   ],
   "source": [
    "type(principalComponents_updated)"
   ]
  },
  {
   "cell_type": "code",
   "execution_count": 120,
   "metadata": {},
   "outputs": [],
   "source": [
    "first_comp=pca.components_[0]\n",
    "first_comp_sorted=sorted(first_comp,reverse=True)\n",
    "first_comp_index=sorted(range(len(first_comp)), key=lambda k: first_comp[k])"
   ]
  },
  {
   "cell_type": "code",
   "execution_count": 121,
   "metadata": {},
   "outputs": [
    {
     "name": "stdout",
     "output_type": "stream",
     "text": [
      "Positive:  12 HH_EINKOMMEN_SCORE 0.13601605435103017  Negative:  110 FINANZ_MINIMALIST -0.10144786974111845\n",
      "Positive:  253 PLZ8_ANTG3 0.12937291643527773  Negative:  213 KBA05_GBZ -0.10402332163885519\n",
      "Positive:  56 KBA13_ANTG3 0.12715566402346767  Negative:  324 MOBI_RASTER -0.11936168676007489\n",
      "Positive:  66 KBA13_BAUMAX 0.12701633292084355  Negative:  52 KBA05_AUTOQUOT -0.11959239775559499\n",
      "Positive:  202 CAMEO_DEUG_2015 0.12619638875565956  Negative:  46 PLZ8_ANTG1 -0.12045558115860272\n",
      "Positive:  65 KBA13_ANTG4 0.1253560465643636  Negative:  72 KBA13_ANTG1 -0.12058505773416486\n",
      "Positive:  97 PLZ8_BAUMAX 0.12224721609602568  Negative:  204 KBA05_ANTG1 -0.12130081702630663\n",
      "Positive:  98 PLZ8_ANTG4 0.1217254119222007  Negative:  18 LP_STATUS_GROB -0.12352082502752557\n",
      "Positive:  94 VK_DISTANZ 0.11876479592924194  Negative:  128 LP_STATUS_FEIN -0.12392137599429165\n",
      "Positive:  340 FINANZ_HAUSBAUER 0.11664054252342257  Negative:  189 MOBI_REGIO -0.126742375910422\n"
     ]
    }
   ],
   "source": [
    "cols_sorted=scaled_df.columns[first_comp_index]\n",
    "positive_index=first_comp_index[:10]\n",
    "negative_index=first_comp_index[-10:]\n",
    "positive_cols=cols_sorted[:10]\n",
    "negative_cols=cols_sorted[-10:]\n",
    "positive_weights=first_comp_sorted[:10]\n",
    "negative_weights=first_comp_sorted[-10:]\n",
    "for i in range(10):\n",
    "    print('Positive: ',positive_index[i],positive_cols[i],positive_weights[i],' Negative: ',negative_index[i],negative_cols[i],negative_weights[i])"
   ]
  },
  {
   "cell_type": "code",
   "execution_count": 122,
   "metadata": {},
   "outputs": [],
   "source": [
    "# Map weights for the first principal component to corresponding feature names\n",
    "# and then print the linked values, sorted by weight.\n",
    "# HINT: Try defining a function here or in a new cell that you can reuse in the\n",
    "# other cells.\n",
    "def weightsOfPca(componentIndex):\n",
    "    components=pca.components_[componentIndex]\n",
    "    componentspd=pd.DataFrame(components,columns=['weight'])\n",
    "    componentspd['name']=list(my_azdias_customers_df.columns)\n",
    "    print(componentspd.sort_values(by='weight',ascending=False))"
   ]
  },
  {
   "cell_type": "code",
   "execution_count": 123,
   "metadata": {},
   "outputs": [
    {
     "name": "stdout",
     "output_type": "stream",
     "text": [
      "       weight                       name\n",
      "189  0.136016                 MOBI_REGIO\n",
      "128  0.129373             LP_STATUS_FEIN\n",
      "18   0.127156             LP_STATUS_GROB\n",
      "204  0.127016                KBA05_ANTG1\n",
      "72   0.126196                KBA13_ANTG1\n",
      "46   0.125356                 PLZ8_ANTG1\n",
      "52   0.122247             KBA05_AUTOQUOT\n",
      "324  0.121725                MOBI_RASTER\n",
      "213  0.118765                  KBA05_GBZ\n",
      "110  0.116641          FINANZ_MINIMALIST\n",
      "68   0.112059            KBA13_AUTOQUOTE\n",
      "215  0.109139        LP_LEBENSPHASE_FEIN\n",
      "283  0.101687        LP_LEBENSPHASE_GROB\n",
      "146  0.095407                  KBA13_GBZ\n",
      "251  0.093284          D19_GESAMT_ANZ_24\n",
      "271  0.092377                   PLZ8_GBZ\n",
      "182  0.090829               KBA05_ANHANG\n",
      "299  0.090728                GEMEINDETYP\n",
      "30   0.087561         D19_VERSAND_ANZ_24\n",
      "302  0.086494          D19_GESAMT_ANZ_12\n",
      "185  0.086321       KBA13_ALTERHALTER_60\n",
      "2    0.086013               ANZ_PERSONEN\n",
      "134  0.085518                KONSUMNAEHE\n",
      "191  0.085350             KBA05_KRSAQUOT\n",
      "129  0.083825            LP_FAMILIE_GROB\n",
      "224  0.083375            KBA13_HALTER_55\n",
      "255  0.082884            LP_FAMILIE_FEIN\n",
      "172  0.081924          ONLINE_AFFINITAET\n",
      "115  0.080653                 INNENSTADT\n",
      "194  0.080252         D19_VERSAND_ANZ_12\n",
      "..        ...                        ...\n",
      "7   -0.073853        ANZ_HAUSHALTE_AKTIV\n",
      "211 -0.074083  D19_VERSAND_OFFLINE_DATUM\n",
      "221 -0.074942   D19_GESAMT_OFFLINE_DATUM\n",
      "259 -0.075661                 AKT_DAT_KL\n",
      "329 -0.075915            KBA13_HALTER_35\n",
      "286 -0.081884                KBA05_ANTG3\n",
      "228 -0.082033                KBA05_ANTG4\n",
      "152 -0.082153                 PLZ8_ANTG2\n",
      "48  -0.082730   D19_VERSAND_ONLINE_DATUM\n",
      "180 -0.083115            KBA13_HALTER_30\n",
      "187 -0.085015                     ARBEIT\n",
      "27  -0.085854    D19_GESAMT_ONLINE_DATUM\n",
      "223 -0.090379                   ZABEOTYP\n",
      "132 -0.091799          D19_VERSAND_DATUM\n",
      "67  -0.095717                    VK_ZG11\n",
      "306 -0.095809           D19_GESAMT_DATUM\n",
      "322 -0.095991                ORTSGR_KLS9\n",
      "219 -0.096521                   EWDICHTE\n",
      "108 -0.096942          D19_KONSUMTYP_MAX\n",
      "156 -0.099397                   VK_DHT4A\n",
      "340 -0.101448           FINANZ_HAUSBAUER\n",
      "94  -0.104023                 VK_DISTANZ\n",
      "98  -0.119362                 PLZ8_ANTG4\n",
      "97  -0.119592                PLZ8_BAUMAX\n",
      "65  -0.120456                KBA13_ANTG4\n",
      "202 -0.120585            CAMEO_DEUG_2015\n",
      "66  -0.121301               KBA13_BAUMAX\n",
      "56  -0.123521                KBA13_ANTG3\n",
      "253 -0.123921                 PLZ8_ANTG3\n",
      "12  -0.126742         HH_EINKOMMEN_SCORE\n",
      "\n",
      "[349 rows x 2 columns]\n"
     ]
    }
   ],
   "source": [
    "weightsOfPca(0)"
   ]
  },
  {
   "cell_type": "code",
   "execution_count": 124,
   "metadata": {},
   "outputs": [
    {
     "name": "stdout",
     "output_type": "stream",
     "text": [
      "       weight                         name\n",
      "193  0.157500         KBA13_HERST_BMW_BENZ\n",
      "262  0.135156               KBA13_MERCEDES\n",
      "127  0.133303  KBA13_SEG_OBEREMITTELKLASSE\n",
      "300  0.130511                    KBA13_BMW\n",
      "206  0.123649                KBA13_SITZE_4\n",
      "86   0.123323         KBA13_SEG_SPORTWAGEN\n",
      "256  0.114257                 KBA05_HERST1\n",
      "207  0.112906                KBA13_KMH_211\n",
      "85   0.110920                KBA13_KMH_250\n",
      "192  0.109653                 KBA13_KW_121\n",
      "343  0.106447                    KBA05_KW3\n",
      "240  0.106152         KBA13_SEG_OBERKLASSE\n",
      "237  0.104209               KBA13_CCM_2501\n",
      "116  0.100319      KBA13_KRSHERST_BMW_BENZ\n",
      "264  0.096743               KBA13_CCM_3000\n",
      "25   0.095980                  KBA05_MOTOR\n",
      "151  0.094144                   KBA05_MOD1\n",
      "344  0.092604              KBA13_HALTER_65\n",
      "181  0.091977                   KBA05_CCM4\n",
      "348  0.091968                OST_WEST_KZ_W\n",
      "273  0.090431               KBA13_CCM_3001\n",
      "71   0.089265             FINANZ_VORSORGER\n",
      "250  0.084993                   KBA05_SEG5\n",
      "219  0.080667                     EWDICHTE\n",
      "59   0.079675         KBA13_ALTERHALTER_61\n",
      "14   0.077438               KBA13_CCM_2500\n",
      "39   0.076788                    CJT_TYP_4\n",
      "27   0.076589      D19_GESAMT_ONLINE_DATUM\n",
      "278  0.075400                  STRUKTURTYP\n",
      "48   0.074353     D19_VERSAND_ONLINE_DATUM\n",
      "..        ...                          ...\n",
      "338 -0.074587                   KBA05_CCM1\n",
      "276 -0.074866                     WOHNLAGE\n",
      "257 -0.074975               KBA05_MAXHERST\n",
      "32  -0.075877                   KBA13_OPEL\n",
      "118 -0.075961                    CJT_TYP_1\n",
      "185 -0.076000         KBA13_ALTERHALTER_60\n",
      "302 -0.077253            D19_GESAMT_ANZ_12\n",
      "109 -0.077581               KBA13_CCM_1400\n",
      "40  -0.079992               RT_KEIN_ANREIZ\n",
      "43  -0.080214                FINANZ_SPARER\n",
      "78  -0.080720     KBA13_KRSHERST_FORD_OPEL\n",
      "251 -0.080746            D19_GESAMT_ANZ_24\n",
      "311 -0.081079              KBA13_FAB_ASIEN\n",
      "233 -0.081998         KBA13_ALTERHALTER_30\n",
      "200 -0.082072                    KBA05_KW1\n",
      "172 -0.083858            ONLINE_AFFINITAET\n",
      "41  -0.085048            KBA13_HERST_ASIEN\n",
      "99  -0.087366        PRAEGENDE_JUGENDJAHRE\n",
      "280 -0.087494            KBA13_SEG_KLEINST\n",
      "77  -0.091683        KBA13_HERST_FORD_OPEL\n",
      "347 -0.091968                OST_WEST_KZ_O\n",
      "133 -0.092483              KBA13_HALTER_20\n",
      "339 -0.095589      KBA13_SEG_KOMPAKTKLASSE\n",
      "244 -0.098529                KBA13_KW_0_60\n",
      "234 -0.105071              KBA13_HALTER_25\n",
      "318 -0.108051                KBA13_KMH_180\n",
      "55  -0.112546         KBA13_SEG_KLEINWAGEN\n",
      "84  -0.112817               FINANZ_ANLEGER\n",
      "303 -0.114429            KBA13_KMH_140_210\n",
      "33  -0.126632                KBA13_SITZE_5\n",
      "\n",
      "[349 rows x 2 columns]\n"
     ]
    }
   ],
   "source": [
    "weightsOfPca(1)"
   ]
  },
  {
   "cell_type": "code",
   "execution_count": 125,
   "metadata": {},
   "outputs": [],
   "source": [
    "def pca_analysis(ind):\n",
    "    first_comp=pca.components_[ind]\n",
    "    first_comp_sorted=sorted(first_comp,reverse=True)\n",
    "    first_comp_index=sorted(range(len(first_comp)), key=lambda k: first_comp[k])\n",
    "    cols_sorted=scaled_df.columns[first_comp_index]\n",
    "    positive_index=first_comp_index[:10]\n",
    "    negative_index=first_comp_index[-10:]\n",
    "    positive_cols=cols_sorted[:10]\n",
    "    negative_cols=cols_sorted[-10:]\n",
    "    positive_weights=first_comp_sorted[:10]\n",
    "    negative_weights=first_comp_sorted[-10:]\n",
    "    for i in range(10):\n",
    "        print('Positive: ',positive_index[i],positive_cols[i],positive_weights[i],' Negative: ',negative_index[i],negative_cols[i],negative_weights[i])"
   ]
  },
  {
   "cell_type": "code",
   "execution_count": 126,
   "metadata": {},
   "outputs": [
    {
     "name": "stdout",
     "output_type": "stream",
     "text": [
      "Positive:  33 KBA13_SITZE_5 0.1575004913365811  Negative:  192 KBA13_KW_121 -0.09196752627009297\n",
      "Positive:  303 KBA13_KMH_140_210 0.13515553313918688  Negative:  85 KBA13_KMH_250 -0.09248321309499503\n",
      "Positive:  84 FINANZ_ANLEGER 0.1333034095087291  Negative:  207 KBA13_KMH_211 -0.09558855025852886\n",
      "Positive:  55 KBA13_SEG_KLEINWAGEN 0.13051064098046616  Negative:  256 KBA05_HERST1 -0.09852922394638103\n",
      "Positive:  318 KBA13_KMH_180 0.12364938372455153  Negative:  86 KBA13_SEG_SPORTWAGEN -0.10507108531821921\n",
      "Positive:  234 KBA13_HALTER_25 0.12332333975420941  Negative:  206 KBA13_SITZE_4 -0.10805083655378014\n",
      "Positive:  244 KBA13_KW_0_60 0.11425714211388048  Negative:  300 KBA13_BMW -0.11254636897471776\n",
      "Positive:  339 KBA13_SEG_KOMPAKTKLASSE 0.1129056599412038  Negative:  127 KBA13_SEG_OBEREMITTELKLASSE -0.1128167376764313\n",
      "Positive:  133 KBA13_HALTER_20 0.11091981229895771  Negative:  262 KBA13_MERCEDES -0.11442850924585242\n",
      "Positive:  347 OST_WEST_KZ_O 0.10965312272552415  Negative:  193 KBA13_HERST_BMW_BENZ -0.1266317725823912\n"
     ]
    }
   ],
   "source": [
    "pca_analysis(1)"
   ]
  },
  {
   "cell_type": "code",
   "execution_count": 127,
   "metadata": {},
   "outputs": [
    {
     "name": "stdout",
     "output_type": "stream",
     "text": [
      "Positive:  27 D19_GESAMT_ONLINE_DATUM 0.1459509340944191  Negative:  118 CJT_TYP_1 -0.10574427719388738\n",
      "Positive:  48 D19_VERSAND_ONLINE_DATUM 0.1370043965912984  Negative:  154 D19_VERSAND_ONLINE_QUOTE_12 -0.11342116180142268\n",
      "Positive:  306 D19_GESAMT_DATUM 0.129716049796521  Negative:  194 D19_VERSAND_ANZ_12 -0.11450891816019308\n",
      "Positive:  132 D19_VERSAND_DATUM 0.12660064569715726  Negative:  316 D19_GESAMT_ONLINE_QUOTE_12 -0.1160040759415515\n",
      "Positive:  26 CJT_TYP_3 0.12606925812239078  Negative:  99 PRAEGENDE_JUGENDJAHRE -0.11615009579975284\n",
      "Positive:  238 CJT_TYP_5 0.12593726297935443  Negative:  30 D19_VERSAND_ANZ_24 -0.12060841367008515\n",
      "Positive:  57 CJT_TYP_6 0.11915417506184114  Negative:  21 CJT_TYP_2 -0.12423262452204939\n",
      "Positive:  44 CJT_KATALOGNUTZER 0.11684845491378267  Negative:  302 D19_GESAMT_ANZ_12 -0.12606090406358658\n",
      "Positive:  39 CJT_TYP_4 0.11596747537269694  Negative:  251 D19_GESAMT_ANZ_24 -0.1290605767202964\n",
      "Positive:  156 VK_DHT4A 0.1157838359645995  Negative:  172 ONLINE_AFFINITAET -0.1337944606140976\n"
     ]
    }
   ],
   "source": [
    "pca_analysis(2)"
   ]
  },
  {
   "cell_type": "code",
   "execution_count": 133,
   "metadata": {},
   "outputs": [
    {
     "name": "stdout",
     "output_type": "stream",
     "text": [
      "For Cluster 2 Processing is going on\n"
     ]
    },
    {
     "ename": "KeyboardInterrupt",
     "evalue": "",
     "output_type": "error",
     "traceback": [
      "\u001b[1;31m---------------------------------------------------------------------------\u001b[0m",
      "\u001b[1;31mKeyboardInterrupt\u001b[0m                         Traceback (most recent call last)",
      "\u001b[1;32m<timed exec>\u001b[0m in \u001b[0;36m<module>\u001b[1;34m()\u001b[0m\n",
      "\u001b[1;32mc:\\program files\\python3\\lib\\site-packages\\sklearn\\cluster\\k_means_.py\u001b[0m in \u001b[0;36mfit_predict\u001b[1;34m(self, X, y)\u001b[0m\n\u001b[0;32m    915\u001b[0m             \u001b[0mIndex\u001b[0m \u001b[0mof\u001b[0m \u001b[0mthe\u001b[0m \u001b[0mcluster\u001b[0m \u001b[0meach\u001b[0m \u001b[0msample\u001b[0m \u001b[0mbelongs\u001b[0m \u001b[0mto\u001b[0m\u001b[1;33m.\u001b[0m\u001b[1;33m\u001b[0m\u001b[0m\n\u001b[0;32m    916\u001b[0m         \"\"\"\n\u001b[1;32m--> 917\u001b[1;33m         \u001b[1;32mreturn\u001b[0m \u001b[0mself\u001b[0m\u001b[1;33m.\u001b[0m\u001b[0mfit\u001b[0m\u001b[1;33m(\u001b[0m\u001b[0mX\u001b[0m\u001b[1;33m)\u001b[0m\u001b[1;33m.\u001b[0m\u001b[0mlabels_\u001b[0m\u001b[1;33m\u001b[0m\u001b[0m\n\u001b[0m\u001b[0;32m    918\u001b[0m \u001b[1;33m\u001b[0m\u001b[0m\n\u001b[0;32m    919\u001b[0m     \u001b[1;32mdef\u001b[0m \u001b[0mfit_transform\u001b[0m\u001b[1;33m(\u001b[0m\u001b[0mself\u001b[0m\u001b[1;33m,\u001b[0m \u001b[0mX\u001b[0m\u001b[1;33m,\u001b[0m \u001b[0my\u001b[0m\u001b[1;33m=\u001b[0m\u001b[1;32mNone\u001b[0m\u001b[1;33m)\u001b[0m\u001b[1;33m:\u001b[0m\u001b[1;33m\u001b[0m\u001b[0m\n",
      "\u001b[1;32mc:\\program files\\python3\\lib\\site-packages\\sklearn\\cluster\\k_means_.py\u001b[0m in \u001b[0;36mfit\u001b[1;34m(self, X, y)\u001b[0m\n\u001b[0;32m    894\u001b[0m                 \u001b[0mtol\u001b[0m\u001b[1;33m=\u001b[0m\u001b[0mself\u001b[0m\u001b[1;33m.\u001b[0m\u001b[0mtol\u001b[0m\u001b[1;33m,\u001b[0m \u001b[0mrandom_state\u001b[0m\u001b[1;33m=\u001b[0m\u001b[0mrandom_state\u001b[0m\u001b[1;33m,\u001b[0m \u001b[0mcopy_x\u001b[0m\u001b[1;33m=\u001b[0m\u001b[0mself\u001b[0m\u001b[1;33m.\u001b[0m\u001b[0mcopy_x\u001b[0m\u001b[1;33m,\u001b[0m\u001b[1;33m\u001b[0m\u001b[0m\n\u001b[0;32m    895\u001b[0m                 \u001b[0mn_jobs\u001b[0m\u001b[1;33m=\u001b[0m\u001b[0mself\u001b[0m\u001b[1;33m.\u001b[0m\u001b[0mn_jobs\u001b[0m\u001b[1;33m,\u001b[0m \u001b[0malgorithm\u001b[0m\u001b[1;33m=\u001b[0m\u001b[0mself\u001b[0m\u001b[1;33m.\u001b[0m\u001b[0malgorithm\u001b[0m\u001b[1;33m,\u001b[0m\u001b[1;33m\u001b[0m\u001b[0m\n\u001b[1;32m--> 896\u001b[1;33m                 return_n_iter=True)\n\u001b[0m\u001b[0;32m    897\u001b[0m         \u001b[1;32mreturn\u001b[0m \u001b[0mself\u001b[0m\u001b[1;33m\u001b[0m\u001b[0m\n\u001b[0;32m    898\u001b[0m \u001b[1;33m\u001b[0m\u001b[0m\n",
      "\u001b[1;32mc:\\program files\\python3\\lib\\site-packages\\sklearn\\cluster\\k_means_.py\u001b[0m in \u001b[0;36mk_means\u001b[1;34m(X, n_clusters, init, precompute_distances, n_init, max_iter, verbose, tol, random_state, copy_x, n_jobs, algorithm, return_n_iter)\u001b[0m\n\u001b[0;32m    344\u001b[0m                 \u001b[0mX\u001b[0m\u001b[1;33m,\u001b[0m \u001b[0mn_clusters\u001b[0m\u001b[1;33m,\u001b[0m \u001b[0mmax_iter\u001b[0m\u001b[1;33m=\u001b[0m\u001b[0mmax_iter\u001b[0m\u001b[1;33m,\u001b[0m \u001b[0minit\u001b[0m\u001b[1;33m=\u001b[0m\u001b[0minit\u001b[0m\u001b[1;33m,\u001b[0m \u001b[0mverbose\u001b[0m\u001b[1;33m=\u001b[0m\u001b[0mverbose\u001b[0m\u001b[1;33m,\u001b[0m\u001b[1;33m\u001b[0m\u001b[0m\n\u001b[0;32m    345\u001b[0m                 \u001b[0mprecompute_distances\u001b[0m\u001b[1;33m=\u001b[0m\u001b[0mprecompute_distances\u001b[0m\u001b[1;33m,\u001b[0m \u001b[0mtol\u001b[0m\u001b[1;33m=\u001b[0m\u001b[0mtol\u001b[0m\u001b[1;33m,\u001b[0m\u001b[1;33m\u001b[0m\u001b[0m\n\u001b[1;32m--> 346\u001b[1;33m                 x_squared_norms=x_squared_norms, random_state=random_state)\n\u001b[0m\u001b[0;32m    347\u001b[0m             \u001b[1;31m# determine if these results are the best so far\u001b[0m\u001b[1;33m\u001b[0m\u001b[1;33m\u001b[0m\u001b[0m\n\u001b[0;32m    348\u001b[0m             \u001b[1;32mif\u001b[0m \u001b[0mbest_inertia\u001b[0m \u001b[1;32mis\u001b[0m \u001b[1;32mNone\u001b[0m \u001b[1;32mor\u001b[0m \u001b[0minertia\u001b[0m \u001b[1;33m<\u001b[0m \u001b[0mbest_inertia\u001b[0m\u001b[1;33m:\u001b[0m\u001b[1;33m\u001b[0m\u001b[0m\n",
      "\u001b[1;32mc:\\program files\\python3\\lib\\site-packages\\sklearn\\cluster\\k_means_.py\u001b[0m in \u001b[0;36m_kmeans_single_elkan\u001b[1;34m(X, n_clusters, max_iter, init, verbose, x_squared_norms, random_state, tol, precompute_distances)\u001b[0m\n\u001b[0;32m    398\u001b[0m         \u001b[0mprint\u001b[0m\u001b[1;33m(\u001b[0m\u001b[1;34m'Initialization complete'\u001b[0m\u001b[1;33m)\u001b[0m\u001b[1;33m\u001b[0m\u001b[0m\n\u001b[0;32m    399\u001b[0m     centers, labels, n_iter = k_means_elkan(X, n_clusters, centers, tol=tol,\n\u001b[1;32m--> 400\u001b[1;33m                                             max_iter=max_iter, verbose=verbose)\n\u001b[0m\u001b[0;32m    401\u001b[0m     \u001b[0minertia\u001b[0m \u001b[1;33m=\u001b[0m \u001b[0mnp\u001b[0m\u001b[1;33m.\u001b[0m\u001b[0msum\u001b[0m\u001b[1;33m(\u001b[0m\u001b[1;33m(\u001b[0m\u001b[0mX\u001b[0m \u001b[1;33m-\u001b[0m \u001b[0mcenters\u001b[0m\u001b[1;33m[\u001b[0m\u001b[0mlabels\u001b[0m\u001b[1;33m]\u001b[0m\u001b[1;33m)\u001b[0m \u001b[1;33m**\u001b[0m \u001b[1;36m2\u001b[0m\u001b[1;33m,\u001b[0m \u001b[0mdtype\u001b[0m\u001b[1;33m=\u001b[0m\u001b[0mnp\u001b[0m\u001b[1;33m.\u001b[0m\u001b[0mfloat64\u001b[0m\u001b[1;33m)\u001b[0m\u001b[1;33m\u001b[0m\u001b[0m\n\u001b[0;32m    402\u001b[0m     \u001b[1;32mreturn\u001b[0m \u001b[0mlabels\u001b[0m\u001b[1;33m,\u001b[0m \u001b[0minertia\u001b[0m\u001b[1;33m,\u001b[0m \u001b[0mcenters\u001b[0m\u001b[1;33m,\u001b[0m \u001b[0mn_iter\u001b[0m\u001b[1;33m\u001b[0m\u001b[0m\n",
      "\u001b[1;32msklearn\\cluster\\_k_means_elkan.pyx\u001b[0m in \u001b[0;36msklearn.cluster._k_means_elkan.k_means_elkan\u001b[1;34m()\u001b[0m\n",
      "\u001b[1;32mc:\\program files\\python3\\lib\\site-packages\\numpy\\core\\numeric.py\u001b[0m in \u001b[0;36mones\u001b[1;34m(shape, dtype, order)\u001b[0m\n\u001b[0;32m    201\u001b[0m \u001b[1;33m\u001b[0m\u001b[0m\n\u001b[0;32m    202\u001b[0m     \"\"\"\n\u001b[1;32m--> 203\u001b[1;33m     \u001b[0ma\u001b[0m \u001b[1;33m=\u001b[0m \u001b[0mempty\u001b[0m\u001b[1;33m(\u001b[0m\u001b[0mshape\u001b[0m\u001b[1;33m,\u001b[0m \u001b[0mdtype\u001b[0m\u001b[1;33m,\u001b[0m \u001b[0morder\u001b[0m\u001b[1;33m)\u001b[0m\u001b[1;33m\u001b[0m\u001b[0m\n\u001b[0m\u001b[0;32m    204\u001b[0m     \u001b[0mmultiarray\u001b[0m\u001b[1;33m.\u001b[0m\u001b[0mcopyto\u001b[0m\u001b[1;33m(\u001b[0m\u001b[0ma\u001b[0m\u001b[1;33m,\u001b[0m \u001b[1;36m1\u001b[0m\u001b[1;33m,\u001b[0m \u001b[0mcasting\u001b[0m\u001b[1;33m=\u001b[0m\u001b[1;34m'unsafe'\u001b[0m\u001b[1;33m)\u001b[0m\u001b[1;33m\u001b[0m\u001b[0m\n\u001b[0;32m    205\u001b[0m     \u001b[1;32mreturn\u001b[0m \u001b[0ma\u001b[0m\u001b[1;33m\u001b[0m\u001b[0m\n",
      "\u001b[1;31mKeyboardInterrupt\u001b[0m: "
     ]
    }
   ],
   "source": [
    "%%time\n",
    "kmeans_avg=[]\n",
    "kmeans_res_li=[]\n",
    "# Over a number of different cluster counts...\n",
    "for ind in range(2,10):\n",
    "    # run k-means clustering on the data and...\n",
    "    print('For Cluster',ind,'Processing is going on')\n",
    "    kmeans=KMeans(n_clusters=ind, random_state=0)\n",
    "    res_kmeans=kmeans.fit_predict(principalComponents_updated)\n",
    "    kmeans_res_li.append(res_kmeans)\n",
    "    # compute the average within-cluster distances.\n",
    "    kmeans_avg.append((kmeans.score(principalComponents_updated)/len(principalComponents_updated))*-1)"
   ]
  },
  {
   "cell_type": "code",
   "execution_count": 134,
   "metadata": {},
   "outputs": [
    {
     "ename": "NameError",
     "evalue": "name 'avgdists' is not defined",
     "output_type": "error",
     "traceback": [
      "\u001b[1;31m---------------------------------------------------------------------------\u001b[0m",
      "\u001b[1;31mNameError\u001b[0m                                 Traceback (most recent call last)",
      "\u001b[1;32m<ipython-input-134-54e04b513301>\u001b[0m in \u001b[0;36m<module>\u001b[1;34m()\u001b[0m\n\u001b[0;32m      6\u001b[0m \u001b[0mplt\u001b[0m\u001b[1;33m.\u001b[0m\u001b[0mylabel\u001b[0m\u001b[1;33m(\u001b[0m\u001b[1;34m'average distances'\u001b[0m\u001b[1;33m)\u001b[0m\u001b[1;33m\u001b[0m\u001b[0m\n\u001b[0;32m      7\u001b[0m \u001b[0mplt\u001b[0m\u001b[1;33m.\u001b[0m\u001b[0mxticks\u001b[0m\u001b[1;33m(\u001b[0m\u001b[1;33m[\u001b[0m\u001b[1;36m0\u001b[0m\u001b[1;33m,\u001b[0m\u001b[1;36m2\u001b[0m\u001b[1;33m,\u001b[0m\u001b[1;36m4\u001b[0m\u001b[1;33m,\u001b[0m\u001b[1;36m6\u001b[0m\u001b[1;33m,\u001b[0m\u001b[1;36m8\u001b[0m\u001b[1;33m,\u001b[0m\u001b[1;36m10\u001b[0m\u001b[1;33m,\u001b[0m\u001b[1;36m12\u001b[0m\u001b[1;33m,\u001b[0m\u001b[1;36m14\u001b[0m\u001b[1;33m,\u001b[0m\u001b[1;36m16\u001b[0m\u001b[1;33m,\u001b[0m\u001b[1;36m18\u001b[0m\u001b[1;33m,\u001b[0m\u001b[1;36m20\u001b[0m\u001b[1;33m,\u001b[0m\u001b[1;36m22\u001b[0m\u001b[1;33m,\u001b[0m\u001b[1;36m24\u001b[0m\u001b[1;33m,\u001b[0m\u001b[1;36m26\u001b[0m\u001b[1;33m,\u001b[0m\u001b[1;36m28\u001b[0m\u001b[1;33m]\u001b[0m\u001b[1;33m,\u001b[0m\u001b[1;33m[\u001b[0m\u001b[1;36m2\u001b[0m\u001b[1;33m,\u001b[0m\u001b[1;36m4\u001b[0m\u001b[1;33m,\u001b[0m\u001b[1;36m6\u001b[0m\u001b[1;33m,\u001b[0m\u001b[1;36m8\u001b[0m\u001b[1;33m,\u001b[0m\u001b[1;36m10\u001b[0m\u001b[1;33m,\u001b[0m\u001b[1;36m12\u001b[0m\u001b[1;33m,\u001b[0m\u001b[1;36m14\u001b[0m\u001b[1;33m,\u001b[0m\u001b[1;36m16\u001b[0m\u001b[1;33m,\u001b[0m\u001b[1;36m18\u001b[0m\u001b[1;33m,\u001b[0m\u001b[1;36m20\u001b[0m\u001b[1;33m,\u001b[0m\u001b[1;36m22\u001b[0m\u001b[1;33m,\u001b[0m\u001b[1;36m24\u001b[0m\u001b[1;33m,\u001b[0m\u001b[1;36m26\u001b[0m\u001b[1;33m,\u001b[0m\u001b[1;36m28\u001b[0m\u001b[1;33m,\u001b[0m\u001b[1;36m30\u001b[0m\u001b[1;33m]\u001b[0m\u001b[1;33m)\u001b[0m\u001b[1;33m\u001b[0m\u001b[0m\n\u001b[1;32m----> 8\u001b[1;33m \u001b[0mplt\u001b[0m\u001b[1;33m.\u001b[0m\u001b[0mplot\u001b[0m\u001b[1;33m(\u001b[0m\u001b[0mavgdists\u001b[0m\u001b[1;33m,\u001b[0m\u001b[0mmarker\u001b[0m\u001b[1;33m=\u001b[0m\u001b[1;34m'o'\u001b[0m\u001b[1;33m)\u001b[0m\u001b[1;33m\u001b[0m\u001b[0m\n\u001b[0m",
      "\u001b[1;31mNameError\u001b[0m: name 'avgdists' is not defined"
     ]
    },
    {
     "data": {
      "image/png": "[encoded data removed]",
      "text/plain": [
       "<Figure size 1080x576 with 1 Axes>"
      ]
     },
     "metadata": {},
     "output_type": "display_data"
    }
   ],
   "source": [
    "# Investigate the change in within-cluster distance across number of clusters.\n",
    "# HINT: Use matplotlib's plot function to visualize this relationship.\n",
    "plt.figure(figsize=(15,8)) \n",
    "plt.title('average distances of K-mean')\n",
    "plt.xlabel('Number of clusters')\n",
    "plt.ylabel('average distances')\n",
    "plt.xticks([0,2,4,6,8,10,12,14,16,18,20,22,24,26,28],[2,4,6,8,10,12,14,16,18,20,22,24,26,28,30])\n",
    "plt.plot(avgdists,marker='o')"
   ]
  },
  {
   "cell_type": "code",
   "execution_count": 130,
   "metadata": {},
   "outputs": [
    {
     "name": "stdout",
     "output_type": "stream",
     "text": [
      "[257.2162628316273, 247.61131779725787, 241.41867210053198, 236.42086584695946, 232.3060948168987, 229.04852315731367, 226.5262459245744, 224.11702674319199]\n"
     ]
    }
   ],
   "source": [
    "print(kmeans_avg)"
   ]
  },
  {
   "cell_type": "markdown",
   "metadata": {},
   "source": [
    "- I think 18 is the best."
   ]
  },
  {
   "cell_type": "code",
   "execution_count": 135,
   "metadata": {},
   "outputs": [],
   "source": [
    "# Re-fit the k-means model with the selected number of clusters and obtain\n",
    "# cluster predictions for the general population demographics data.\n",
    "kmeans=KMeans(n_clusters=18, random_state=0)\n",
    "res_kmeans_18=kmeans.fit_predict(principalComponents_updated)"
   ]
  },
  {
   "cell_type": "code",
   "execution_count": 137,
   "metadata": {},
   "outputs": [
    {
     "name": "stdout",
     "output_type": "stream",
     "text": [
      "[ 3  3  2 ... 17 13  5]\n"
     ]
    }
   ],
   "source": [
    "print(res_kmeans_18)"
   ]
  },
  {
   "cell_type": "code",
   "execution_count": 138,
   "metadata": {},
   "outputs": [],
   "source": [
    "res_kmeans_18_azdias=res_kmeans_18"
   ]
  },
  {
   "cell_type": "code",
   "execution_count": 139,
   "metadata": {},
   "outputs": [
    {
     "data": {
      "text/plain": [
       "871460"
      ]
     },
     "execution_count": 139,
     "metadata": {},
     "output_type": "execute_result"
    }
   ],
   "source": [
    "len(res_kmeans_18)"
   ]
  },
  {
   "cell_type": "code",
   "execution_count": null,
   "metadata": {},
   "outputs": [],
   "source": []
  },
  {
   "cell_type": "code",
   "execution_count": null,
   "metadata": {},
   "outputs": [],
   "source": []
  },
  {
   "cell_type": "markdown",
   "metadata": {},
   "source": [
    "## Part 2: Supervised Learning Model\n",
    "\n",
    "Now that you've found which parts of the population are more likely to be customers of the mail-order company, it's time to build a prediction model. Each of the rows in the \"MAILOUT\" data files represents an individual that was targeted for a mailout campaign. Ideally, we should be able to use the demographic information from each individual to decide whether or not it will be worth it to include that person in the campaign.\n",
    "\n",
    "The \"MAILOUT\" data has been split into two approximately equal parts, each with almost 43 000 data rows. In this part, you can verify your model with the \"TRAIN\" partition, which includes a column, \"RESPONSE\", that states whether or not a person became a customer of the company following the campaign. In the next part, you'll need to create predictions on the \"TEST\" partition, where the \"RESPONSE\" column has been withheld."
   ]
  },
  {
   "cell_type": "code",
   "execution_count": 45,
   "metadata": {},
   "outputs": [
    {
     "ename": "FileNotFoundError",
     "evalue": "File b'../../data/Term2/capstone/arvato_data/Udacity_MAILOUT_052018_TRAIN.csv' does not exist",
     "output_type": "error",
     "traceback": [
      "\u001b[1;31m---------------------------------------------------------------------------\u001b[0m",
      "\u001b[1;31mFileNotFoundError\u001b[0m                         Traceback (most recent call last)",
      "\u001b[1;32m<ipython-input-45-47db2225acf8>\u001b[0m in \u001b[0;36m<module>\u001b[1;34m()\u001b[0m\n\u001b[1;32m----> 1\u001b[1;33m \u001b[0mmailout_train\u001b[0m \u001b[1;33m=\u001b[0m \u001b[0mpd\u001b[0m\u001b[1;33m.\u001b[0m\u001b[0mread_csv\u001b[0m\u001b[1;33m(\u001b[0m\u001b[1;34m'../../data/Term2/capstone/arvato_data/Udacity_MAILOUT_052018_TRAIN.csv'\u001b[0m\u001b[1;33m,\u001b[0m \u001b[0msep\u001b[0m\u001b[1;33m=\u001b[0m\u001b[1;34m';'\u001b[0m\u001b[1;33m)\u001b[0m\u001b[1;33m\u001b[0m\u001b[0m\n\u001b[0m",
      "\u001b[1;32mc:\\program files\\python3\\lib\\site-packages\\pandas\\io\\parsers.py\u001b[0m in \u001b[0;36mparser_f\u001b[1;34m(filepath_or_buffer, sep, delimiter, header, names, index_col, usecols, squeeze, prefix, mangle_dupe_cols, dtype, engine, converters, true_values, false_values, skipinitialspace, skiprows, nrows, na_values, keep_default_na, na_filter, verbose, skip_blank_lines, parse_dates, infer_datetime_format, keep_date_col, date_parser, dayfirst, iterator, chunksize, compression, thousands, decimal, lineterminator, quotechar, quoting, escapechar, comment, encoding, dialect, tupleize_cols, error_bad_lines, warn_bad_lines, skipfooter, doublequote, delim_whitespace, low_memory, memory_map, float_precision)\u001b[0m\n\u001b[0;32m    676\u001b[0m                     skip_blank_lines=skip_blank_lines)\n\u001b[0;32m    677\u001b[0m \u001b[1;33m\u001b[0m\u001b[0m\n\u001b[1;32m--> 678\u001b[1;33m         \u001b[1;32mreturn\u001b[0m \u001b[0m_read\u001b[0m\u001b[1;33m(\u001b[0m\u001b[0mfilepath_or_buffer\u001b[0m\u001b[1;33m,\u001b[0m \u001b[0mkwds\u001b[0m\u001b[1;33m)\u001b[0m\u001b[1;33m\u001b[0m\u001b[0m\n\u001b[0m\u001b[0;32m    679\u001b[0m \u001b[1;33m\u001b[0m\u001b[0m\n\u001b[0;32m    680\u001b[0m     \u001b[0mparser_f\u001b[0m\u001b[1;33m.\u001b[0m\u001b[0m__name__\u001b[0m \u001b[1;33m=\u001b[0m \u001b[0mname\u001b[0m\u001b[1;33m\u001b[0m\u001b[0m\n",
      "\u001b[1;32mc:\\program files\\python3\\lib\\site-packages\\pandas\\io\\parsers.py\u001b[0m in \u001b[0;36m_read\u001b[1;34m(filepath_or_buffer, kwds)\u001b[0m\n\u001b[0;32m    438\u001b[0m \u001b[1;33m\u001b[0m\u001b[0m\n\u001b[0;32m    439\u001b[0m     \u001b[1;31m# Create the parser.\u001b[0m\u001b[1;33m\u001b[0m\u001b[1;33m\u001b[0m\u001b[0m\n\u001b[1;32m--> 440\u001b[1;33m     \u001b[0mparser\u001b[0m \u001b[1;33m=\u001b[0m \u001b[0mTextFileReader\u001b[0m\u001b[1;33m(\u001b[0m\u001b[0mfilepath_or_buffer\u001b[0m\u001b[1;33m,\u001b[0m \u001b[1;33m**\u001b[0m\u001b[0mkwds\u001b[0m\u001b[1;33m)\u001b[0m\u001b[1;33m\u001b[0m\u001b[0m\n\u001b[0m\u001b[0;32m    441\u001b[0m \u001b[1;33m\u001b[0m\u001b[0m\n\u001b[0;32m    442\u001b[0m     \u001b[1;32mif\u001b[0m \u001b[0mchunksize\u001b[0m \u001b[1;32mor\u001b[0m \u001b[0miterator\u001b[0m\u001b[1;33m:\u001b[0m\u001b[1;33m\u001b[0m\u001b[0m\n",
      "\u001b[1;32mc:\\program files\\python3\\lib\\site-packages\\pandas\\io\\parsers.py\u001b[0m in \u001b[0;36m__init__\u001b[1;34m(self, f, engine, **kwds)\u001b[0m\n\u001b[0;32m    785\u001b[0m             \u001b[0mself\u001b[0m\u001b[1;33m.\u001b[0m\u001b[0moptions\u001b[0m\u001b[1;33m[\u001b[0m\u001b[1;34m'has_index_names'\u001b[0m\u001b[1;33m]\u001b[0m \u001b[1;33m=\u001b[0m \u001b[0mkwds\u001b[0m\u001b[1;33m[\u001b[0m\u001b[1;34m'has_index_names'\u001b[0m\u001b[1;33m]\u001b[0m\u001b[1;33m\u001b[0m\u001b[0m\n\u001b[0;32m    786\u001b[0m \u001b[1;33m\u001b[0m\u001b[0m\n\u001b[1;32m--> 787\u001b[1;33m         \u001b[0mself\u001b[0m\u001b[1;33m.\u001b[0m\u001b[0m_make_engine\u001b[0m\u001b[1;33m(\u001b[0m\u001b[0mself\u001b[0m\u001b[1;33m.\u001b[0m\u001b[0mengine\u001b[0m\u001b[1;33m)\u001b[0m\u001b[1;33m\u001b[0m\u001b[0m\n\u001b[0m\u001b[0;32m    788\u001b[0m \u001b[1;33m\u001b[0m\u001b[0m\n\u001b[0;32m    789\u001b[0m     \u001b[1;32mdef\u001b[0m \u001b[0mclose\u001b[0m\u001b[1;33m(\u001b[0m\u001b[0mself\u001b[0m\u001b[1;33m)\u001b[0m\u001b[1;33m:\u001b[0m\u001b[1;33m\u001b[0m\u001b[0m\n",
      "\u001b[1;32mc:\\program files\\python3\\lib\\site-packages\\pandas\\io\\parsers.py\u001b[0m in \u001b[0;36m_make_engine\u001b[1;34m(self, engine)\u001b[0m\n\u001b[0;32m   1012\u001b[0m     \u001b[1;32mdef\u001b[0m \u001b[0m_make_engine\u001b[0m\u001b[1;33m(\u001b[0m\u001b[0mself\u001b[0m\u001b[1;33m,\u001b[0m \u001b[0mengine\u001b[0m\u001b[1;33m=\u001b[0m\u001b[1;34m'c'\u001b[0m\u001b[1;33m)\u001b[0m\u001b[1;33m:\u001b[0m\u001b[1;33m\u001b[0m\u001b[0m\n\u001b[0;32m   1013\u001b[0m         \u001b[1;32mif\u001b[0m \u001b[0mengine\u001b[0m \u001b[1;33m==\u001b[0m \u001b[1;34m'c'\u001b[0m\u001b[1;33m:\u001b[0m\u001b[1;33m\u001b[0m\u001b[0m\n\u001b[1;32m-> 1014\u001b[1;33m             \u001b[0mself\u001b[0m\u001b[1;33m.\u001b[0m\u001b[0m_engine\u001b[0m \u001b[1;33m=\u001b[0m \u001b[0mCParserWrapper\u001b[0m\u001b[1;33m(\u001b[0m\u001b[0mself\u001b[0m\u001b[1;33m.\u001b[0m\u001b[0mf\u001b[0m\u001b[1;33m,\u001b[0m \u001b[1;33m**\u001b[0m\u001b[0mself\u001b[0m\u001b[1;33m.\u001b[0m\u001b[0moptions\u001b[0m\u001b[1;33m)\u001b[0m\u001b[1;33m\u001b[0m\u001b[0m\n\u001b[0m\u001b[0;32m   1015\u001b[0m         \u001b[1;32melse\u001b[0m\u001b[1;33m:\u001b[0m\u001b[1;33m\u001b[0m\u001b[0m\n\u001b[0;32m   1016\u001b[0m             \u001b[1;32mif\u001b[0m \u001b[0mengine\u001b[0m \u001b[1;33m==\u001b[0m \u001b[1;34m'python'\u001b[0m\u001b[1;33m:\u001b[0m\u001b[1;33m\u001b[0m\u001b[0m\n",
      "\u001b[1;32mc:\\program files\\python3\\lib\\site-packages\\pandas\\io\\parsers.py\u001b[0m in \u001b[0;36m__init__\u001b[1;34m(self, src, **kwds)\u001b[0m\n\u001b[0;32m   1706\u001b[0m         \u001b[0mkwds\u001b[0m\u001b[1;33m[\u001b[0m\u001b[1;34m'usecols'\u001b[0m\u001b[1;33m]\u001b[0m \u001b[1;33m=\u001b[0m \u001b[0mself\u001b[0m\u001b[1;33m.\u001b[0m\u001b[0musecols\u001b[0m\u001b[1;33m\u001b[0m\u001b[0m\n\u001b[0;32m   1707\u001b[0m \u001b[1;33m\u001b[0m\u001b[0m\n\u001b[1;32m-> 1708\u001b[1;33m         \u001b[0mself\u001b[0m\u001b[1;33m.\u001b[0m\u001b[0m_reader\u001b[0m \u001b[1;33m=\u001b[0m \u001b[0mparsers\u001b[0m\u001b[1;33m.\u001b[0m\u001b[0mTextReader\u001b[0m\u001b[1;33m(\u001b[0m\u001b[0msrc\u001b[0m\u001b[1;33m,\u001b[0m \u001b[1;33m**\u001b[0m\u001b[0mkwds\u001b[0m\u001b[1;33m)\u001b[0m\u001b[1;33m\u001b[0m\u001b[0m\n\u001b[0m\u001b[0;32m   1709\u001b[0m \u001b[1;33m\u001b[0m\u001b[0m\n\u001b[0;32m   1710\u001b[0m         \u001b[0mpassed_names\u001b[0m \u001b[1;33m=\u001b[0m \u001b[0mself\u001b[0m\u001b[1;33m.\u001b[0m\u001b[0mnames\u001b[0m \u001b[1;32mis\u001b[0m \u001b[1;32mNone\u001b[0m\u001b[1;33m\u001b[0m\u001b[0m\n",
      "\u001b[1;32mpandas\\_libs\\parsers.pyx\u001b[0m in \u001b[0;36mpandas._libs.parsers.TextReader.__cinit__\u001b[1;34m()\u001b[0m\n",
      "\u001b[1;32mpandas\\_libs\\parsers.pyx\u001b[0m in \u001b[0;36mpandas._libs.parsers.TextReader._setup_parser_source\u001b[1;34m()\u001b[0m\n",
      "\u001b[1;31mFileNotFoundError\u001b[0m: File b'../../data/Term2/capstone/arvato_data/Udacity_MAILOUT_052018_TRAIN.csv' does not exist"
     ]
    }
   ],
   "source": [
    "mailout_train = pd.read_csv('./data/Term2/capstone/arvato_data/Udacity_MAILOUT_052018_TRAIN.csv', sep=';')"
   ]
  },
  {
   "cell_type": "code",
   "execution_count": null,
   "metadata": {},
   "outputs": [],
   "source": []
  },
  {
   "cell_type": "markdown",
   "metadata": {},
   "source": [
    "## Part 3: Kaggle Competition\n",
    "\n",
    "Now that you've created a model to predict which individuals are most likely to respond to a mailout campaign, it's time to test that model in competition through Kaggle. If you click on the link [here](http://www.kaggle.com/t/21e6d45d4c574c7fa2d868f0e8c83140), you'll be taken to the competition page where, if you have a Kaggle account, you can enter. If you're one of the top performers, you may have the chance to be contacted by a hiring manager from Arvato or Bertelsmann for an interview!\n",
    "\n",
    "Your entry to the competition should be a CSV file with two columns. The first column should be a copy of \"LNR\", which acts as an ID number for each individual in the \"TEST\" partition. The second column, \"RESPONSE\", should be some measure of how likely each individual became a customer – this might not be a straightforward probability. As you should have found in Part 2, there is a large output class imbalance, where most individuals did not respond to the mailout. Thus, predicting individual classes and using accuracy does not seem to be an appropriate performance evaluation method. Instead, the competition will be using AUC to evaluate performance. The exact values of the \"RESPONSE\" column do not matter as much: only that the higher values try to capture as many of the actual customers as possible, early in the ROC curve sweep."
   ]
  },
  {
   "cell_type": "code",
   "execution_count": null,
   "metadata": {},
   "outputs": [],
   "source": [
    "mailout_test = pd.read_csv('../../data/Term2/capstone/arvato_data/Udacity_MAILOUT_052018_TEST.csv', sep=';')"
   ]
  },
  {
   "cell_type": "code",
   "execution_count": null,
   "metadata": {},
   "outputs": [],
   "source": []
  },
  {
   "cell_type": "code",
   "execution_count": null,
   "metadata": {},
   "outputs": [],
   "source": []
  }
 ],
 "metadata": {
  "kernelspec": {
   "display_name": "Python 3",
   "language": "python",
   "name": "python3"
  },
  "language_info": {
   "codemirror_mode": {
    "name": "ipython",
    "version": 3
   },
   "file_extension": ".py",
   "mimetype": "text/x-python",
   "name": "python",
   "nbconvert_exporter": "python",
   "pygments_lexer": "ipython3",
   "version": "3.6.6"
  }
 },
 "nbformat": 4,
 "nbformat_minor": 2
}
